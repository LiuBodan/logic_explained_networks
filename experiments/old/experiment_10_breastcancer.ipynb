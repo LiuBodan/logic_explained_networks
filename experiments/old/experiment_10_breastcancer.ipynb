{
 "cells": [
  {
   "cell_type": "code",
   "execution_count": 336,
   "id": "specific-blade",
   "metadata": {},
   "outputs": [],
   "source": [
    "import sys\n",
    "sys.path.append('..')\n",
    "import pandas as pd\n",
    "import numpy as np\n",
    "from sklearn.preprocessing import LabelEncoder, MinMaxScaler, KBinsDiscretizer\n",
    "from sklearn.impute import SimpleImputer\n",
    "from sklearn.pipeline import Pipeline\n",
    "from sklearn.model_selection import cross_val_score\n",
    "from sklearn.tree import DecisionTreeClassifier\n",
    "from sklearn.ensemble import RandomForestClassifier\n",
    "from sklearn.model_selection import StratifiedKFold\n",
    "import time\n",
    "from sklearn.metrics import accuracy_score\n",
    "from collections import Counter\n",
    "import torch\n",
    "\n",
    "from deep_logic.utils.base import validate_network, set_seed, tree_to_formula\n",
    "from deep_logic.utils.relunn import get_reduced_model, prune_features\n",
    "from deep_logic.utils.sigmoidnn import prune_equal_fanin\n",
    "from deep_logic import logic"
   ]
  },
  {
   "cell_type": "code",
   "execution_count": 74,
   "id": "vulnerable-enough",
   "metadata": {},
   "outputs": [
    {
     "name": "stderr",
     "output_type": "stream",
     "text": [
      "c:\\users\\pietr\\anaconda3\\envs\\deep-logic\\lib\\site-packages\\IPython\\core\\interactiveshell.py:3146: DtypeWarning: Columns (678,688,690,692) have mixed types.Specify dtype option on import or set low_memory=False.\n",
      "  has_raised = await self.run_ast_nodes(code_ast.body, cell_name,\n"
     ]
    }
   ],
   "source": [
    "df = pd.read_csv('data/breast/METABRIC_RNA_Mutation.csv')"
   ]
  },
  {
   "cell_type": "code",
   "execution_count": 93,
   "id": "accompanied-madison",
   "metadata": {},
   "outputs": [
    {
     "data": {
      "text/html": [
       "<div>\n",
       "<style scoped>\n",
       "    .dataframe tbody tr th:only-of-type {\n",
       "        vertical-align: middle;\n",
       "    }\n",
       "\n",
       "    .dataframe tbody tr th {\n",
       "        vertical-align: top;\n",
       "    }\n",
       "\n",
       "    .dataframe thead th {\n",
       "        text-align: right;\n",
       "    }\n",
       "</style>\n",
       "<table border=\"1\" class=\"dataframe\">\n",
       "  <thead>\n",
       "    <tr style=\"text-align: right;\">\n",
       "      <th></th>\n",
       "      <th>patient_id</th>\n",
       "      <th>age_at_diagnosis</th>\n",
       "      <th>type_of_breast_surgery</th>\n",
       "      <th>cancer_type</th>\n",
       "      <th>cancer_type_detailed</th>\n",
       "      <th>cellularity</th>\n",
       "      <th>chemotherapy</th>\n",
       "      <th>pam50_+_claudin-low_subtype</th>\n",
       "      <th>cohort</th>\n",
       "      <th>er_status_measured_by_ihc</th>\n",
       "    </tr>\n",
       "  </thead>\n",
       "  <tbody>\n",
       "    <tr>\n",
       "      <th>0</th>\n",
       "      <td>0</td>\n",
       "      <td>75.65</td>\n",
       "      <td>MASTECTOMY</td>\n",
       "      <td>Breast Cancer</td>\n",
       "      <td>Breast Invasive Ductal Carcinoma</td>\n",
       "      <td>NaN</td>\n",
       "      <td>0</td>\n",
       "      <td>claudin-low</td>\n",
       "      <td>1.0</td>\n",
       "      <td>Positve</td>\n",
       "    </tr>\n",
       "    <tr>\n",
       "      <th>1</th>\n",
       "      <td>2</td>\n",
       "      <td>43.19</td>\n",
       "      <td>BREAST CONSERVING</td>\n",
       "      <td>Breast Cancer</td>\n",
       "      <td>Breast Invasive Ductal Carcinoma</td>\n",
       "      <td>High</td>\n",
       "      <td>0</td>\n",
       "      <td>LumA</td>\n",
       "      <td>1.0</td>\n",
       "      <td>Positve</td>\n",
       "    </tr>\n",
       "    <tr>\n",
       "      <th>2</th>\n",
       "      <td>5</td>\n",
       "      <td>48.87</td>\n",
       "      <td>MASTECTOMY</td>\n",
       "      <td>Breast Cancer</td>\n",
       "      <td>Breast Invasive Ductal Carcinoma</td>\n",
       "      <td>High</td>\n",
       "      <td>1</td>\n",
       "      <td>LumB</td>\n",
       "      <td>1.0</td>\n",
       "      <td>Positve</td>\n",
       "    </tr>\n",
       "    <tr>\n",
       "      <th>3</th>\n",
       "      <td>6</td>\n",
       "      <td>47.68</td>\n",
       "      <td>MASTECTOMY</td>\n",
       "      <td>Breast Cancer</td>\n",
       "      <td>Breast Mixed Ductal and Lobular Carcinoma</td>\n",
       "      <td>Moderate</td>\n",
       "      <td>1</td>\n",
       "      <td>LumB</td>\n",
       "      <td>1.0</td>\n",
       "      <td>Positve</td>\n",
       "    </tr>\n",
       "    <tr>\n",
       "      <th>4</th>\n",
       "      <td>8</td>\n",
       "      <td>76.97</td>\n",
       "      <td>MASTECTOMY</td>\n",
       "      <td>Breast Cancer</td>\n",
       "      <td>Breast Mixed Ductal and Lobular Carcinoma</td>\n",
       "      <td>High</td>\n",
       "      <td>1</td>\n",
       "      <td>LumB</td>\n",
       "      <td>1.0</td>\n",
       "      <td>Positve</td>\n",
       "    </tr>\n",
       "    <tr>\n",
       "      <th>...</th>\n",
       "      <td>...</td>\n",
       "      <td>...</td>\n",
       "      <td>...</td>\n",
       "      <td>...</td>\n",
       "      <td>...</td>\n",
       "      <td>...</td>\n",
       "      <td>...</td>\n",
       "      <td>...</td>\n",
       "      <td>...</td>\n",
       "      <td>...</td>\n",
       "    </tr>\n",
       "    <tr>\n",
       "      <th>1899</th>\n",
       "      <td>7295</td>\n",
       "      <td>43.10</td>\n",
       "      <td>BREAST CONSERVING</td>\n",
       "      <td>Breast Cancer</td>\n",
       "      <td>Breast Invasive Lobular Carcinoma</td>\n",
       "      <td>High</td>\n",
       "      <td>0</td>\n",
       "      <td>LumA</td>\n",
       "      <td>4.0</td>\n",
       "      <td>Positve</td>\n",
       "    </tr>\n",
       "    <tr>\n",
       "      <th>1900</th>\n",
       "      <td>7296</td>\n",
       "      <td>42.88</td>\n",
       "      <td>MASTECTOMY</td>\n",
       "      <td>Breast Cancer</td>\n",
       "      <td>Breast Invasive Ductal Carcinoma</td>\n",
       "      <td>High</td>\n",
       "      <td>0</td>\n",
       "      <td>LumB</td>\n",
       "      <td>4.0</td>\n",
       "      <td>Positve</td>\n",
       "    </tr>\n",
       "    <tr>\n",
       "      <th>1901</th>\n",
       "      <td>7297</td>\n",
       "      <td>62.90</td>\n",
       "      <td>MASTECTOMY</td>\n",
       "      <td>Breast Cancer</td>\n",
       "      <td>Breast Invasive Ductal Carcinoma</td>\n",
       "      <td>High</td>\n",
       "      <td>0</td>\n",
       "      <td>LumB</td>\n",
       "      <td>4.0</td>\n",
       "      <td>Positve</td>\n",
       "    </tr>\n",
       "    <tr>\n",
       "      <th>1902</th>\n",
       "      <td>7298</td>\n",
       "      <td>61.16</td>\n",
       "      <td>MASTECTOMY</td>\n",
       "      <td>Breast Cancer</td>\n",
       "      <td>Breast Invasive Ductal Carcinoma</td>\n",
       "      <td>Moderate</td>\n",
       "      <td>0</td>\n",
       "      <td>LumB</td>\n",
       "      <td>4.0</td>\n",
       "      <td>Positve</td>\n",
       "    </tr>\n",
       "    <tr>\n",
       "      <th>1903</th>\n",
       "      <td>7299</td>\n",
       "      <td>60.02</td>\n",
       "      <td>BREAST CONSERVING</td>\n",
       "      <td>Breast Cancer</td>\n",
       "      <td>Breast Invasive Ductal Carcinoma</td>\n",
       "      <td>High</td>\n",
       "      <td>0</td>\n",
       "      <td>LumB</td>\n",
       "      <td>4.0</td>\n",
       "      <td>Positve</td>\n",
       "    </tr>\n",
       "  </tbody>\n",
       "</table>\n",
       "<p>1904 rows × 10 columns</p>\n",
       "</div>"
      ],
      "text/plain": [
       "      patient_id  age_at_diagnosis type_of_breast_surgery    cancer_type  \\\n",
       "0              0             75.65             MASTECTOMY  Breast Cancer   \n",
       "1              2             43.19      BREAST CONSERVING  Breast Cancer   \n",
       "2              5             48.87             MASTECTOMY  Breast Cancer   \n",
       "3              6             47.68             MASTECTOMY  Breast Cancer   \n",
       "4              8             76.97             MASTECTOMY  Breast Cancer   \n",
       "...          ...               ...                    ...            ...   \n",
       "1899        7295             43.10      BREAST CONSERVING  Breast Cancer   \n",
       "1900        7296             42.88             MASTECTOMY  Breast Cancer   \n",
       "1901        7297             62.90             MASTECTOMY  Breast Cancer   \n",
       "1902        7298             61.16             MASTECTOMY  Breast Cancer   \n",
       "1903        7299             60.02      BREAST CONSERVING  Breast Cancer   \n",
       "\n",
       "                           cancer_type_detailed cellularity  chemotherapy  \\\n",
       "0              Breast Invasive Ductal Carcinoma         NaN             0   \n",
       "1              Breast Invasive Ductal Carcinoma        High             0   \n",
       "2              Breast Invasive Ductal Carcinoma        High             1   \n",
       "3     Breast Mixed Ductal and Lobular Carcinoma    Moderate             1   \n",
       "4     Breast Mixed Ductal and Lobular Carcinoma        High             1   \n",
       "...                                         ...         ...           ...   \n",
       "1899          Breast Invasive Lobular Carcinoma        High             0   \n",
       "1900           Breast Invasive Ductal Carcinoma        High             0   \n",
       "1901           Breast Invasive Ductal Carcinoma        High             0   \n",
       "1902           Breast Invasive Ductal Carcinoma    Moderate             0   \n",
       "1903           Breast Invasive Ductal Carcinoma        High             0   \n",
       "\n",
       "     pam50_+_claudin-low_subtype  cohort er_status_measured_by_ihc  \n",
       "0                    claudin-low     1.0                   Positve  \n",
       "1                           LumA     1.0                   Positve  \n",
       "2                           LumB     1.0                   Positve  \n",
       "3                           LumB     1.0                   Positve  \n",
       "4                           LumB     1.0                   Positve  \n",
       "...                          ...     ...                       ...  \n",
       "1899                        LumA     4.0                   Positve  \n",
       "1900                        LumB     4.0                   Positve  \n",
       "1901                        LumB     4.0                   Positve  \n",
       "1902                        LumB     4.0                   Positve  \n",
       "1903                        LumB     4.0                   Positve  \n",
       "\n",
       "[1904 rows x 10 columns]"
      ]
     },
     "execution_count": 93,
     "metadata": {},
     "output_type": "execute_result"
    }
   ],
   "source": [
    "df.iloc[:, :10]"
   ]
  },
  {
   "cell_type": "code",
   "execution_count": 95,
   "id": "technical-juvenile",
   "metadata": {},
   "outputs": [
    {
     "data": {
      "text/html": [
       "<div>\n",
       "<style scoped>\n",
       "    .dataframe tbody tr th:only-of-type {\n",
       "        vertical-align: middle;\n",
       "    }\n",
       "\n",
       "    .dataframe tbody tr th {\n",
       "        vertical-align: top;\n",
       "    }\n",
       "\n",
       "    .dataframe thead th {\n",
       "        text-align: right;\n",
       "    }\n",
       "</style>\n",
       "<table border=\"1\" class=\"dataframe\">\n",
       "  <thead>\n",
       "    <tr style=\"text-align: right;\">\n",
       "      <th></th>\n",
       "      <th>er_status</th>\n",
       "      <th>neoplasm_histologic_grade</th>\n",
       "      <th>her2_status_measured_by_snp6</th>\n",
       "      <th>her2_status</th>\n",
       "      <th>tumor_other_histologic_subtype</th>\n",
       "      <th>hormone_therapy</th>\n",
       "      <th>inferred_menopausal_state</th>\n",
       "      <th>integrative_cluster</th>\n",
       "      <th>primary_tumor_laterality</th>\n",
       "      <th>lymph_nodes_examined_positive</th>\n",
       "    </tr>\n",
       "  </thead>\n",
       "  <tbody>\n",
       "    <tr>\n",
       "      <th>0</th>\n",
       "      <td>Positive</td>\n",
       "      <td>3.0</td>\n",
       "      <td>NEUTRAL</td>\n",
       "      <td>Negative</td>\n",
       "      <td>Ductal/NST</td>\n",
       "      <td>1</td>\n",
       "      <td>Post</td>\n",
       "      <td>4ER+</td>\n",
       "      <td>Right</td>\n",
       "      <td>10.0</td>\n",
       "    </tr>\n",
       "    <tr>\n",
       "      <th>1</th>\n",
       "      <td>Positive</td>\n",
       "      <td>3.0</td>\n",
       "      <td>NEUTRAL</td>\n",
       "      <td>Negative</td>\n",
       "      <td>Ductal/NST</td>\n",
       "      <td>1</td>\n",
       "      <td>Pre</td>\n",
       "      <td>4ER+</td>\n",
       "      <td>Right</td>\n",
       "      <td>0.0</td>\n",
       "    </tr>\n",
       "    <tr>\n",
       "      <th>2</th>\n",
       "      <td>Positive</td>\n",
       "      <td>2.0</td>\n",
       "      <td>NEUTRAL</td>\n",
       "      <td>Negative</td>\n",
       "      <td>Ductal/NST</td>\n",
       "      <td>1</td>\n",
       "      <td>Pre</td>\n",
       "      <td>3</td>\n",
       "      <td>Right</td>\n",
       "      <td>1.0</td>\n",
       "    </tr>\n",
       "    <tr>\n",
       "      <th>3</th>\n",
       "      <td>Positive</td>\n",
       "      <td>2.0</td>\n",
       "      <td>NEUTRAL</td>\n",
       "      <td>Negative</td>\n",
       "      <td>Mixed</td>\n",
       "      <td>1</td>\n",
       "      <td>Pre</td>\n",
       "      <td>9</td>\n",
       "      <td>Right</td>\n",
       "      <td>3.0</td>\n",
       "    </tr>\n",
       "    <tr>\n",
       "      <th>4</th>\n",
       "      <td>Positive</td>\n",
       "      <td>3.0</td>\n",
       "      <td>NEUTRAL</td>\n",
       "      <td>Negative</td>\n",
       "      <td>Mixed</td>\n",
       "      <td>1</td>\n",
       "      <td>Post</td>\n",
       "      <td>9</td>\n",
       "      <td>Right</td>\n",
       "      <td>8.0</td>\n",
       "    </tr>\n",
       "    <tr>\n",
       "      <th>...</th>\n",
       "      <td>...</td>\n",
       "      <td>...</td>\n",
       "      <td>...</td>\n",
       "      <td>...</td>\n",
       "      <td>...</td>\n",
       "      <td>...</td>\n",
       "      <td>...</td>\n",
       "      <td>...</td>\n",
       "      <td>...</td>\n",
       "      <td>...</td>\n",
       "    </tr>\n",
       "    <tr>\n",
       "      <th>1899</th>\n",
       "      <td>Positive</td>\n",
       "      <td>3.0</td>\n",
       "      <td>NEUTRAL</td>\n",
       "      <td>Negative</td>\n",
       "      <td>Lobular</td>\n",
       "      <td>1</td>\n",
       "      <td>Pre</td>\n",
       "      <td>3</td>\n",
       "      <td>Right</td>\n",
       "      <td>1.0</td>\n",
       "    </tr>\n",
       "    <tr>\n",
       "      <th>1900</th>\n",
       "      <td>Positive</td>\n",
       "      <td>3.0</td>\n",
       "      <td>GAIN</td>\n",
       "      <td>Positive</td>\n",
       "      <td>Ductal/NST</td>\n",
       "      <td>0</td>\n",
       "      <td>Pre</td>\n",
       "      <td>5</td>\n",
       "      <td>NaN</td>\n",
       "      <td>1.0</td>\n",
       "    </tr>\n",
       "    <tr>\n",
       "      <th>1901</th>\n",
       "      <td>Positive</td>\n",
       "      <td>3.0</td>\n",
       "      <td>NEUTRAL</td>\n",
       "      <td>Negative</td>\n",
       "      <td>Ductal/NST</td>\n",
       "      <td>1</td>\n",
       "      <td>Post</td>\n",
       "      <td>1</td>\n",
       "      <td>Left</td>\n",
       "      <td>45.0</td>\n",
       "    </tr>\n",
       "    <tr>\n",
       "      <th>1902</th>\n",
       "      <td>Positive</td>\n",
       "      <td>2.0</td>\n",
       "      <td>NEUTRAL</td>\n",
       "      <td>Negative</td>\n",
       "      <td>Ductal/NST</td>\n",
       "      <td>1</td>\n",
       "      <td>Post</td>\n",
       "      <td>1</td>\n",
       "      <td>NaN</td>\n",
       "      <td>12.0</td>\n",
       "    </tr>\n",
       "    <tr>\n",
       "      <th>1903</th>\n",
       "      <td>Positive</td>\n",
       "      <td>3.0</td>\n",
       "      <td>NEUTRAL</td>\n",
       "      <td>Negative</td>\n",
       "      <td>Ductal/NST</td>\n",
       "      <td>1</td>\n",
       "      <td>Post</td>\n",
       "      <td>10</td>\n",
       "      <td>NaN</td>\n",
       "      <td>1.0</td>\n",
       "    </tr>\n",
       "  </tbody>\n",
       "</table>\n",
       "<p>1904 rows × 10 columns</p>\n",
       "</div>"
      ],
      "text/plain": [
       "     er_status  neoplasm_histologic_grade her2_status_measured_by_snp6  \\\n",
       "0     Positive                        3.0                      NEUTRAL   \n",
       "1     Positive                        3.0                      NEUTRAL   \n",
       "2     Positive                        2.0                      NEUTRAL   \n",
       "3     Positive                        2.0                      NEUTRAL   \n",
       "4     Positive                        3.0                      NEUTRAL   \n",
       "...        ...                        ...                          ...   \n",
       "1899  Positive                        3.0                      NEUTRAL   \n",
       "1900  Positive                        3.0                         GAIN   \n",
       "1901  Positive                        3.0                      NEUTRAL   \n",
       "1902  Positive                        2.0                      NEUTRAL   \n",
       "1903  Positive                        3.0                      NEUTRAL   \n",
       "\n",
       "     her2_status tumor_other_histologic_subtype  hormone_therapy  \\\n",
       "0       Negative                     Ductal/NST                1   \n",
       "1       Negative                     Ductal/NST                1   \n",
       "2       Negative                     Ductal/NST                1   \n",
       "3       Negative                          Mixed                1   \n",
       "4       Negative                          Mixed                1   \n",
       "...          ...                            ...              ...   \n",
       "1899    Negative                        Lobular                1   \n",
       "1900    Positive                     Ductal/NST                0   \n",
       "1901    Negative                     Ductal/NST                1   \n",
       "1902    Negative                     Ductal/NST                1   \n",
       "1903    Negative                     Ductal/NST                1   \n",
       "\n",
       "     inferred_menopausal_state integrative_cluster primary_tumor_laterality  \\\n",
       "0                         Post                4ER+                    Right   \n",
       "1                          Pre                4ER+                    Right   \n",
       "2                          Pre                   3                    Right   \n",
       "3                          Pre                   9                    Right   \n",
       "4                         Post                   9                    Right   \n",
       "...                        ...                 ...                      ...   \n",
       "1899                       Pre                   3                    Right   \n",
       "1900                       Pre                   5                      NaN   \n",
       "1901                      Post                   1                     Left   \n",
       "1902                      Post                   1                      NaN   \n",
       "1903                      Post                  10                      NaN   \n",
       "\n",
       "      lymph_nodes_examined_positive  \n",
       "0                              10.0  \n",
       "1                               0.0  \n",
       "2                               1.0  \n",
       "3                               3.0  \n",
       "4                               8.0  \n",
       "...                             ...  \n",
       "1899                            1.0  \n",
       "1900                            1.0  \n",
       "1901                           45.0  \n",
       "1902                           12.0  \n",
       "1903                            1.0  \n",
       "\n",
       "[1904 rows x 10 columns]"
      ]
     },
     "execution_count": 95,
     "metadata": {},
     "output_type": "execute_result"
    }
   ],
   "source": [
    "df.iloc[:, 10:20]"
   ]
  },
  {
   "cell_type": "code",
   "execution_count": 96,
   "id": "engaging-medline",
   "metadata": {},
   "outputs": [
    {
     "data": {
      "text/html": [
       "<div>\n",
       "<style scoped>\n",
       "    .dataframe tbody tr th:only-of-type {\n",
       "        vertical-align: middle;\n",
       "    }\n",
       "\n",
       "    .dataframe tbody tr th {\n",
       "        vertical-align: top;\n",
       "    }\n",
       "\n",
       "    .dataframe thead th {\n",
       "        text-align: right;\n",
       "    }\n",
       "</style>\n",
       "<table border=\"1\" class=\"dataframe\">\n",
       "  <thead>\n",
       "    <tr style=\"text-align: right;\">\n",
       "      <th></th>\n",
       "      <th>mutation_count</th>\n",
       "      <th>nottingham_prognostic_index</th>\n",
       "      <th>oncotree_code</th>\n",
       "      <th>overall_survival_months</th>\n",
       "      <th>overall_survival</th>\n",
       "      <th>pr_status</th>\n",
       "      <th>radio_therapy</th>\n",
       "      <th>3-gene_classifier_subtype</th>\n",
       "      <th>tumor_size</th>\n",
       "      <th>tumor_stage</th>\n",
       "      <th>death_from_cancer</th>\n",
       "    </tr>\n",
       "  </thead>\n",
       "  <tbody>\n",
       "    <tr>\n",
       "      <th>0</th>\n",
       "      <td>NaN</td>\n",
       "      <td>6.044</td>\n",
       "      <td>IDC</td>\n",
       "      <td>140.500000</td>\n",
       "      <td>1</td>\n",
       "      <td>Negative</td>\n",
       "      <td>1</td>\n",
       "      <td>ER-/HER2-</td>\n",
       "      <td>22.0</td>\n",
       "      <td>2.0</td>\n",
       "      <td>Living</td>\n",
       "    </tr>\n",
       "    <tr>\n",
       "      <th>1</th>\n",
       "      <td>2.0</td>\n",
       "      <td>4.020</td>\n",
       "      <td>IDC</td>\n",
       "      <td>84.633333</td>\n",
       "      <td>1</td>\n",
       "      <td>Positive</td>\n",
       "      <td>1</td>\n",
       "      <td>ER+/HER2- High Prolif</td>\n",
       "      <td>10.0</td>\n",
       "      <td>1.0</td>\n",
       "      <td>Living</td>\n",
       "    </tr>\n",
       "    <tr>\n",
       "      <th>2</th>\n",
       "      <td>2.0</td>\n",
       "      <td>4.030</td>\n",
       "      <td>IDC</td>\n",
       "      <td>163.700000</td>\n",
       "      <td>0</td>\n",
       "      <td>Positive</td>\n",
       "      <td>0</td>\n",
       "      <td>NaN</td>\n",
       "      <td>15.0</td>\n",
       "      <td>2.0</td>\n",
       "      <td>Died of Disease</td>\n",
       "    </tr>\n",
       "    <tr>\n",
       "      <th>3</th>\n",
       "      <td>1.0</td>\n",
       "      <td>4.050</td>\n",
       "      <td>MDLC</td>\n",
       "      <td>164.933333</td>\n",
       "      <td>1</td>\n",
       "      <td>Positive</td>\n",
       "      <td>1</td>\n",
       "      <td>NaN</td>\n",
       "      <td>25.0</td>\n",
       "      <td>2.0</td>\n",
       "      <td>Living</td>\n",
       "    </tr>\n",
       "    <tr>\n",
       "      <th>4</th>\n",
       "      <td>2.0</td>\n",
       "      <td>6.080</td>\n",
       "      <td>MDLC</td>\n",
       "      <td>41.366667</td>\n",
       "      <td>0</td>\n",
       "      <td>Positive</td>\n",
       "      <td>1</td>\n",
       "      <td>ER+/HER2- High Prolif</td>\n",
       "      <td>40.0</td>\n",
       "      <td>2.0</td>\n",
       "      <td>Died of Disease</td>\n",
       "    </tr>\n",
       "    <tr>\n",
       "      <th>...</th>\n",
       "      <td>...</td>\n",
       "      <td>...</td>\n",
       "      <td>...</td>\n",
       "      <td>...</td>\n",
       "      <td>...</td>\n",
       "      <td>...</td>\n",
       "      <td>...</td>\n",
       "      <td>...</td>\n",
       "      <td>...</td>\n",
       "      <td>...</td>\n",
       "      <td>...</td>\n",
       "    </tr>\n",
       "    <tr>\n",
       "      <th>1899</th>\n",
       "      <td>4.0</td>\n",
       "      <td>5.050</td>\n",
       "      <td>ILC</td>\n",
       "      <td>196.866667</td>\n",
       "      <td>1</td>\n",
       "      <td>Positive</td>\n",
       "      <td>1</td>\n",
       "      <td>ER+/HER2- Low Prolif</td>\n",
       "      <td>25.0</td>\n",
       "      <td>NaN</td>\n",
       "      <td>Living</td>\n",
       "    </tr>\n",
       "    <tr>\n",
       "      <th>1900</th>\n",
       "      <td>6.0</td>\n",
       "      <td>5.040</td>\n",
       "      <td>IDC</td>\n",
       "      <td>44.733333</td>\n",
       "      <td>0</td>\n",
       "      <td>Negative</td>\n",
       "      <td>1</td>\n",
       "      <td>NaN</td>\n",
       "      <td>20.0</td>\n",
       "      <td>NaN</td>\n",
       "      <td>Died of Disease</td>\n",
       "    </tr>\n",
       "    <tr>\n",
       "      <th>1901</th>\n",
       "      <td>4.0</td>\n",
       "      <td>6.050</td>\n",
       "      <td>IDC</td>\n",
       "      <td>175.966667</td>\n",
       "      <td>0</td>\n",
       "      <td>Positive</td>\n",
       "      <td>1</td>\n",
       "      <td>NaN</td>\n",
       "      <td>25.0</td>\n",
       "      <td>NaN</td>\n",
       "      <td>Died of Disease</td>\n",
       "    </tr>\n",
       "    <tr>\n",
       "      <th>1902</th>\n",
       "      <td>15.0</td>\n",
       "      <td>5.050</td>\n",
       "      <td>IDC</td>\n",
       "      <td>86.233333</td>\n",
       "      <td>0</td>\n",
       "      <td>Positive</td>\n",
       "      <td>0</td>\n",
       "      <td>ER+/HER2- High Prolif</td>\n",
       "      <td>25.0</td>\n",
       "      <td>NaN</td>\n",
       "      <td>Died of Other Causes</td>\n",
       "    </tr>\n",
       "    <tr>\n",
       "      <th>1903</th>\n",
       "      <td>3.0</td>\n",
       "      <td>5.040</td>\n",
       "      <td>IDC</td>\n",
       "      <td>201.900000</td>\n",
       "      <td>0</td>\n",
       "      <td>Negative</td>\n",
       "      <td>1</td>\n",
       "      <td>ER+/HER2- High Prolif</td>\n",
       "      <td>20.0</td>\n",
       "      <td>NaN</td>\n",
       "      <td>Died of Other Causes</td>\n",
       "    </tr>\n",
       "  </tbody>\n",
       "</table>\n",
       "<p>1904 rows × 11 columns</p>\n",
       "</div>"
      ],
      "text/plain": [
       "      mutation_count  nottingham_prognostic_index oncotree_code  \\\n",
       "0                NaN                        6.044           IDC   \n",
       "1                2.0                        4.020           IDC   \n",
       "2                2.0                        4.030           IDC   \n",
       "3                1.0                        4.050          MDLC   \n",
       "4                2.0                        6.080          MDLC   \n",
       "...              ...                          ...           ...   \n",
       "1899             4.0                        5.050           ILC   \n",
       "1900             6.0                        5.040           IDC   \n",
       "1901             4.0                        6.050           IDC   \n",
       "1902            15.0                        5.050           IDC   \n",
       "1903             3.0                        5.040           IDC   \n",
       "\n",
       "      overall_survival_months  overall_survival pr_status  radio_therapy  \\\n",
       "0                  140.500000                 1  Negative              1   \n",
       "1                   84.633333                 1  Positive              1   \n",
       "2                  163.700000                 0  Positive              0   \n",
       "3                  164.933333                 1  Positive              1   \n",
       "4                   41.366667                 0  Positive              1   \n",
       "...                       ...               ...       ...            ...   \n",
       "1899               196.866667                 1  Positive              1   \n",
       "1900                44.733333                 0  Negative              1   \n",
       "1901               175.966667                 0  Positive              1   \n",
       "1902                86.233333                 0  Positive              0   \n",
       "1903               201.900000                 0  Negative              1   \n",
       "\n",
       "     3-gene_classifier_subtype  tumor_size  tumor_stage     death_from_cancer  \n",
       "0                    ER-/HER2-        22.0          2.0                Living  \n",
       "1        ER+/HER2- High Prolif        10.0          1.0                Living  \n",
       "2                          NaN        15.0          2.0       Died of Disease  \n",
       "3                          NaN        25.0          2.0                Living  \n",
       "4        ER+/HER2- High Prolif        40.0          2.0       Died of Disease  \n",
       "...                        ...         ...          ...                   ...  \n",
       "1899      ER+/HER2- Low Prolif        25.0          NaN                Living  \n",
       "1900                       NaN        20.0          NaN       Died of Disease  \n",
       "1901                       NaN        25.0          NaN       Died of Disease  \n",
       "1902     ER+/HER2- High Prolif        25.0          NaN  Died of Other Causes  \n",
       "1903     ER+/HER2- High Prolif        20.0          NaN  Died of Other Causes  \n",
       "\n",
       "[1904 rows x 11 columns]"
      ]
     },
     "execution_count": 96,
     "metadata": {},
     "output_type": "execute_result"
    }
   ],
   "source": [
    "df.iloc[:, 20:31]"
   ]
  },
  {
   "cell_type": "code",
   "execution_count": 79,
   "id": "threatened-counter",
   "metadata": {},
   "outputs": [
    {
     "data": {
      "text/plain": [
       "Index(['patient_id', 'age_at_diagnosis', 'type_of_breast_surgery',\n",
       "       'cancer_type', 'cancer_type_detailed', 'cellularity', 'chemotherapy',\n",
       "       'pam50_+_claudin-low_subtype', 'cohort', 'er_status_measured_by_ihc',\n",
       "       'er_status', 'neoplasm_histologic_grade',\n",
       "       'her2_status_measured_by_snp6', 'her2_status',\n",
       "       'tumor_other_histologic_subtype', 'hormone_therapy',\n",
       "       'inferred_menopausal_state', 'integrative_cluster',\n",
       "       'primary_tumor_laterality', 'lymph_nodes_examined_positive',\n",
       "       'mutation_count', 'nottingham_prognostic_index', 'oncotree_code',\n",
       "       'overall_survival_months', 'overall_survival', 'pr_status',\n",
       "       'radio_therapy', '3-gene_classifier_subtype', 'tumor_size',\n",
       "       'tumor_stage', 'death_from_cancer'],\n",
       "      dtype='object')"
      ]
     },
     "execution_count": 79,
     "metadata": {},
     "output_type": "execute_result"
    }
   ],
   "source": [
    "columns = df.columns[:31]\n",
    "columns"
   ]
  },
  {
   "cell_type": "code",
   "execution_count": 85,
   "id": "willing-survival",
   "metadata": {},
   "outputs": [
    {
     "data": {
      "text/plain": [
       "Counter({'Living': 801,\n",
       "         'Died of Disease': 622,\n",
       "         'Died of Other Causes': 480,\n",
       "         nan: 1})"
      ]
     },
     "execution_count": 85,
     "metadata": {},
     "output_type": "execute_result"
    }
   ],
   "source": [
    "Counter(df['death_from_cancer'])"
   ]
  },
  {
   "cell_type": "code",
   "execution_count": 86,
   "id": "cooperative-characteristic",
   "metadata": {},
   "outputs": [
    {
     "data": {
      "text/plain": [
       "Counter({1: 801, 0: 1103})"
      ]
     },
     "execution_count": 86,
     "metadata": {},
     "output_type": "execute_result"
    }
   ],
   "source": [
    "Counter(df['overall_survival'])"
   ]
  },
  {
   "cell_type": "markdown",
   "id": "thorough-society",
   "metadata": {},
   "source": [
    "# Task"
   ]
  },
  {
   "cell_type": "code",
   "execution_count": 370,
   "id": "educational-island",
   "metadata": {},
   "outputs": [
    {
     "data": {
      "text/plain": [
       "Counter({1: 801, 0: 1103})"
      ]
     },
     "execution_count": 370,
     "metadata": {},
     "output_type": "execute_result"
    }
   ],
   "source": [
    "y = df['overall_survival']\n",
    "Counter(y)"
   ]
  },
  {
   "cell_type": "markdown",
   "id": "spiritual-chaos",
   "metadata": {},
   "source": [
    "# Concepts"
   ]
  },
  {
   "cell_type": "code",
   "execution_count": 218,
   "id": "needed-california",
   "metadata": {},
   "outputs": [],
   "source": [
    "def transform(x, n_bins=3, encoding=True, binarize=True, strategy='uniform'):\n",
    "    xnp = x.values\n",
    "    enc = LabelEncoder()\n",
    "    kbin = KBinsDiscretizer(n_bins=n_bins, encode='onehot-dense', strategy=strategy)\n",
    "    if encoding:\n",
    "        xnp = enc.fit_transform(xnp)\n",
    "    if binarize:\n",
    "        xnp = kbin.fit_transform(xnp.reshape(-1, 1))\n",
    "    return xnp"
   ]
  },
  {
   "cell_type": "code",
   "execution_count": 258,
   "id": "powerful-finger",
   "metadata": {},
   "outputs": [
    {
     "data": {
      "text/plain": [
       "0        NaN\n",
       "1        2.0\n",
       "2        2.0\n",
       "3        1.0\n",
       "4        2.0\n",
       "        ... \n",
       "1899     4.0\n",
       "1900     6.0\n",
       "1901     4.0\n",
       "1902    15.0\n",
       "1903     3.0\n",
       "Name: mutation_count, Length: 1904, dtype: float64"
      ]
     },
     "execution_count": 258,
     "metadata": {},
     "output_type": "execute_result"
    }
   ],
   "source": [
    "df['mutation_count']"
   ]
  },
  {
   "cell_type": "code",
   "execution_count": 282,
   "id": "finnish-helicopter",
   "metadata": {},
   "outputs": [
    {
     "data": {
      "text/plain": [
       "Counter({'MASTECTOMY': 1127, 'BREAST CONSERVING': 755, nan: 22})"
      ]
     },
     "execution_count": 282,
     "metadata": {},
     "output_type": "execute_result"
    }
   ],
   "source": [
    "Counter(df['type_of_breast_surgery'])"
   ]
  },
  {
   "cell_type": "code",
   "execution_count": 275,
   "id": "another-hunter",
   "metadata": {},
   "outputs": [
    {
     "name": "stderr",
     "output_type": "stream",
     "text": [
      "c:\\users\\pietr\\anaconda3\\envs\\deep-logic\\lib\\site-packages\\sklearn\\preprocessing\\_discretization.py:220: UserWarning: Bins whose width are too small (i.e., <= 1e-8) in feature 0 are removed. Consider decreasing the number of bins.\n",
      "  warnings.warn('Bins whose width are too small (i.e., <= '\n"
     ]
    },
    {
     "data": {
      "text/plain": [
       "array([479., 800., 115., 510.])"
      ]
     },
     "execution_count": 275,
     "metadata": {},
     "output_type": "execute_result"
    }
   ],
   "source": [
    "concept_list = []\n",
    "concept_list.append(transform(df['age_at_diagnosis'], n_bins=5, encoding=False, strategy='quantile'))\n",
    "concept_list.append(transform(df['type_of_breast_surgery'], n_bins=3))\n",
    "concept_list.append(transform(df['cellularity'], n_bins=4))\n",
    "concept_list.append(df['chemotherapy'].values.reshape(-1, 1))\n",
    "concept_list.append(transform(df['pam50_+_claudin-low_subtype'], n_bins=7, binarize=True))\n",
    "concept_list.append(transform(df['er_status'], binarize=False).reshape(-1, 1))\n",
    "concept_list.append(transform(df['neoplasm_histologic_grade'], n_bins=4))\n",
    "z = df['tumor_other_histologic_subtype'].replace('Other', np.NaN).replace('Metaplastic', np.NaN)\n",
    "concept_list.append(transform(z, n_bins=7))\n",
    "concept_list.append(transform(df['inferred_menopausal_state'], binarize=False).reshape(-1, 1))\n",
    "concept_list.append(transform(df['primary_tumor_laterality'], n_bins=3))\n",
    "concept_list.append(transform(df['lymph_nodes_examined_positive'], n_bins=5, encoding=False, strategy='quantile'))\n",
    "concept_list.append(transform(df['mutation_count'], n_bins=5, strategy='quantile'))\n",
    "concept_list.append(transform(df['pr_status'], binarize=False).reshape(-1, 1))\n",
    "concept_list.append(transform(df['radio_therapy'], binarize=False).reshape(-1, 1))\n",
    "concept_list.append(transform(df['tumor_stage'], n_bins=4))\n",
    "concept_list[-1].sum(axis=0)"
   ]
  },
  {
   "cell_type": "code",
   "execution_count": 418,
   "id": "contained-montgomery",
   "metadata": {},
   "outputs": [
    {
     "data": {
      "text/plain": [
       "15"
      ]
     },
     "execution_count": 418,
     "metadata": {},
     "output_type": "execute_result"
    }
   ],
   "source": [
    "raw_concepts = ['age_at_diagnosis', 'type_of_breast_surgery',\n",
    "            'cellularity', 'chemotherapy',\n",
    "            'pam50_+_claudin-low_subtype',\n",
    "            'er_status', 'neoplasm_histologic_grade',\n",
    "            'tumor_other_histologic_subtype',\n",
    "            'inferred_menopausal_state',\n",
    "            'primary_tumor_laterality', 'lymph_nodes_examined_positive',\n",
    "            'mutation_count', 'pr_status',\n",
    "            'radio_therapy',\n",
    "            'tumor_stage']\n",
    "len(raw_concepts)"
   ]
  },
  {
   "cell_type": "code",
   "execution_count": 422,
   "id": "french-lindsay",
   "metadata": {},
   "outputs": [
    {
     "data": {
      "text/plain": [
       "['age_at_diagnosis_0',\n",
       " 'age_at_diagnosis_1',\n",
       " 'age_at_diagnosis_2',\n",
       " 'age_at_diagnosis_3',\n",
       " 'age_at_diagnosis_4',\n",
       " 'type_of_breast_surgery_0',\n",
       " 'type_of_breast_surgery_1',\n",
       " 'type_of_breast_surgery_2',\n",
       " 'cellularity_0',\n",
       " 'cellularity_1',\n",
       " 'cellularity_2',\n",
       " 'cellularity_3',\n",
       " 'chemotherapy',\n",
       " 'pam50_+_claudin-low_subtype_0',\n",
       " 'pam50_+_claudin-low_subtype_1',\n",
       " 'pam50_+_claudin-low_subtype_2',\n",
       " 'pam50_+_claudin-low_subtype_3',\n",
       " 'pam50_+_claudin-low_subtype_4',\n",
       " 'pam50_+_claudin-low_subtype_5',\n",
       " 'pam50_+_claudin-low_subtype_6',\n",
       " 'er_status',\n",
       " 'neoplasm_histologic_grade_0',\n",
       " 'neoplasm_histologic_grade_1',\n",
       " 'neoplasm_histologic_grade_2',\n",
       " 'neoplasm_histologic_grade_3',\n",
       " 'tumor_other_histologic_subtype_0',\n",
       " 'tumor_other_histologic_subtype_1',\n",
       " 'tumor_other_histologic_subtype_2',\n",
       " 'tumor_other_histologic_subtype_3',\n",
       " 'tumor_other_histologic_subtype_4',\n",
       " 'tumor_other_histologic_subtype_5',\n",
       " 'tumor_other_histologic_subtype_6',\n",
       " 'inferred_menopausal_state',\n",
       " 'primary_tumor_laterality_0',\n",
       " 'primary_tumor_laterality_1',\n",
       " 'primary_tumor_laterality_2',\n",
       " 'lymph_nodes_examined_positive_0',\n",
       " 'lymph_nodes_examined_positive_1',\n",
       " 'lymph_nodes_examined_positive_2',\n",
       " 'mutation_count_0',\n",
       " 'mutation_count_1',\n",
       " 'mutation_count_2',\n",
       " 'mutation_count_3',\n",
       " 'mutation_count_4',\n",
       " 'pr_status',\n",
       " 'radio_therapy',\n",
       " 'tumor_stage_0',\n",
       " 'tumor_stage_1',\n",
       " 'tumor_stage_2',\n",
       " 'tumor_stage_3']"
      ]
     },
     "execution_count": 422,
     "metadata": {},
     "output_type": "execute_result"
    }
   ],
   "source": [
    "clinic_concepts = []\n",
    "for clist, cname in zip(concept_list, raw_concepts):\n",
    "    if clist.shape[1] > 1:\n",
    "        for i in range(clist.shape[1]):\n",
    "            clinic_concepts.append(f'{cname}_{i}')\n",
    "    else:\n",
    "        clinic_concepts.append(f'{cname}')\n",
    "clinic_concepts"
   ]
  },
  {
   "cell_type": "code",
   "execution_count": 286,
   "id": "exempt-method",
   "metadata": {},
   "outputs": [
    {
     "data": {
      "text/plain": [
       "(1904, 50)"
      ]
     },
     "execution_count": 286,
     "metadata": {},
     "output_type": "execute_result"
    }
   ],
   "source": [
    "c = np.hstack(concept_list)\n",
    "c.shape"
   ]
  },
  {
   "cell_type": "code",
   "execution_count": 287,
   "id": "theoretical-pillow",
   "metadata": {},
   "outputs": [
    {
     "data": {
      "text/plain": [
       "array([0.59685864, 0.59162304, 0.47120419, 0.53926702, 0.57894737,\n",
       "       0.64736842, 0.62631579, 0.57368421, 0.61578947, 0.65263158])"
      ]
     },
     "execution_count": 287,
     "metadata": {},
     "output_type": "execute_result"
    }
   ],
   "source": [
    "clf = DecisionTreeClassifier()\n",
    "cross_val_score(clf, c, y, cv=10)"
   ]
  },
  {
   "cell_type": "code",
   "execution_count": 315,
   "id": "marine-upset",
   "metadata": {},
   "outputs": [
    {
     "data": {
      "text/plain": [
       "array([0.68586387, 0.68586387, 0.43979058, 0.62303665, 0.67368421,\n",
       "       0.66842105, 0.62105263, 0.64210526, 0.72105263, 0.65263158])"
      ]
     },
     "execution_count": 315,
     "metadata": {},
     "output_type": "execute_result"
    }
   ],
   "source": [
    "clf = RandomForestClassifier()\n",
    "cross_val_score(clf, c, y, cv=10)"
   ]
  },
  {
   "cell_type": "code",
   "execution_count": 427,
   "id": "nasty-portugal",
   "metadata": {},
   "outputs": [
    {
     "data": {
      "text/plain": [
       "(1904, 142)"
      ]
     },
     "execution_count": 427,
     "metadata": {},
     "output_type": "execute_result"
    }
   ],
   "source": [
    "x = df.iloc[:, 31:173].values\n",
    "x.shape"
   ]
  },
  {
   "cell_type": "code",
   "execution_count": 426,
   "id": "growing-queensland",
   "metadata": {},
   "outputs": [
    {
     "data": {
      "text/plain": [
       "142"
      ]
     },
     "execution_count": 426,
     "metadata": {},
     "output_type": "execute_result"
    }
   ],
   "source": [
    "rna_concepts = list(df.columns[31:173])\n",
    "len(rna_concepts)"
   ]
  },
  {
   "cell_type": "code",
   "execution_count": 411,
   "id": "headed-corps",
   "metadata": {},
   "outputs": [
    {
     "data": {
      "text/plain": [
       "(1904, 192)"
      ]
     },
     "execution_count": 411,
     "metadata": {},
     "output_type": "execute_result"
    }
   ],
   "source": [
    "z = MinMaxScaler().fit_transform(np.hstack([c, x]))\n",
    "z.shape"
   ]
  },
  {
   "cell_type": "code",
   "execution_count": 412,
   "id": "challenging-acting",
   "metadata": {},
   "outputs": [
    {
     "data": {
      "text/plain": [
       "array([0.59162304, 0.64397906, 0.42931937, 0.55497382, 0.55789474,\n",
       "       0.47894737, 0.56842105, 0.57368421, 0.56842105, 0.62631579])"
      ]
     },
     "execution_count": 412,
     "metadata": {},
     "output_type": "execute_result"
    }
   ],
   "source": [
    "clf = DecisionTreeClassifier()\n",
    "cross_val_score(clf, z, y, cv=10)"
   ]
  },
  {
   "cell_type": "code",
   "execution_count": 413,
   "id": "fluid-madagascar",
   "metadata": {},
   "outputs": [
    {
     "data": {
      "text/plain": [
       "array([0.66492147, 0.69633508, 0.47120419, 0.67539267, 0.65789474,\n",
       "       0.64210526, 0.62105263, 0.62631579, 0.67368421, 0.63684211])"
      ]
     },
     "execution_count": 413,
     "metadata": {},
     "output_type": "execute_result"
    }
   ],
   "source": [
    "clf = RandomForestClassifier()\n",
    "cross_val_score(clf, z, y, cv=10)"
   ]
  },
  {
   "cell_type": "code",
   "execution_count": 430,
   "id": "convertible-tiffany",
   "metadata": {},
   "outputs": [
    {
     "data": {
      "text/plain": [
       "192"
      ]
     },
     "execution_count": 430,
     "metadata": {},
     "output_type": "execute_result"
    }
   ],
   "source": [
    "device = torch.device('cuda:0' if torch.cuda.is_available() else 'cpu')\n",
    "concepts = clinic_concepts + rna_concepts\n",
    "n_rep = 10\n",
    "tot_epochs = 5001\n",
    "prune_epochs = 2001\n",
    "len(concepts)"
   ]
  },
  {
   "cell_type": "code",
   "execution_count": 435,
   "id": "enormous-intermediate",
   "metadata": {},
   "outputs": [],
   "source": [
    "def train_nn(x_train, y_train, need_pruning, seed, device, relu=False):\n",
    "    set_seed(seed)\n",
    "    x_train = x_train.to(device)\n",
    "    y_train = y_train.to(device)\n",
    "    layers = [\n",
    "        torch.nn.Linear(x_train.size(1), 500),\n",
    "        torch.nn.ReLU() if relu else torch.nn.LeakyReLU(),\n",
    "        torch.nn.Linear(500, 100),\n",
    "        torch.nn.ReLU() if relu else torch.nn.LeakyReLU(),\n",
    "        torch.nn.Linear(100, 50),\n",
    "        torch.nn.ReLU() if relu else torch.nn.LeakyReLU(),\n",
    "        torch.nn.Linear(50, 10),\n",
    "        torch.nn.ReLU() if relu else torch.nn.LeakyReLU(),\n",
    "        torch.nn.Linear(10, 2),\n",
    "        torch.nn.Softmax(dim=1),\n",
    "    ]\n",
    "    model = torch.nn.Sequential(*layers).to(device)\n",
    "\n",
    "    optimizer = torch.optim.AdamW(model.parameters(), lr=0.001)\n",
    "    loss_form = torch.nn.CrossEntropyLoss()\n",
    "    model.train()\n",
    "    for epoch in range(tot_epochs):\n",
    "        # forward pass\n",
    "        optimizer.zero_grad()\n",
    "        y_pred = model(x_train)\n",
    "        # Compute Loss\n",
    "        loss = loss_form(y_pred, y_train)\n",
    "\n",
    "        for module in model.children():\n",
    "            if isinstance(module, torch.nn.Linear):\n",
    "                loss += 0.001 * torch.norm(module.weight, 1)\n",
    "                loss += 0.001 * torch.norm(module.bias, 1)\n",
    "                break\n",
    "\n",
    "        # backward pass\n",
    "        loss.backward()\n",
    "        optimizer.step()\n",
    "\n",
    "        if epoch > prune_epochs and need_pruning:\n",
    "            prune_features(model, n_classes=1, device=device)\n",
    "            need_pruning = False\n",
    "            \n",
    "        # compute accuracy\n",
    "        if epoch % 500 == 0:\n",
    "            y_pred_d = torch.argmax(y_pred, dim=1)\n",
    "            accuracy = y_pred_d.eq(y_train).sum().item() / y_train.size(0)\n",
    "            print(f'\\t Epoch {epoch}: train accuracy: {accuracy:.4f}')\n",
    "    \n",
    "    return model"
   ]
  },
  {
   "cell_type": "code",
   "execution_count": 436,
   "id": "likely-reading",
   "metadata": {
    "scrolled": false
   },
   "outputs": [
    {
     "name": "stdout",
     "output_type": "stream",
     "text": [
      "Split [1/10]\n",
      "\t Epoch 0: train accuracy: 0.4203\n",
      "\t Epoch 500: train accuracy: 0.8797\n",
      "\t Epoch 1000: train accuracy: 0.9066\n",
      "\t Epoch 1500: train accuracy: 0.9107\n",
      "\t Epoch 2000: train accuracy: 0.9154\n",
      "\t Epoch 2500: train accuracy: 0.6556\n",
      "\t Epoch 3000: train accuracy: 0.6614\n",
      "\t Epoch 3500: train accuracy: 0.6684\n",
      "\t Epoch 4000: train accuracy: 0.6708\n",
      "\t Epoch 4500: train accuracy: 0.6713\n",
      "\t Epoch 5000: train accuracy: 0.6696\n",
      "\t Model's accuracy: 0.6178\n",
      "\t Class 1 - Global explanation: \"(age_at_diagnosis_0 & inferred_menopausal_state & ~age_at_diagnosis_4 & ~pam50_+_claudin-low_subtype_1 & ~neoplasm_histologic_grade_1 & ~tumor_other_histologic_subtype_1 & ~primary_tumor_laterality_2 & ~mutation_count_3) | (~age_at_diagnosis_0 & ~age_at_diagnosis_4 & ~pam50_+_claudin-low_subtype_1 & ~tumor_other_histologic_subtype_1 & ~inferred_menopausal_state & ~primary_tumor_laterality_2 & ~mutation_count_3 & ~bmp2)\" - Accuracy: 0.5707\n",
      "\t Elapsed time 1.8749885559082031\n",
      "\t Class 0 - Global explanation: \"(age_at_diagnosis_4 & ~age_at_diagnosis_0 & ~pam50_+_claudin-low_subtype_1 & ~tumor_other_histologic_subtype_1 & ~inferred_menopausal_state & ~primary_tumor_laterality_2 & ~mutation_count_3) | (mutation_count_3 & ~age_at_diagnosis_0 & ~age_at_diagnosis_4 & ~pam50_+_claudin-low_subtype_1 & ~neoplasm_histologic_grade_1 & ~tumor_other_histologic_subtype_1 & ~inferred_menopausal_state & ~primary_tumor_laterality_2 & ~bmp2)\" - Accuracy: 0.4974\n",
      "\t Elapsed time 3.090740442276001\n",
      "Split [2/10]\n",
      "\t Epoch 0: train accuracy: 0.4209\n",
      "\t Epoch 500: train accuracy: 0.8412\n",
      "\t Epoch 1000: train accuracy: 0.8616\n",
      "\t Epoch 1500: train accuracy: 0.9043\n",
      "\t Epoch 2000: train accuracy: 0.8675\n",
      "\t Epoch 2500: train accuracy: 0.6824\n",
      "\t Epoch 3000: train accuracy: 0.6848\n",
      "\t Epoch 3500: train accuracy: 0.6929\n",
      "\t Epoch 4000: train accuracy: 0.6924\n",
      "\t Epoch 4500: train accuracy: 0.7005\n",
      "\t Epoch 5000: train accuracy: 0.6924\n",
      "\t Model's accuracy: 0.6021\n",
      "\t Class 1 - Global explanation: \"(age_at_diagnosis_0 & tumor_stage_0 & ~age_at_diagnosis_1 & ~age_at_diagnosis_3 & ~age_at_diagnosis_4 & ~neoplasm_histologic_grade_3 & ~tumor_other_histologic_subtype_2 & ~tumor_other_histologic_subtype_3) | (age_at_diagnosis_0 & casp8 & ~age_at_diagnosis_1 & ~age_at_diagnosis_3 & ~age_at_diagnosis_4 & ~neoplasm_histologic_grade_3 & ~tumor_other_histologic_subtype_2 & ~tumor_other_histologic_subtype_3) | (age_at_diagnosis_1 & tumor_stage_0 & ~age_at_diagnosis_0 & ~age_at_diagnosis_3 & ~age_at_diagnosis_4 & ~neoplasm_histologic_grade_3 & ~tumor_other_histologic_subtype_2 & ~tumor_other_histologic_subtype_3)\" - Accuracy: 0.6021\n",
      "\t Elapsed time 2.100400924682617\n",
      "\t Class 0 - Global explanation: \"(age_at_diagnosis_3 & ~age_at_diagnosis_0 & ~age_at_diagnosis_1 & ~age_at_diagnosis_4 & ~neoplasm_histologic_grade_3 & ~tumor_other_histologic_subtype_2 & ~tumor_other_histologic_subtype_3 & ~tumor_stage_0) | (age_at_diagnosis_4 & ~age_at_diagnosis_0 & ~age_at_diagnosis_1 & ~age_at_diagnosis_3 & ~neoplasm_histologic_grade_3 & ~tumor_other_histologic_subtype_2 & ~tumor_other_histologic_subtype_3 & ~tumor_stage_0) | (~age_at_diagnosis_0 & ~age_at_diagnosis_1 & ~age_at_diagnosis_4 & ~neoplasm_histologic_grade_3 & ~tumor_other_histologic_subtype_2 & ~tumor_other_histologic_subtype_3 & ~tumor_stage_0 & ~casp8)\" - Accuracy: 0.5131\n",
      "\t Elapsed time 2.5970423221588135\n",
      "Split [3/10]\n",
      "\t Epoch 0: train accuracy: 0.5791\n",
      "\t Epoch 500: train accuracy: 0.9025\n",
      "\t Epoch 1000: train accuracy: 0.4238\n",
      "\t Epoch 1500: train accuracy: 0.5791\n",
      "\t Epoch 2000: train accuracy: 0.9165\n",
      "\t Epoch 2500: train accuracy: 0.8278\n",
      "\t Epoch 3000: train accuracy: 0.8301\n",
      "\t Epoch 3500: train accuracy: 0.8272\n",
      "\t Epoch 4000: train accuracy: 0.8219\n",
      "\t Epoch 4500: train accuracy: 0.8068\n",
      "\t Epoch 5000: train accuracy: 0.8208\n",
      "\t Model's accuracy: 0.6230\n"
     ]
    },
    {
     "ename": "KeyboardInterrupt",
     "evalue": "",
     "output_type": "error",
     "traceback": [
      "\u001b[1;31m---------------------------------------------------------------------------\u001b[0m",
      "\u001b[1;31mKeyboardInterrupt\u001b[0m                         Traceback (most recent call last)",
      "\u001b[1;32m<ipython-input-436-cfdafa61e311>\u001b[0m in \u001b[0;36m<module>\u001b[1;34m\u001b[0m\n\u001b[0;32m     30\u001b[0m     \u001b[0mtarget_class\u001b[0m \u001b[1;33m=\u001b[0m \u001b[1;36m1\u001b[0m\u001b[1;33m\u001b[0m\u001b[1;33m\u001b[0m\u001b[0m\n\u001b[0;32m     31\u001b[0m     \u001b[0mstart\u001b[0m \u001b[1;33m=\u001b[0m \u001b[0mtime\u001b[0m\u001b[1;33m.\u001b[0m\u001b[0mtime\u001b[0m\u001b[1;33m(\u001b[0m\u001b[1;33m)\u001b[0m\u001b[1;33m\u001b[0m\u001b[1;33m\u001b[0m\u001b[0m\n\u001b[1;32m---> 32\u001b[1;33m     global_explanation, _, counter = logic.relunn.combine_local_explanations(model, \n\u001b[0m\u001b[0;32m     33\u001b[0m                                                                        \u001b[0mx_train\u001b[0m\u001b[1;33m.\u001b[0m\u001b[0mto\u001b[0m\u001b[1;33m(\u001b[0m\u001b[0mdevice\u001b[0m\u001b[1;33m)\u001b[0m\u001b[1;33m,\u001b[0m \u001b[0my_train\u001b[0m\u001b[1;33m.\u001b[0m\u001b[0mto\u001b[0m\u001b[1;33m(\u001b[0m\u001b[0mdevice\u001b[0m\u001b[1;33m)\u001b[0m\u001b[1;33m,\u001b[0m\u001b[1;33m\u001b[0m\u001b[1;33m\u001b[0m\u001b[0m\n\u001b[0;32m     34\u001b[0m                                                                        \u001b[0mtarget_class\u001b[0m\u001b[1;33m=\u001b[0m\u001b[0mtarget_class\u001b[0m\u001b[1;33m,\u001b[0m\u001b[1;33m\u001b[0m\u001b[1;33m\u001b[0m\u001b[0m\n",
      "\u001b[1;32mc:\\users\\pietr\\anaconda3\\envs\\deep-logic\\lib\\site-packages\\deep_logic\\logic\\relunn.py\u001b[0m in \u001b[0;36mcombine_local_explanations\u001b[1;34m(model, x, y, target_class, method, simplify, topk_explanations, concept_names, device)\u001b[0m\n\u001b[0;32m    112\u001b[0m     \u001b[1;31m# the global explanation is the disjunction of local explanations\u001b[0m\u001b[1;33m\u001b[0m\u001b[1;33m\u001b[0m\u001b[1;33m\u001b[0m\u001b[0m\n\u001b[0;32m    113\u001b[0m     \u001b[0mglobal_explanation\u001b[0m \u001b[1;33m=\u001b[0m \u001b[1;34m' | '\u001b[0m\u001b[1;33m.\u001b[0m\u001b[0mjoin\u001b[0m\u001b[1;33m(\u001b[0m\u001b[0mmost_common_explanations\u001b[0m\u001b[1;33m)\u001b[0m\u001b[1;33m\u001b[0m\u001b[1;33m\u001b[0m\u001b[0m\n\u001b[1;32m--> 114\u001b[1;33m     \u001b[0mglobal_explanation_simplified\u001b[0m \u001b[1;33m=\u001b[0m \u001b[0msimplify_logic\u001b[0m\u001b[1;33m(\u001b[0m\u001b[0mglobal_explanation\u001b[0m\u001b[1;33m,\u001b[0m \u001b[1;34m'dnf'\u001b[0m\u001b[1;33m,\u001b[0m \u001b[0mforce\u001b[0m\u001b[1;33m=\u001b[0m\u001b[1;32mTrue\u001b[0m\u001b[1;33m)\u001b[0m\u001b[1;33m\u001b[0m\u001b[1;33m\u001b[0m\u001b[0m\n\u001b[0m\u001b[0;32m    115\u001b[0m     \u001b[0mglobal_explanation_simplified_str\u001b[0m \u001b[1;33m=\u001b[0m \u001b[0mstr\u001b[0m\u001b[1;33m(\u001b[0m\u001b[0mglobal_explanation_simplified\u001b[0m\u001b[1;33m)\u001b[0m\u001b[1;33m\u001b[0m\u001b[1;33m\u001b[0m\u001b[0m\n\u001b[0;32m    116\u001b[0m \u001b[1;33m\u001b[0m\u001b[0m\n",
      "\u001b[1;32mc:\\users\\pietr\\anaconda3\\envs\\deep-logic\\lib\\site-packages\\sympy\\logic\\boolalg.py\u001b[0m in \u001b[0;36msimplify_logic\u001b[1;34m(expr, form, deep, force)\u001b[0m\n\u001b[0;32m   2820\u001b[0m     \u001b[0mc\u001b[0m \u001b[1;33m=\u001b[0m \u001b[1;33m[\u001b[0m\u001b[1;36m1\u001b[0m \u001b[1;32mif\u001b[0m \u001b[0mi\u001b[0m \u001b[1;33m==\u001b[0m \u001b[1;32mTrue\u001b[0m \u001b[1;32melse\u001b[0m \u001b[1;36m0\u001b[0m \u001b[1;32mfor\u001b[0m \u001b[0mi\u001b[0m \u001b[1;32min\u001b[0m \u001b[0mc\u001b[0m\u001b[1;33m]\u001b[0m\u001b[1;33m\u001b[0m\u001b[1;33m\u001b[0m\u001b[0m\n\u001b[0;32m   2821\u001b[0m     \u001b[1;32mfor\u001b[0m \u001b[0mt\u001b[0m \u001b[1;32min\u001b[0m \u001b[0mproduct\u001b[0m\u001b[1;33m(\u001b[0m\u001b[1;33m[\u001b[0m\u001b[1;36m0\u001b[0m\u001b[1;33m,\u001b[0m \u001b[1;36m1\u001b[0m\u001b[1;33m]\u001b[0m\u001b[1;33m,\u001b[0m \u001b[0mrepeat\u001b[0m\u001b[1;33m=\u001b[0m\u001b[0mlen\u001b[0m\u001b[1;33m(\u001b[0m\u001b[0mv\u001b[0m\u001b[1;33m)\u001b[0m\u001b[1;33m)\u001b[0m\u001b[1;33m:\u001b[0m\u001b[1;33m\u001b[0m\u001b[1;33m\u001b[0m\u001b[0m\n\u001b[1;32m-> 2822\u001b[1;33m         \u001b[1;32mif\u001b[0m \u001b[0mexpr\u001b[0m\u001b[1;33m.\u001b[0m\u001b[0mxreplace\u001b[0m\u001b[1;33m(\u001b[0m\u001b[0mdict\u001b[0m\u001b[1;33m(\u001b[0m\u001b[0mzip\u001b[0m\u001b[1;33m(\u001b[0m\u001b[0mv\u001b[0m\u001b[1;33m,\u001b[0m \u001b[0mt\u001b[0m\u001b[1;33m)\u001b[0m\u001b[1;33m)\u001b[0m\u001b[1;33m)\u001b[0m \u001b[1;33m==\u001b[0m \u001b[1;32mTrue\u001b[0m\u001b[1;33m:\u001b[0m\u001b[1;33m\u001b[0m\u001b[1;33m\u001b[0m\u001b[0m\n\u001b[0m\u001b[0;32m   2823\u001b[0m             \u001b[0mtruthtable\u001b[0m\u001b[1;33m.\u001b[0m\u001b[0mappend\u001b[0m\u001b[1;33m(\u001b[0m\u001b[0mc\u001b[0m \u001b[1;33m+\u001b[0m \u001b[0mlist\u001b[0m\u001b[1;33m(\u001b[0m\u001b[0mt\u001b[0m\u001b[1;33m)\u001b[0m\u001b[1;33m)\u001b[0m\u001b[1;33m\u001b[0m\u001b[1;33m\u001b[0m\u001b[0m\n\u001b[0;32m   2824\u001b[0m     \u001b[0mbig\u001b[0m \u001b[1;33m=\u001b[0m \u001b[0mlen\u001b[0m\u001b[1;33m(\u001b[0m\u001b[0mtruthtable\u001b[0m\u001b[1;33m)\u001b[0m \u001b[1;33m>=\u001b[0m \u001b[1;33m(\u001b[0m\u001b[1;36m2\u001b[0m \u001b[1;33m**\u001b[0m \u001b[1;33m(\u001b[0m\u001b[0mlen\u001b[0m\u001b[1;33m(\u001b[0m\u001b[0mvariables\u001b[0m\u001b[1;33m)\u001b[0m \u001b[1;33m-\u001b[0m \u001b[1;36m1\u001b[0m\u001b[1;33m)\u001b[0m\u001b[1;33m)\u001b[0m\u001b[1;33m\u001b[0m\u001b[1;33m\u001b[0m\u001b[0m\n",
      "\u001b[1;32mc:\\users\\pietr\\anaconda3\\envs\\deep-logic\\lib\\site-packages\\sympy\\core\\basic.py\u001b[0m in \u001b[0;36mxreplace\u001b[1;34m(self, rule)\u001b[0m\n\u001b[0;32m   1136\u001b[0m \u001b[1;33m\u001b[0m\u001b[0m\n\u001b[0;32m   1137\u001b[0m         \"\"\"\n\u001b[1;32m-> 1138\u001b[1;33m         \u001b[0mvalue\u001b[0m\u001b[1;33m,\u001b[0m \u001b[0m_\u001b[0m \u001b[1;33m=\u001b[0m \u001b[0mself\u001b[0m\u001b[1;33m.\u001b[0m\u001b[0m_xreplace\u001b[0m\u001b[1;33m(\u001b[0m\u001b[0mrule\u001b[0m\u001b[1;33m)\u001b[0m\u001b[1;33m\u001b[0m\u001b[1;33m\u001b[0m\u001b[0m\n\u001b[0m\u001b[0;32m   1139\u001b[0m         \u001b[1;32mreturn\u001b[0m \u001b[0mvalue\u001b[0m\u001b[1;33m\u001b[0m\u001b[1;33m\u001b[0m\u001b[0m\n\u001b[0;32m   1140\u001b[0m \u001b[1;33m\u001b[0m\u001b[0m\n",
      "\u001b[1;32mc:\\users\\pietr\\anaconda3\\envs\\deep-logic\\lib\\site-packages\\sympy\\core\\basic.py\u001b[0m in \u001b[0;36m_xreplace\u001b[1;34m(self, rule)\u001b[0m\n\u001b[0;32m   1158\u001b[0m             \u001b[0margs\u001b[0m \u001b[1;33m=\u001b[0m \u001b[0mtuple\u001b[0m\u001b[1;33m(\u001b[0m\u001b[0margs\u001b[0m\u001b[1;33m)\u001b[0m\u001b[1;33m\u001b[0m\u001b[1;33m\u001b[0m\u001b[0m\n\u001b[0;32m   1159\u001b[0m             \u001b[1;32mif\u001b[0m \u001b[0mchanged\u001b[0m\u001b[1;33m:\u001b[0m\u001b[1;33m\u001b[0m\u001b[1;33m\u001b[0m\u001b[0m\n\u001b[1;32m-> 1160\u001b[1;33m                 \u001b[1;32mreturn\u001b[0m \u001b[0mself\u001b[0m\u001b[1;33m.\u001b[0m\u001b[0mfunc\u001b[0m\u001b[1;33m(\u001b[0m\u001b[1;33m*\u001b[0m\u001b[0margs\u001b[0m\u001b[1;33m)\u001b[0m\u001b[1;33m,\u001b[0m \u001b[1;32mTrue\u001b[0m\u001b[1;33m\u001b[0m\u001b[1;33m\u001b[0m\u001b[0m\n\u001b[0m\u001b[0;32m   1161\u001b[0m         \u001b[1;32mreturn\u001b[0m \u001b[0mself\u001b[0m\u001b[1;33m,\u001b[0m \u001b[1;32mFalse\u001b[0m\u001b[1;33m\u001b[0m\u001b[1;33m\u001b[0m\u001b[0m\n\u001b[0;32m   1162\u001b[0m \u001b[1;33m\u001b[0m\u001b[0m\n",
      "\u001b[1;32mc:\\users\\pietr\\anaconda3\\envs\\deep-logic\\lib\\site-packages\\sympy\\core\\operations.py\u001b[0m in \u001b[0;36m__new__\u001b[1;34m(cls, *args, **options)\u001b[0m\n\u001b[0;32m    487\u001b[0m             \u001b[1;31m# is done so short-circuiting can be done\u001b[0m\u001b[1;33m\u001b[0m\u001b[1;33m\u001b[0m\u001b[1;33m\u001b[0m\u001b[0m\n\u001b[0;32m    488\u001b[0m             \u001b[1;31m# without having to sympify all values\u001b[0m\u001b[1;33m\u001b[0m\u001b[1;33m\u001b[0m\u001b[1;33m\u001b[0m\u001b[0m\n\u001b[1;32m--> 489\u001b[1;33m             \u001b[0m_args\u001b[0m \u001b[1;33m=\u001b[0m \u001b[0mfrozenset\u001b[0m\u001b[1;33m(\u001b[0m\u001b[0mcls\u001b[0m\u001b[1;33m.\u001b[0m\u001b[0m_new_args_filter\u001b[0m\u001b[1;33m(\u001b[0m\u001b[0margs\u001b[0m\u001b[1;33m)\u001b[0m\u001b[1;33m)\u001b[0m\u001b[1;33m\u001b[0m\u001b[1;33m\u001b[0m\u001b[0m\n\u001b[0m\u001b[0;32m    490\u001b[0m         \u001b[1;32mexcept\u001b[0m \u001b[0mShortCircuit\u001b[0m\u001b[1;33m:\u001b[0m\u001b[1;33m\u001b[0m\u001b[1;33m\u001b[0m\u001b[0m\n\u001b[0;32m    491\u001b[0m             \u001b[1;32mreturn\u001b[0m \u001b[0msympify\u001b[0m\u001b[1;33m(\u001b[0m\u001b[0mcls\u001b[0m\u001b[1;33m.\u001b[0m\u001b[0mzero\u001b[0m\u001b[1;33m)\u001b[0m\u001b[1;33m\u001b[0m\u001b[1;33m\u001b[0m\u001b[0m\n",
      "\u001b[1;32mc:\\users\\pietr\\anaconda3\\envs\\deep-logic\\lib\\site-packages\\sympy\\core\\operations.py\u001b[0m in \u001b[0;36m_new_args_filter\u001b[1;34m(cls, arg_sequence, call_cls)\u001b[0m\n\u001b[0;32m    501\u001b[0m             \u001b[1;32mreturn\u001b[0m \u001b[0mobj\u001b[0m\u001b[1;33m\u001b[0m\u001b[1;33m\u001b[0m\u001b[0m\n\u001b[0;32m    502\u001b[0m \u001b[1;33m\u001b[0m\u001b[0m\n\u001b[1;32m--> 503\u001b[1;33m     \u001b[1;33m@\u001b[0m\u001b[0mclassmethod\u001b[0m\u001b[1;33m\u001b[0m\u001b[1;33m\u001b[0m\u001b[0m\n\u001b[0m\u001b[0;32m    504\u001b[0m     \u001b[1;32mdef\u001b[0m \u001b[0m_new_args_filter\u001b[0m\u001b[1;33m(\u001b[0m\u001b[0mcls\u001b[0m\u001b[1;33m,\u001b[0m \u001b[0marg_sequence\u001b[0m\u001b[1;33m,\u001b[0m \u001b[0mcall_cls\u001b[0m\u001b[1;33m=\u001b[0m\u001b[1;32mNone\u001b[0m\u001b[1;33m)\u001b[0m\u001b[1;33m:\u001b[0m\u001b[1;33m\u001b[0m\u001b[1;33m\u001b[0m\u001b[0m\n\u001b[0;32m    505\u001b[0m         \u001b[1;34m\"\"\"Generator filtering args\"\"\"\u001b[0m\u001b[1;33m\u001b[0m\u001b[1;33m\u001b[0m\u001b[0m\n",
      "\u001b[1;31mKeyboardInterrupt\u001b[0m: "
     ]
    }
   ],
   "source": [
    "need_pruning = True\n",
    "method = 'pruning'\n",
    "methods = []\n",
    "splits = []\n",
    "explanations = []\n",
    "explanations_inv = []\n",
    "model_accuracies = []\n",
    "explanation_accuracies = []\n",
    "explanation_accuracies_inv = []\n",
    "elapsed_times = []\n",
    "elapsed_times_inv = []\n",
    "\n",
    "n_splits = 10\n",
    "skf = StratifiedKFold(n_splits=n_splits, shuffle=True, random_state=0)\n",
    "\n",
    "for split, (train_index, test_index) in enumerate(skf.split(z, y)):\n",
    "    print(f'Split [{split+1}/{n_splits}]')\n",
    "    x_train, x_test = torch.FloatTensor(z[train_index]), torch.FloatTensor(z[test_index])\n",
    "    y_train, y_test = torch.LongTensor(y.values[train_index]), torch.LongTensor(y.values[test_index])\n",
    "    \n",
    "#     if split not in [5]: continue\n",
    "    \n",
    "    model = train_nn(x_train, y_train, need_pruning, split, device)\n",
    "    \n",
    "    y_preds = model(x_test.to(device)).cpu().detach().numpy()\n",
    "    model_accuracy = accuracy_score(y_test.cpu().detach().numpy(), y_preds.argmax(axis=1))\n",
    "    print(f'\\t Model\\'s accuracy: {model_accuracy:.4f}')\n",
    "    \n",
    "    # positive class\n",
    "    target_class = 1\n",
    "    start = time.time()\n",
    "    global_explanation, _, counter = logic.relunn.combine_local_explanations(model, \n",
    "                                                                       x_train.to(device), y_train.to(device), \n",
    "                                                                       target_class=target_class,\n",
    "                                                                       topk_explanations=3,\n",
    "                                                                       method=method, device=device)\n",
    "    elapsed_time = time.time() - start\n",
    "    if global_explanation:\n",
    "        explanation_accuracy, _ = logic.base.test_explanation(global_explanation, target_class, x_test, y_test)\n",
    "        explanation = logic.base.replace_names(global_explanation, concepts)\n",
    "    print(f'\\t Class {target_class} - Global explanation: \"{explanation}\" - Accuracy: {explanation_accuracy:.4f}')\n",
    "    print(f'\\t Elapsed time {elapsed_time}')\n",
    "        \n",
    "    # negative class\n",
    "    target_class = 0\n",
    "    start = time.time()\n",
    "    global_explanation_inv, _, counter_inv = logic.relunn.combine_local_explanations(model, \n",
    "                                                                           x_train.to(device), y_train.to(device), \n",
    "                                                                           target_class=target_class,\n",
    "                                                                           topk_explanations=3,\n",
    "                                                                           method=method, device=device)\n",
    "    elapsed_time_inv = time.time() - start\n",
    "    if global_explanation_inv:\n",
    "        explanation_accuracy_inv, _ = logic.base.test_explanation(global_explanation_inv, target_class, x_test, y_test)\n",
    "        explanation_inv = logic.base.replace_names(global_explanation_inv, concepts)\n",
    "    print(f'\\t Class {target_class} - Global explanation: \"{explanation_inv}\" - Accuracy: {explanation_accuracy_inv:.4f}')\n",
    "    print(f'\\t Elapsed time {elapsed_time_inv}')\n",
    "    \n",
    "    methods.append(method)\n",
    "    splits.append(split)\n",
    "    explanations.append(explanation)\n",
    "    explanations_inv.append(explanation_inv)\n",
    "    model_accuracies.append(model_accuracy)\n",
    "    explanation_accuracies.append(explanation_accuracy)\n",
    "    explanation_accuracies_inv.append(explanation_accuracy_inv)\n",
    "    elapsed_times.append(elapsed_time)\n",
    "    elapsed_times_inv.append(elapsed_time_inv)"
   ]
  }
 ],
 "metadata": {
  "kernelspec": {
   "display_name": "Python 3",
   "language": "python",
   "name": "python3"
  },
  "language_info": {
   "codemirror_mode": {
    "name": "ipython",
    "version": 3
   },
   "file_extension": ".py",
   "mimetype": "text/x-python",
   "name": "python",
   "nbconvert_exporter": "python",
   "pygments_lexer": "ipython3",
   "version": "3.8.5"
  }
 },
 "nbformat": 4,
 "nbformat_minor": 5
}
