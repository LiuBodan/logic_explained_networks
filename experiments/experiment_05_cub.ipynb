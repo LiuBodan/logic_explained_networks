{
 "cells": [
  {
   "cell_type": "code",
   "execution_count": 1,
   "outputs": [
    {
     "name": "stderr",
     "output_type": "stream",
     "text": [
      "Using cache found in C:\\Users\\gabri/.cache\\torch\\hub\\pytorch_vision_v0.6.0\n"
     ]
    }
   ],
   "source": [
    "import sys\n",
    "from data.download_cub import download_cub\n",
    "from experiments.CUB_200_2011.concept_extractor_cub import concept_extractor_cub\n",
    "\n",
    "sys.path.append('..')\n",
    "import os\n",
    "import torch\n",
    "import pandas as pd\n",
    "import numpy as np\n",
    "from deep_logic.models.relu_nn import XReluNN\n",
    "from deep_logic.models.psi_nn import PsiNetwork\n",
    "from deep_logic.models.tree import XDecisionTreeClassifier\n",
    "from deep_logic.models.brl import XBRLClassifier\n",
    "from deep_logic.utils.base import set_seed\n",
    "from deep_logic.utils.metrics import F1Score\n",
    "from deep_logic.models.general_nn import XGeneralNN\n",
    "from deep_logic.utils.datasets import ConceptToTaskDataset\n",
    "from deep_logic.utils.data import get_splits_train_val_test\n",
    "from deep_logic.logic.base import test_multi_class_explanation\n",
    "\n",
    "results_dir = 'results/cub'\n",
    "if not os.path.isdir(results_dir):\n",
    "    os.makedirs(results_dir)\n"
   ],
   "metadata": {
    "collapsed": false,
    "pycharm": {
     "name": "#%%\n"
    }
   }
  },
  {
   "cell_type": "markdown",
   "source": [
    "## Loading CUB data"
   ],
   "metadata": {
    "collapsed": false
   }
  },
  {
   "cell_type": "code",
   "execution_count": 2,
   "outputs": [
    {
     "name": "stdout",
     "output_type": "stream",
     "text": [
      "Dataset already downloaded\n"
     ]
    }
   ],
   "source": [
    "dataset_root = \"../data/CUB_200_2011/\"\n",
    "if not os.path.isdir(dataset_root):\n",
    "    download_cub(dataset_root)\n",
    "else:\n",
    "    print(\"Dataset already downloaded\")"
   ],
   "metadata": {
    "collapsed": false,
    "pycharm": {
     "name": "#%%\n"
    }
   }
  },
  {
   "cell_type": "markdown",
   "source": [
    "## Extracting concepts"
   ],
   "metadata": {
    "collapsed": false
   }
  },
  {
   "cell_type": "code",
   "execution_count": 3,
   "outputs": [
    {
     "name": "stdout",
     "output_type": "stream",
     "text": [
      "Concepts already extracted\n",
      "Concept names ['has_bill_shape_dagger' 'has_bill_shape_hooked_seabird'\n",
      " 'has_bill_shape_allpurpose' 'has_bill_shape_cone' 'has_wing_color_brown'\n",
      " 'has_wing_color_grey' 'has_wing_color_yellow' 'has_wing_color_black'\n",
      " 'has_wing_color_white' 'has_wing_color_buff' 'has_upperparts_color_brown'\n",
      " 'has_upperparts_color_grey' 'has_upperparts_color_yellow'\n",
      " 'has_upperparts_color_black' 'has_upperparts_color_white'\n",
      " 'has_upperparts_color_buff' 'has_underparts_color_brown'\n",
      " 'has_underparts_color_grey' 'has_underparts_color_yellow'\n",
      " 'has_underparts_color_black' 'has_underparts_color_white'\n",
      " 'has_underparts_color_buff' 'has_breast_pattern_solid'\n",
      " 'has_breast_pattern_striped' 'has_breast_pattern_multicolored'\n",
      " 'has_back_color_brown' 'has_back_color_grey' 'has_back_color_yellow'\n",
      " 'has_back_color_black' 'has_back_color_white' 'has_back_color_buff'\n",
      " 'has_tail_shape_notched_tail' 'has_upper_tail_color_brown'\n",
      " 'has_upper_tail_color_grey' 'has_upper_tail_color_black'\n",
      " 'has_upper_tail_color_white' 'has_upper_tail_color_buff'\n",
      " 'has_head_pattern_plain' 'has_head_pattern_capped'\n",
      " 'has_breast_color_brown' 'has_breast_color_grey'\n",
      " 'has_breast_color_yellow' 'has_breast_color_black'\n",
      " 'has_breast_color_white' 'has_breast_color_buff' 'has_throat_color_grey'\n",
      " 'has_throat_color_yellow' 'has_throat_color_black'\n",
      " 'has_throat_color_white' 'has_eye_color_black'\n",
      " 'has_bill_length_about_the_same_as_head'\n",
      " 'has_bill_length_shorter_than_head' 'has_forehead_color_blue'\n",
      " 'has_forehead_color_brown' 'has_forehead_color_grey'\n",
      " 'has_forehead_color_yellow' 'has_forehead_color_black'\n",
      " 'has_forehead_color_white' 'has_forehead_color_red'\n",
      " 'has_under_tail_color_brown' 'has_under_tail_color_grey'\n",
      " 'has_under_tail_color_yellow' 'has_under_tail_color_black'\n",
      " 'has_under_tail_color_white' 'has_under_tail_color_buff'\n",
      " 'has_nape_color_blue' 'has_nape_color_brown' 'has_nape_color_grey'\n",
      " 'has_nape_color_yellow' 'has_nape_color_black' 'has_nape_color_white'\n",
      " 'has_nape_color_buff' 'has_belly_color_grey' 'has_belly_color_yellow'\n",
      " 'has_belly_color_black' 'has_belly_color_white' 'has_belly_color_buff'\n",
      " 'has_wing_shape_roundedwings' 'has_size_small_5__9_in'\n",
      " 'has_size_medium_9__16_in' 'has_size_very_small_3__5_in'\n",
      " 'has_shape_perchinglike' 'has_back_pattern_solid'\n",
      " 'has_back_pattern_striped' 'has_back_pattern_multicolored'\n",
      " 'has_tail_pattern_solid' 'has_tail_pattern_multicolored'\n",
      " 'has_belly_pattern_solid' 'has_primary_color_brown'\n",
      " 'has_primary_color_grey' 'has_primary_color_yellow'\n",
      " 'has_primary_color_black' 'has_primary_color_white'\n",
      " 'has_primary_color_buff' 'has_leg_color_grey' 'has_leg_color_black'\n",
      " 'has_leg_color_buff' 'has_bill_color_grey' 'has_bill_color_black'\n",
      " 'has_crown_color_blue' 'has_crown_color_brown' 'has_crown_color_grey'\n",
      " 'has_crown_color_yellow' 'has_crown_color_black' 'has_crown_color_white'\n",
      " 'has_wing_pattern_solid' 'has_wing_pattern_striped'\n",
      " 'has_wing_pattern_multicolored']\n",
      "Number of features 108\n"
     ]
    }
   ],
   "source": [
    "if not os.path.isfile(os.path.join(dataset_root, \"CUB200_predictions.npy\")):\n",
    "    concept_extractor_cub(dataset_root)\n",
    "else:\n",
    "    print(\"Concepts already extracted\")\n",
    "dataset = ConceptToTaskDataset(dataset_root)\n",
    "concept_names = dataset.attribute_names\n",
    "print(\"Concept names\", concept_names)\n",
    "n_features = dataset.n_attributes\n",
    "print(\"Number of features\", n_features)\n"
   ],
   "metadata": {
    "collapsed": false,
    "pycharm": {
     "name": "#%%\n"
    }
   }
  },
  {
   "cell_type": "markdown",
   "source": [
    "## Training Hyperparameters"
   ],
   "metadata": {
    "collapsed": false
   }
  },
  {
   "cell_type": "code",
   "execution_count": null,
   "outputs": [],
   "source": [
    "epochs = 200\n",
    "l_r = 0.001\n",
    "lr_scheduler = True\n",
    "top_k_explanations = 1\n",
    "simplify = True\n",
    "seeds = [*range(10)]\n",
    "print(\"Seeds\", seeds)"
   ],
   "metadata": {
    "collapsed": false,
    "pycharm": {
     "name": "#%%\n"
    }
   }
  },
  {
   "cell_type": "markdown",
   "source": [
    "## Define loss, metrics and saved metrics"
   ],
   "metadata": {
    "collapsed": false
   }
  },
  {
   "cell_type": "code",
   "execution_count": null,
   "outputs": [],
   "source": [
    "loss = torch.nn.CrossEntropyLoss()\n",
    "metric = F1Score()\n",
    "\n",
    "methods = []\n",
    "splits = []\n",
    "explanations = []\n",
    "explanations_inv = []\n",
    "model_accuracies = []\n",
    "explanation_accuracies = []\n",
    "explanation_accuracies_inv = []\n",
    "elapsed_times = []\n",
    "elapsed_times_inv = []"
   ],
   "metadata": {
    "collapsed": false,
    "pycharm": {
     "name": "#%%\n"
    }
   }
  },
  {
   "cell_type": "markdown",
   "source": [
    "## BRL"
   ],
   "metadata": {
    "collapsed": false
   }
  },
  {
   "cell_type": "code",
   "execution_count": null,
   "outputs": [],
   "source": [
    "for seed in seeds:\n",
    "    print(\"Seed\", seed)\n",
    "    set_seed(seed)\n",
    "    name = f\"BRL_{seed}\"\n",
    "\n",
    "    train_data, val_data, test_data = get_splits_train_val_test(dataset)\n",
    "    print(train_data.indices)\n",
    "\n",
    "    # valid_indices = np.argwhere(dataset.targets < 200)\n",
    "    # train_data.indices = [idx for idx in train_data.indices if idx in valid_indices]\n",
    "    # val_data.indices = [idx for idx in val_data.indices if idx in valid_indices]\n",
    "    # test_data.indices = [idx for idx in test_data.indices if idx in valid_indices]\n",
    "\n",
    "    device = torch.device(\"cpu\")\n",
    "\n",
    "    print(f\"Training {name} Classifier...\")\n",
    "    model = XBRLClassifier(name=name, n_classes=200, discretize=True, n_features=n_features,\n",
    "                           feature_names=concept_names, class_names=dataset.classes)\n",
    "\n",
    "    results = model.fit(val_data, metric=metric, save=True)\n",
    "    print(results)\n",
    "\n",
    "    accuracy = model.evaluate(test_data)\n",
    "    print(\"Test model accuracy\", accuracy)\n",
    "\n",
    "    formulas, times = [], []\n",
    "    for i, class_to_explain in enumerate(dataset.classes):\n",
    "        formula, elapsed_time = model.get_global_explanation(i, concept_names,\n",
    "                                                             return_time=True)\n",
    "        formulas.append(formula), times.append(elapsed_time)\n",
    "        print(f\"{class_to_explain} <-> {formula}\")\n",
    "        print(\"Elapsed time\", elapsed_time)\n",
    "\n",
    "    methods.append(\"Tree\")\n",
    "    splits.append(seed)\n",
    "    explanations.append(formulas[0])\n",
    "    explanations_inv.append(formulas[1])\n",
    "    model_accuracies.append(accuracy)\n",
    "    explanation_accuracies.append(accuracy)\n",
    "    explanation_accuracies_inv.append(accuracy)\n",
    "    elapsed_times.append(np.mean(times))\n",
    "    elapsed_times_inv.append(np.mean(times))\n",
    "\n",
    "results_brl = pd.DataFrame({\n",
    "    'method': methods,\n",
    "    'split': splits,\n",
    "    'explanation': explanations,\n",
    "    'explanation_inv': explanations_inv,\n",
    "    'model_accuracy': model_accuracies,\n",
    "    'explanation_accuracy': explanation_accuracies,\n",
    "    'explanation_accuracy_inv': explanation_accuracies_inv,\n",
    "    'elapsed_time': elapsed_times,\n",
    "    'elapsed_time_inv': elapsed_times_inv,\n",
    "})\n",
    "results_brl.to_csv(os.path.join(results_dir, 'results_brl.csv'))\n",
    "print(results_brl)"
   ],
   "metadata": {
    "collapsed": false,
    "pycharm": {
     "name": "#%%\n"
    }
   }
  },
  {
   "cell_type": "markdown",
   "source": [
    "## Decision Tree"
   ],
   "metadata": {
    "collapsed": false
   }
  },
  {
   "cell_type": "code",
   "execution_count": null,
   "outputs": [],
   "source": [
    "# for seed in seeds:\n",
    "#     print(\"Seed\", seed)\n",
    "#     set_seed(seed)\n",
    "#\n",
    "#     train_data, val_data, test_data = get_splits_train_val_test(dataset)\n",
    "#     print(train_data.indices)\n",
    "#\n",
    "#     device = torch.device(\"cpu\")\n",
    "#\n",
    "#     print(\"Training Tree Classifier...\")\n",
    "#     model = XDecisionTreeClassifier(n_classes=dataset.n_classes, n_features=n_features)\n",
    "#\n",
    "#     results = model.fit(train_data, val_data, metric=metric, save=False)\n",
    "#     print(results)\n",
    "#\n",
    "#     accuracy = model.evaluate(test_data)\n",
    "#     print(\"Test model accuracy\", accuracy)\n",
    "#\n",
    "#     formulas, times = [], []\n",
    "#     for i, class_to_explain in enumerate(dataset.classes):\n",
    "#         formula, elapsed_time = model.get_global_explanation(i, concept_names,\n",
    "#                                                              return_time=True)\n",
    "#         formulas.append(formula), times.append(elapsed_time)\n",
    "#         print(f\"{class_to_explain} <-> {formula}\")\n",
    "#         print(\"Elapsed time\", elapsed_time)\n",
    "#\n",
    "#     methods.append(\"Tree\")\n",
    "#     splits.append(seed)\n",
    "#     explanations.append(formulas[0])\n",
    "#     explanations_inv.append(formulas[1])\n",
    "#     model_accuracies.append(accuracy)\n",
    "#     explanation_accuracies.append(accuracy)\n",
    "#     explanation_accuracies_inv.append(accuracy)\n",
    "#     elapsed_times.append(np.mean(times))\n",
    "#     elapsed_times_inv.append(np.mean(times))\n",
    "#\n",
    "# results_tree = pd.DataFrame({\n",
    "#     'method': methods,\n",
    "#     'split': splits,\n",
    "#     'explanation': explanations,\n",
    "#     'explanation_inv': explanations_inv,\n",
    "#     'model_accuracy': model_accuracies,\n",
    "#     'explanation_accuracy': explanation_accuracies,\n",
    "#     'explanation_accuracy_inv': explanation_accuracies_inv,\n",
    "#     'elapsed_time': elapsed_times,\n",
    "#     'elapsed_time_inv': elapsed_times_inv,\n",
    "# })\n",
    "# results_tree.to_csv(os.path.join(results_dir, 'results_tree.csv'))\n",
    "# print(results_tree)\n",
    "#\n",
    "# #%% md\n",
    "#\n",
    "# ## Relu NN\n",
    "#\n",
    "# #%%\n",
    "#\n",
    "# for seed in seeds:\n",
    "#     print(\"Seed\", seed)\n",
    "#     set_seed(seed)\n",
    "#\n",
    "#     train_data, val_data, test_data = get_splits_train_val_test(dataset)\n",
    "#     print(train_data.indices)\n",
    "#\n",
    "#     x_val = torch.tensor(dataset.attributes[val_data.indices])\n",
    "#     y_val = torch.tensor(dataset.targets[val_data.indices])\n",
    "#     x_test = torch.tensor(dataset.attributes[test_data.indices])\n",
    "#     y_test = torch.tensor(dataset.targets[test_data.indices])\n",
    "#\n",
    "#     # Network structures\n",
    "#     l1_weight = 1e-5\n",
    "#     hidden_neurons = [200, 100]\n",
    "#\n",
    "#     # Setting device\n",
    "#     device = torch.device(\"cpu\") if torch.cuda.is_available() else torch.device(\"cpu\")\n",
    "#     set_seed(seed)\n",
    "#     print(f\"Training Relu NN...\")\n",
    "#     model = XReluNN(n_classes=dataset.n_classes, n_features=n_features,\n",
    "#                     hidden_neurons=hidden_neurons, loss=loss, l1_weight=l1_weight)\n",
    "#\n",
    "#     results = model.fit(train_data, val_data, epochs=epochs, l_r=l_r, verbose=False,\n",
    "#                         metric=metric, lr_scheduler=lr_scheduler, device=device, save=False)\n",
    "#     print(results)\n",
    "#     accuracy = model.evaluate(test_data)\n",
    "#     print(\"Test Model accuracy\", accuracy)\n",
    "#\n",
    "#     formulas, times, exp_accuracies = [], [], []\n",
    "#     for i, class_to_explain in enumerate(dataset.classes):\n",
    "#         formula, elapsed_time = model.get_global_explanation(x_val, y_val, i,\n",
    "#                                                              topk_explanations=top_k_explanations,\n",
    "#                                                              concept_names=concept_names,\n",
    "#                                                              simplify=True, return_time=True)\n",
    "#         exp_accuracy, _ = test_multi_class_explanation(formula, i, x_test, y_test,\n",
    "#                                                        metric=metric, concept_names=concept_names)\n",
    "#         formulas.append(formula), times.append(elapsed_time), exp_accuracies.append(exp_accuracy)\n",
    "#         print(f\"{class_to_explain} <-> {formula}\")\n",
    "#         print(\"Elapsed time\", elapsed_time)\n",
    "#         print(\"Explanation accuracy\", exp_accuracy)\n",
    "#\n",
    "#     methods.append(\"Relu\")\n",
    "#     splits.append(seed)\n",
    "#     explanations.append(formulas[0])\n",
    "#     explanations_inv.append(formulas[1])\n",
    "#     model_accuracies.append(accuracy)\n",
    "#     explanation_accuracies.append(np.mean(exp_accuracies))\n",
    "#     explanation_accuracies_inv.append(np.mean(exp_accuracies))\n",
    "#     elapsed_times.append(np.mean(times))\n",
    "#     elapsed_times_inv.append(np.mean(times))\n",
    "#\n",
    "# results = pd.DataFrame({\n",
    "#     'method': methods,\n",
    "#     'split': splits,\n",
    "#     'explanation': explanations,\n",
    "#     'explanation_inv': explanations_inv,\n",
    "#     'model_accuracy': model_accuracies,\n",
    "#     'explanation_accuracy': explanation_accuracies,\n",
    "#     'explanation_accuracy_inv': explanation_accuracies_inv,\n",
    "#     'elapsed_time': elapsed_times,\n",
    "#     'elapsed_time_inv': elapsed_times_inv,\n",
    "# })\n",
    "# results_relu = results[results['method'] == \"Relu\"]\n",
    "# results_relu.to_csv(os.path.join(results_dir, 'results_relu.csv'))\n",
    "# print(results_relu)\n",
    "#\n",
    "# #%% md\n",
    "#\n",
    "# ## PSI NN\n",
    "#\n",
    "# #%%\n",
    "#\n",
    "# for seed in seeds:\n",
    "#     print(\"Seed\", seed)\n",
    "#     set_seed(seed)\n",
    "#\n",
    "#     train_data, val_data, test_data = get_splits_train_val_test(dataset)\n",
    "#     print(train_data.indices)\n",
    "#\n",
    "#     x_test = torch.tensor(dataset.attributes[test_data.indices])\n",
    "#     y_test = torch.tensor(dataset.targets[test_data.indices])\n",
    "#\n",
    "#     # Network structures\n",
    "#     l1_weight = 5e-6\n",
    "#     hidden_neurons = [10, 5]\n",
    "#     fan_in = 3\n",
    "#     lr_psi = 0.01\n",
    "#\n",
    "#     # Setting device\n",
    "#     device = torch.device(\"cpu\") if torch.cuda.is_available() else torch.device(\"cpu\")\n",
    "#     set_seed(seed)\n",
    "#\n",
    "#     print(\"Training Psi NN...\")\n",
    "#     model = PsiNetwork(dataset.n_classes, n_features, hidden_neurons, loss,\n",
    "#                        l1_weight, fan_in=fan_in)\n",
    "#\n",
    "#     results = model.fit(train_data, val_data, epochs=epochs, l_r=lr_psi, verbose=False,\n",
    "#                         metric=metric, lr_scheduler=lr_scheduler, device=device, save=False)\n",
    "#     print(results)\n",
    "#     accuracy = model.evaluate(test_data, metric=metric)\n",
    "#     print(\"Test model accuracy\", accuracy)\n",
    "#\n",
    "#     formulas, times, exp_accuracies = [], [], []\n",
    "#     for i, class_to_explain in enumerate(dataset.classes):\n",
    "#         formula, elapsed_time = model.get_global_explanation(i, concept_names,\n",
    "#                                                              simplify=True, return_time=True)\n",
    "#         exp_accuracy, _ = test_multi_class_explanation(formula, i, x_test, y_test,\n",
    "#                                                        metric=metric, concept_names=concept_names)\n",
    "#         formulas.append(formula), times.append(elapsed_time), exp_accuracies.append(exp_accuracy)\n",
    "#         print(f\"{class_to_explain} <-> {formula}\")\n",
    "#         print(\"Elapsed time\", elapsed_time)\n",
    "#         print(\"Explanation accuracy\", exp_accuracy)\n",
    "#\n",
    "#     methods.append(\"Psi\")\n",
    "#     splits.append(seed)\n",
    "#     explanations.append(formulas[0])\n",
    "#     explanations_inv.append(formulas[1])\n",
    "#     model_accuracies.append(accuracy)\n",
    "#     explanation_accuracies.append(np.mean(exp_accuracies))\n",
    "#     explanation_accuracies_inv.append(np.mean(exp_accuracies))\n",
    "#     elapsed_times.append(np.mean(times))\n",
    "#     elapsed_times_inv.append(np.mean(times))\n",
    "#\n",
    "# results = pd.DataFrame({\n",
    "#     'method': methods,\n",
    "#     'split': splits,\n",
    "#     'explanation': explanations,\n",
    "#     'explanation_inv': explanations_inv,\n",
    "#     'model_accuracy': model_accuracies,\n",
    "#     'explanation_accuracy': explanation_accuracies,\n",
    "#     'explanation_accuracy_inv': explanation_accuracies_inv,\n",
    "#     'elapsed_time': elapsed_times,\n",
    "#     'elapsed_time_inv': elapsed_times_inv,\n",
    "# })\n",
    "# results_psi = results[results['method'] == \"Psi\"]\n",
    "# results_psi.to_csv(os.path.join(results_dir, 'results_psi.csv'))\n",
    "# print(results_psi)\n",
    "#\n",
    "# #%% md\n",
    "#\n",
    "# ## Mu NN\n",
    "#\n",
    "# #%%\n",
    "#\n",
    "# for seed in seeds:\n",
    "#     print(\"Seed\", seed)\n",
    "#     set_seed(seed)\n",
    "#\n",
    "#     train_data, val_data, test_data = get_splits_train_val_test(dataset)\n",
    "#     print(train_data.indices)\n",
    "#\n",
    "#     x_val = torch.tensor(dataset.attributes[val_data.indices])\n",
    "#     y_val = torch.tensor(dataset.targets[val_data.indices])\n",
    "#     x_test = torch.tensor(dataset.attributes[test_data.indices])\n",
    "#     y_test = torch.tensor(dataset.targets[test_data.indices])\n",
    "#\n",
    "#     # Network structures\n",
    "#     l1_weight = 1e-3\n",
    "#     hidden_neurons = [10, 5]\n",
    "#\n",
    "#     # Setting device\n",
    "#     device = torch.device(\"cpu\") if torch.cuda.is_available() else torch.device(\"cpu\")\n",
    "#     set_seed(seed)\n",
    "#\n",
    "#     print(\"Training General NN...\")\n",
    "#     model = XGeneralNN(n_classes=dataset.n_classes, n_features=n_features, hidden_neurons=hidden_neurons,\n",
    "#                        loss=loss, l1_weight=l1_weight)\n",
    "#\n",
    "#     results = model.fit(train_data, val_data, epochs=epochs, l_r=l_r, metric=metric,\n",
    "#                         lr_scheduler=lr_scheduler, device=device, save=False, verbose=False)\n",
    "#     print(results)\n",
    "#     accuracy = model.evaluate(test_data, metric=metric)\n",
    "#     print(\"Test model accuracy\", accuracy)\n",
    "#\n",
    "#     formulas, times, exp_accuracies = [], [], []\n",
    "#     for i, class_to_explain in enumerate(dataset.classes):\n",
    "#         formula, elapsed_time = model.get_global_explanation(x_val, y_val, i, simplify=True,\n",
    "#                                                              topk_explanations=top_k_explanations,\n",
    "#                                                              concept_names=concept_names, return_time=True)\n",
    "#         exp_accuracy, _ = test_multi_class_explanation(formula, i, x_test, y_test,\n",
    "#                                                        metric=metric, concept_names=concept_names)\n",
    "#         formulas.append(formula), times.append(elapsed_time), exp_accuracies.append(exp_accuracy)\n",
    "#         print(f\"{class_to_explain} <-> {formula}\")\n",
    "#         print(\"Elapsed time\", elapsed_time)\n",
    "#         print(\"Explanation accuracy\", exp_accuracy)\n",
    "#\n",
    "#     methods.append(\"General\")\n",
    "#     splits.append(seed)\n",
    "#     explanations.append(formulas[0])\n",
    "#     explanations_inv.append(formulas[1])\n",
    "#     model_accuracies.append(accuracy)\n",
    "#     explanation_accuracies.append(np.mean(exp_accuracies))\n",
    "#     explanation_accuracies_inv.append(np.mean(exp_accuracies))\n",
    "#     elapsed_times.append(np.mean(times))\n",
    "#     elapsed_times_inv.append(np.mean(times))\n",
    "#\n",
    "# #%%\n",
    "#\n",
    "# results = pd.DataFrame({\n",
    "#     'method': methods,\n",
    "#     'split': splits,\n",
    "#     'explanation': explanations,\n",
    "#     'explanation_inv': explanations_inv,\n",
    "#     'model_accuracy': model_accuracies,\n",
    "#     'explanation_accuracy': explanation_accuracies,\n",
    "#     'explanation_accuracy_inv': explanation_accuracies_inv,\n",
    "#     'elapsed_time': elapsed_times,\n",
    "#     'elapsed_time_inv': elapsed_times_inv,\n",
    "# })\n",
    "# results_general = results[results['method'] == \"General\"]\n",
    "# results_general.to_csv(os.path.join(results_dir, 'results_general.csv'))\n",
    "# results.to_csv(os.path.join(results_dir, 'results.csv'))\n",
    "# print(results)"
   ],
   "metadata": {
    "collapsed": false,
    "pycharm": {
     "name": "#%%\n"
    }
   }
  },
  {
   "cell_type": "markdown",
   "source": [
    "# Summary"
   ],
   "metadata": {
    "collapsed": false
   }
  },
  {
   "cell_type": "code",
   "execution_count": null,
   "outputs": [],
   "source": [
    "cols = ['model_accuracy', 'explanation_accuracy', 'explanation_accuracy_inv', 'elapsed_time', 'elapsed_time_inv']\n",
    "mean_cols = [f'{c}_mean' for c in cols]\n",
    "sem_cols = [f'{c}_sem' for c in cols]\n",
    "\n",
    "# general\n",
    "results_general = pd.read_csv(os.path.join(results_dir, \"results_general.csv\"))\n",
    "# results_general = results[results['method'] == \"General\"]\n",
    "df_mean = results_general[cols].mean()\n",
    "df_sem = results_general[cols].sem()\n",
    "df_mean.columns = mean_cols\n",
    "df_sem.columns = sem_cols\n",
    "summary_pruning = pd.concat([df_mean, df_sem])\n",
    "summary_pruning.name = 'general'\n",
    "\n",
    "# lime\n",
    "# results_brl = results[results['method'] == \"BRL\"]\n",
    "results_brl = pd.read_csv(os.path.join(results_dir, \"results_brl.csv\"))\n",
    "df_mean = results_brl[cols].mean()\n",
    "df_sem = results_brl[cols].sem()\n",
    "df_mean.columns = mean_cols\n",
    "df_sem.columns = sem_cols\n",
    "summary_brl = pd.concat([df_mean, df_sem])\n",
    "summary_brl.name = 'brl'\n",
    "\n",
    "# relu\n",
    "# results_relu = results[results['method'] == \"Relu\"]\n",
    "results_relu = pd.read_csv(os.path.join(results_dir, \"results_relu.csv\"))\n",
    "df_mean = results_relu[cols].mean()\n",
    "df_sem = results_relu[cols].sem()\n",
    "df_mean.columns = mean_cols\n",
    "df_sem.columns = sem_cols\n",
    "summary_weights = pd.concat([df_mean, df_sem])\n",
    "summary_weights.name = 'relu'\n",
    "\n",
    "# psi\n",
    "# results_psi = results[results['method'] == \"Psi\"]\n",
    "results_psi = pd.read_csv(os.path.join(results_dir, \"results_psi.csv\"))\n",
    "df_mean = results_psi[cols].mean()\n",
    "df_sem = results_psi[cols].sem()\n",
    "df_mean.columns = mean_cols\n",
    "df_sem.columns = sem_cols\n",
    "summary_psi = pd.concat([df_mean, df_sem])\n",
    "summary_psi.name = 'psi'\n",
    "\n",
    "# tree\n",
    "# results_tree = results[results['method'] == \"Tree\"]\n",
    "results_tree = pd.read_csv(os.path.join(results_dir, \"results_tree.csv\"))\n",
    "df_mean = results_tree[cols].mean()\n",
    "df_sem = results_tree[cols].sem()\n",
    "df_mean.columns = mean_cols\n",
    "df_sem.columns = sem_cols\n",
    "summary_tree = pd.concat([df_mean, df_sem])\n",
    "summary_tree.name = 'tree'\n",
    "\n",
    "summary = pd.concat([summary_pruning,\n",
    "                     summary_brl,\n",
    "                     summary_weights,\n",
    "                     summary_psi,\n",
    "                     summary_tree], axis=1).T\n",
    "summary.columns = mean_cols + sem_cols\n",
    "print(summary)"
   ],
   "metadata": {
    "collapsed": false,
    "pycharm": {
     "name": "#%%\n"
    }
   }
  },
  {
   "cell_type": "code",
   "execution_count": null,
   "outputs": [],
   "source": [
    "summary.to_csv(os.path.join(results_dir, 'summary.csv'))\n",
    "\n"
   ],
   "metadata": {
    "collapsed": false,
    "pycharm": {
     "name": "#%%\n"
    }
   }
  }
 ],
 "metadata": {
  "kernelspec": {
   "name": "python3",
   "language": "python",
   "display_name": "Python 3"
  },
  "language_info": {
   "codemirror_mode": {
    "name": "ipython",
    "version": 2
   },
   "file_extension": ".py",
   "mimetype": "text/x-python",
   "name": "python",
   "nbconvert_exporter": "python",
   "pygments_lexer": "ipython2",
   "version": "2.7.6"
  }
 },
 "nbformat": 4,
 "nbformat_minor": 0
}