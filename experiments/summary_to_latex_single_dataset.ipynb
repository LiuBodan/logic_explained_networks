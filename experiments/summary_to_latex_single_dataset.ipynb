{
 "cells": [
  {
   "cell_type": "code",
   "execution_count": 2,
   "id": "indonesian-daniel",
   "metadata": {},
   "outputs": [],
   "source": [
    "import os\n",
    "import glob\n",
    "import numpy as np\n",
    "import pandas as pd"
   ]
  },
  {
   "cell_type": "code",
   "execution_count": 3,
   "id": "centered-president",
   "metadata": {},
   "outputs": [],
   "source": [
    "files = glob.glob('./results/**/summary.csv', recursive = True)"
   ]
  },
  {
   "cell_type": "code",
   "execution_count": 4,
   "id": "derived-mining",
   "metadata": {},
   "outputs": [],
   "source": [
    "file = files[0]"
   ]
  },
  {
   "cell_type": "code",
   "execution_count": 5,
   "id": "needed-colleague",
   "metadata": {},
   "outputs": [
    {
     "data": {
      "text/plain": "                    model_accuracy_mean  explanation_accuracy_mean  \\\nBRL                           82.368521                  82.368521   \nDTree                         89.298394                  89.298394   \nLogisticRegression            92.375317                   0.000000   \nGeneral                       91.513102                  99.130347   \nPsi                           91.682164                  98.943195   \nRelu                          91.885038                  99.592392   \n\n                    explanation_complexity_mean  elapsed_time_mean  \\\nBRL                                       4.238           0.026484   \nDTree                                   138.830           0.008611   \nLogisticRegression                        0.000           0.000000   \nGeneral                                   7.935           2.266438   \nPsi                                      28.784           5.382281   \nRelu                                     20.019           2.397412   \n\n                    explanation_consistency_mean  model_accuracy_sem  \\\nBRL                                     0.300000            0.529892   \nDTree                                   0.217877            0.421469   \nLogisticRegression                      1.000000            0.241172   \nGeneral                                 0.628571            0.373852   \nPsi                                     0.428571            0.552110   \nRelu                                    0.542857            0.226820   \n\n                    explanation_accuracy_sem  explanation_complexity_sem  \\\nBRL                                 0.529892                    0.098331   \nDTree                               0.421469                    5.310349   \nLogisticRegression                  0.000000                    0.000000   \nGeneral                             0.196192                    0.148332   \nPsi                                 0.338495                    1.725379   \nRelu                                0.081622                    2.200961   \n\n                    elapsed_time_sem  explanation_consistency_sem  \nBRL                         0.000744                          0.0  \nDTree                       0.000079                          0.0  \nLogisticRegression          0.000000                          0.0  \nGeneral                     0.131538                          0.0  \nPsi                         1.426531                          0.0  \nRelu                        0.394940                          0.0  ",
      "text/html": "<div>\n<style scoped>\n    .dataframe tbody tr th:only-of-type {\n        vertical-align: middle;\n    }\n\n    .dataframe tbody tr th {\n        vertical-align: top;\n    }\n\n    .dataframe thead th {\n        text-align: right;\n    }\n</style>\n<table border=\"1\" class=\"dataframe\">\n  <thead>\n    <tr style=\"text-align: right;\">\n      <th></th>\n      <th>model_accuracy_mean</th>\n      <th>explanation_accuracy_mean</th>\n      <th>explanation_complexity_mean</th>\n      <th>elapsed_time_mean</th>\n      <th>explanation_consistency_mean</th>\n      <th>model_accuracy_sem</th>\n      <th>explanation_accuracy_sem</th>\n      <th>explanation_complexity_sem</th>\n      <th>elapsed_time_sem</th>\n      <th>explanation_consistency_sem</th>\n    </tr>\n  </thead>\n  <tbody>\n    <tr>\n      <th>BRL</th>\n      <td>82.368521</td>\n      <td>82.368521</td>\n      <td>4.238</td>\n      <td>0.026484</td>\n      <td>0.300000</td>\n      <td>0.529892</td>\n      <td>0.529892</td>\n      <td>0.098331</td>\n      <td>0.000744</td>\n      <td>0.0</td>\n    </tr>\n    <tr>\n      <th>DTree</th>\n      <td>89.298394</td>\n      <td>89.298394</td>\n      <td>138.830</td>\n      <td>0.008611</td>\n      <td>0.217877</td>\n      <td>0.421469</td>\n      <td>0.421469</td>\n      <td>5.310349</td>\n      <td>0.000079</td>\n      <td>0.0</td>\n    </tr>\n    <tr>\n      <th>LogisticRegression</th>\n      <td>92.375317</td>\n      <td>0.000000</td>\n      <td>0.000</td>\n      <td>0.000000</td>\n      <td>1.000000</td>\n      <td>0.241172</td>\n      <td>0.000000</td>\n      <td>0.000000</td>\n      <td>0.000000</td>\n      <td>0.0</td>\n    </tr>\n    <tr>\n      <th>General</th>\n      <td>91.513102</td>\n      <td>99.130347</td>\n      <td>7.935</td>\n      <td>2.266438</td>\n      <td>0.628571</td>\n      <td>0.373852</td>\n      <td>0.196192</td>\n      <td>0.148332</td>\n      <td>0.131538</td>\n      <td>0.0</td>\n    </tr>\n    <tr>\n      <th>Psi</th>\n      <td>91.682164</td>\n      <td>98.943195</td>\n      <td>28.784</td>\n      <td>5.382281</td>\n      <td>0.428571</td>\n      <td>0.552110</td>\n      <td>0.338495</td>\n      <td>1.725379</td>\n      <td>1.426531</td>\n      <td>0.0</td>\n    </tr>\n    <tr>\n      <th>Relu</th>\n      <td>91.885038</td>\n      <td>99.592392</td>\n      <td>20.019</td>\n      <td>2.397412</td>\n      <td>0.542857</td>\n      <td>0.226820</td>\n      <td>0.081622</td>\n      <td>2.200961</td>\n      <td>0.394940</td>\n      <td>0.0</td>\n    </tr>\n  </tbody>\n</table>\n</div>"
     },
     "execution_count": 5,
     "metadata": {},
     "output_type": "execute_result"
    }
   ],
   "source": [
    "df = pd.read_csv(file, index_col=0)\n",
    "df"
   ]
  },
  {
   "cell_type": "code",
   "execution_count": 6,
   "id": "lined-baltimore",
   "metadata": {},
   "outputs": [
    {
     "data": {
      "text/plain": "  Method Model's accuracy (%) Explanation's accuracy (%) Complexity  \\\n0    0.0                  0.0                        0.0        0.0   \n1    0.0                  0.0                        0.0        0.0   \n2    0.0                  0.0                        0.0        0.0   \n3    0.0                  0.0                        0.0        0.0   \n4    0.0                  0.0                        0.0        0.0   \n5    0.0                  0.0                        0.0        0.0   \n\n  Rule extraction (s) Rule consistency (%)  \n0                 0.0                  0.0  \n1                 0.0                  0.0  \n2                 0.0                  0.0  \n3                 0.0                  0.0  \n4                 0.0                  0.0  \n5                 0.0                  0.0  ",
      "text/html": "<div>\n<style scoped>\n    .dataframe tbody tr th:only-of-type {\n        vertical-align: middle;\n    }\n\n    .dataframe tbody tr th {\n        vertical-align: top;\n    }\n\n    .dataframe thead th {\n        text-align: right;\n    }\n</style>\n<table border=\"1\" class=\"dataframe\">\n  <thead>\n    <tr style=\"text-align: right;\">\n      <th></th>\n      <th>Method</th>\n      <th>Model's accuracy (%)</th>\n      <th>Explanation's accuracy (%)</th>\n      <th>Complexity</th>\n      <th>Rule extraction (s)</th>\n      <th>Rule consistency (%)</th>\n    </tr>\n  </thead>\n  <tbody>\n    <tr>\n      <th>0</th>\n      <td>0.0</td>\n      <td>0.0</td>\n      <td>0.0</td>\n      <td>0.0</td>\n      <td>0.0</td>\n      <td>0.0</td>\n    </tr>\n    <tr>\n      <th>1</th>\n      <td>0.0</td>\n      <td>0.0</td>\n      <td>0.0</td>\n      <td>0.0</td>\n      <td>0.0</td>\n      <td>0.0</td>\n    </tr>\n    <tr>\n      <th>2</th>\n      <td>0.0</td>\n      <td>0.0</td>\n      <td>0.0</td>\n      <td>0.0</td>\n      <td>0.0</td>\n      <td>0.0</td>\n    </tr>\n    <tr>\n      <th>3</th>\n      <td>0.0</td>\n      <td>0.0</td>\n      <td>0.0</td>\n      <td>0.0</td>\n      <td>0.0</td>\n      <td>0.0</td>\n    </tr>\n    <tr>\n      <th>4</th>\n      <td>0.0</td>\n      <td>0.0</td>\n      <td>0.0</td>\n      <td>0.0</td>\n      <td>0.0</td>\n      <td>0.0</td>\n    </tr>\n    <tr>\n      <th>5</th>\n      <td>0.0</td>\n      <td>0.0</td>\n      <td>0.0</td>\n      <td>0.0</td>\n      <td>0.0</td>\n      <td>0.0</td>\n    </tr>\n  </tbody>\n</table>\n</div>"
     },
     "execution_count": 6,
     "metadata": {},
     "output_type": "execute_result"
    }
   ],
   "source": [
    "cols = ['Method', 'Model\\'s accuracy (%)',\n",
    "        'Explanation\\'s accuracy (%)',\n",
    "        'Complexity', \"Rule extraction (s)\", \"Rule consistency (%)\"]\n",
    "df_str = pd.DataFrame(np.zeros((len(df), len(cols))), columns=cols, dtype='str')\n",
    "df_str"
   ]
  },
  {
   "cell_type": "code",
   "execution_count": 8,
   "id": "assumed-rebound",
   "metadata": {},
   "outputs": [],
   "source": [
    "# df_str['Method'] = ['Pruning', 'Highest $|w|$', '$\\psi$ net', 'Decision tree']\n",
    "# df_str"
   ]
  },
  {
   "cell_type": "code",
   "execution_count": 7,
   "id": "strange-pattern",
   "metadata": {},
   "outputs": [
    {
     "data": {
      "text/plain": "  Method Model's accuracy (%) Explanation's accuracy (%)         Complexity  \\\n0    0.0     $82.37 \\pm 0.53$           $82.37 \\pm 0.53$    $4.24 \\pm 0.10$   \n1    0.0     $89.30 \\pm 0.42$           $89.30 \\pm 0.42$  $138.83 \\pm 5.31$   \n2    0.0     $92.38 \\pm 0.24$            $0.00 \\pm 0.00$    $0.00 \\pm 0.00$   \n3    0.0     $91.51 \\pm 0.37$           $99.13 \\pm 0.20$    $7.93 \\pm 0.15$   \n4    0.0     $91.68 \\pm 0.55$           $98.94 \\pm 0.34$   $28.78 \\pm 1.73$   \n5    0.0     $91.89 \\pm 0.23$           $99.59 \\pm 0.08$   $20.02 \\pm 2.20$   \n\n  Rule extraction (s) Rule consistency (%)  \n0                 0.0                  0.0  \n1                 0.0                  0.0  \n2                 0.0                  0.0  \n3                 0.0                  0.0  \n4                 0.0                  0.0  \n5                 0.0                  0.0  ",
      "text/html": "<div>\n<style scoped>\n    .dataframe tbody tr th:only-of-type {\n        vertical-align: middle;\n    }\n\n    .dataframe tbody tr th {\n        vertical-align: top;\n    }\n\n    .dataframe thead th {\n        text-align: right;\n    }\n</style>\n<table border=\"1\" class=\"dataframe\">\n  <thead>\n    <tr style=\"text-align: right;\">\n      <th></th>\n      <th>Method</th>\n      <th>Model's accuracy (%)</th>\n      <th>Explanation's accuracy (%)</th>\n      <th>Complexity</th>\n      <th>Rule extraction (s)</th>\n      <th>Rule consistency (%)</th>\n    </tr>\n  </thead>\n  <tbody>\n    <tr>\n      <th>0</th>\n      <td>0.0</td>\n      <td>$82.37 \\pm 0.53$</td>\n      <td>$82.37 \\pm 0.53$</td>\n      <td>$4.24 \\pm 0.10$</td>\n      <td>0.0</td>\n      <td>0.0</td>\n    </tr>\n    <tr>\n      <th>1</th>\n      <td>0.0</td>\n      <td>$89.30 \\pm 0.42$</td>\n      <td>$89.30 \\pm 0.42$</td>\n      <td>$138.83 \\pm 5.31$</td>\n      <td>0.0</td>\n      <td>0.0</td>\n    </tr>\n    <tr>\n      <th>2</th>\n      <td>0.0</td>\n      <td>$92.38 \\pm 0.24$</td>\n      <td>$0.00 \\pm 0.00$</td>\n      <td>$0.00 \\pm 0.00$</td>\n      <td>0.0</td>\n      <td>0.0</td>\n    </tr>\n    <tr>\n      <th>3</th>\n      <td>0.0</td>\n      <td>$91.51 \\pm 0.37$</td>\n      <td>$99.13 \\pm 0.20$</td>\n      <td>$7.93 \\pm 0.15$</td>\n      <td>0.0</td>\n      <td>0.0</td>\n    </tr>\n    <tr>\n      <th>4</th>\n      <td>0.0</td>\n      <td>$91.68 \\pm 0.55$</td>\n      <td>$98.94 \\pm 0.34$</td>\n      <td>$28.78 \\pm 1.73$</td>\n      <td>0.0</td>\n      <td>0.0</td>\n    </tr>\n    <tr>\n      <th>5</th>\n      <td>0.0</td>\n      <td>$91.89 \\pm 0.23$</td>\n      <td>$99.59 \\pm 0.08$</td>\n      <td>$20.02 \\pm 2.20$</td>\n      <td>0.0</td>\n      <td>0.0</td>\n    </tr>\n  </tbody>\n</table>\n</div>"
     },
     "execution_count": 7,
     "metadata": {},
     "output_type": "execute_result"
    }
   ],
   "source": [
    "for (_, value_str), (_, value) in zip(df_str.iterrows(), df.iterrows()):\n",
    "    value_str[\"Model's accuracy (%)\"] = f\"${value['model_accuracy_mean']:.2f} \\pm {value['model_accuracy_sem']:.2f}$\"\n",
    "    value_str[\"Explanation's accuracy (%)\"] = f\"${value['explanation_accuracy_mean']:.2f} \\pm {value['explanation_accuracy_sem']:.2f}$\"\n",
    "    value_str[\"Complexity\"] = f\"${value['explanation_complexity_mean']:.2f} \\pm {value['explanation_complexity_sem']:.2f}$\"\n",
    "\n",
    "df_str.to_csv(f'{file[:-4]}_latex.csv')\n",
    "df_str"
   ]
  },
  {
   "cell_type": "code",
   "execution_count": 10,
   "id": "western-diversity",
   "metadata": {
    "pycharm": {
     "name": "#%%\n"
    }
   },
   "outputs": [
    {
     "name": "stdout",
     "output_type": "stream",
     "text": [
      "./results\\cub\\summary.csv\n",
      "\\begin{tabular}{llllll}\n",
      "\\toprule\n",
      "             Method & Model's accuracy (%) & Explanation's accuracy (%) &         Complexity & Rule extraction (s) & Rule consistency (%) \\\\\n",
      "\\midrule\n",
      "                BRL &     $82.37 \\pm 0.53$ &           $82.37 \\pm 0.53$ &    $4.24 \\pm 0.10$ &     $0.03 \\pm 0.00$ &              $30.00$ \\\\\n",
      "               Tree &     $89.30 \\pm 0.42$ &           $89.30 \\pm 0.42$ &  $138.83 \\pm 5.31$ &     $0.01 \\pm 0.00$ &              $21.79$ \\\\\n",
      " LogisticRegression &     $92.38 \\pm 0.24$ &            $0.00 \\pm 0.00$ &    $0.00 \\pm 0.00$ &     $0.00 \\pm 0.00$ &             $100.00$ \\\\\n",
      "          $\\mu$ net &     $91.51 \\pm 0.37$ &           $99.13 \\pm 0.20$ &    $7.93 \\pm 0.15$ &     $2.27 \\pm 0.13$ &              $62.86$ \\\\\n",
      "         $\\psi$ net &     $91.68 \\pm 0.55$ &           $98.94 \\pm 0.34$ &   $28.78 \\pm 1.73$ &     $5.38 \\pm 1.43$ &              $42.86$ \\\\\n",
      "           ReLU net &     $91.89 \\pm 0.23$ &           $99.59 \\pm 0.08$ &   $20.02 \\pm 2.20$ &     $2.40 \\pm 0.39$ &              $54.29$ \\\\\n",
      "\\bottomrule\n",
      "\\end{tabular}\n",
      "\n"
     ]
    }
   ],
   "source": [
    "for i, file in enumerate([files[0]]):\n",
    "    df = pd.read_csv(file, index_col=0)\n",
    "    if file == './results\\\\vdem_low2mid\\\\summary.csv':\n",
    "        df.rename(columns = {'model_accuracy_top_mean': 'model_accuracy_mean'}, inplace = True) \n",
    "        df.rename(columns = {'model_accuracy_top_sem': 'model_accuracy_sem'}, inplace = True) \n",
    "    # df.iloc[-1]['model_accuracy_mean'] = df.iloc[-1]['model_accuracy_mean'] / 100\n",
    "    # df.iloc[-1]['model_accuracy_sem'] = df.iloc[-1]['model_accuracy_sem'] / 100\n",
    "    df_str = pd.DataFrame(np.zeros((len(df), len(cols))), columns=cols, dtype='str')\n",
    "    print(file)\n",
    "    df_str['Method'] = ['BRL', 'Tree', 'LogisticRegression', '$\\mu$ net', '$\\psi$ net', 'ReLU net', ]\n",
    "    for (_, value_str), (_, value) in zip(df_str.iterrows(), df.iterrows()):\n",
    "        value_str[\"Model's accuracy (%)\"] = f\"${value['model_accuracy_mean']:.2f} \\pm {value['model_accuracy_sem']:.2f}$\"\n",
    "        value_str[\"Explanation's accuracy (%)\"] = f\"${value['explanation_accuracy_mean']:.2f} \\pm {value['explanation_accuracy_sem']:.2f}$\"\n",
    "        value_str[\"Complexity\"] = f\"${value['explanation_complexity_mean']:.2f} \\pm {value['explanation_complexity_sem']:.2f}$\"\n",
    "        value_str[\"Rule extraction (s)\"] = f\"${value['elapsed_time_mean']:.2f} \\pm {value['elapsed_time_sem']:.2f}$\"\n",
    "        value_str[\"Rule consistency (%)\"] = f\"${value['explanation_consistency_mean']*100:.2f}$\"\n",
    "\n",
    "    df_str.to_csv(f'{file[:-4]}_latex.csv')\n",
    "    latex_table = df_str.to_latex(bold_rows=True, escape=False, index=False)\n",
    "    print(latex_table)"
   ]
  }
 ],
 "metadata": {
  "kernelspec": {
   "display_name": "Python 3",
   "language": "python",
   "name": "python3"
  },
  "language_info": {
   "codemirror_mode": {
    "name": "ipython",
    "version": 3
   },
   "file_extension": ".py",
   "mimetype": "text/x-python",
   "name": "python",
   "nbconvert_exporter": "python",
   "pygments_lexer": "ipython3",
   "version": "3.8.5"
  }
 },
 "nbformat": 4,
 "nbformat_minor": 5
}