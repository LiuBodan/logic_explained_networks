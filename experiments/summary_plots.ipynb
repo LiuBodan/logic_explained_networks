{
 "cells": [
  {
   "cell_type": "code",
   "execution_count": 1,
   "id": "indonesian-daniel",
   "metadata": {},
   "outputs": [],
   "source": [
    "import os\n",
    "import glob\n",
    "import numpy as np\n",
    "import pandas as pd\n",
    "import matplotlib.pyplot as plt\n",
    "import seaborn as sns"
   ]
  },
  {
   "cell_type": "code",
   "execution_count": 2,
   "id": "centered-president",
   "metadata": {},
   "outputs": [
    {
     "data": {
      "text/plain": [
       "['./results\\\\mimic2\\\\summary.csv',\n",
       " './results\\\\mimic_explain_classifier\\\\summary.csv',\n",
       " './results\\\\vdem_low2mid\\\\summary.csv']"
      ]
     },
     "execution_count": 2,
     "metadata": {},
     "output_type": "execute_result"
    }
   ],
   "source": [
    "files = glob.glob('./results/**/summary.csv', recursive = True)\n",
    "files"
   ]
  },
  {
   "cell_type": "code",
   "execution_count": 3,
   "id": "derived-mining",
   "metadata": {},
   "outputs": [],
   "source": [
    "file = files[0]"
   ]
  },
  {
   "cell_type": "code",
   "execution_count": 4,
   "id": "needed-colleague",
   "metadata": {},
   "outputs": [
    {
     "data": {
      "text/html": [
       "<div>\n",
       "<style scoped>\n",
       "    .dataframe tbody tr th:only-of-type {\n",
       "        vertical-align: middle;\n",
       "    }\n",
       "\n",
       "    .dataframe tbody tr th {\n",
       "        vertical-align: top;\n",
       "    }\n",
       "\n",
       "    .dataframe thead th {\n",
       "        text-align: right;\n",
       "    }\n",
       "</style>\n",
       "<table border=\"1\" class=\"dataframe\">\n",
       "  <thead>\n",
       "    <tr style=\"text-align: right;\">\n",
       "      <th></th>\n",
       "      <th>model_accuracy_mean</th>\n",
       "      <th>explanation_accuracy_mean</th>\n",
       "      <th>explanation_fidelity_mean</th>\n",
       "      <th>explanation_complexity_mean</th>\n",
       "      <th>elapsed_time_mean</th>\n",
       "      <th>explanation_consistency_mean</th>\n",
       "      <th>model_accuracy_sem</th>\n",
       "      <th>explanation_accuracy_sem</th>\n",
       "      <th>explanation_fidelity_sem</th>\n",
       "      <th>explanation_complexity_sem</th>\n",
       "      <th>elapsed_time_sem</th>\n",
       "      <th>explanation_consistency_sem</th>\n",
       "      <th>Error (%)</th>\n",
       "      <th>Complexity</th>\n",
       "      <th>OOB</th>\n",
       "    </tr>\n",
       "  </thead>\n",
       "  <tbody>\n",
       "    <tr>\n",
       "      <th>pruning</th>\n",
       "      <td>86.598743</td>\n",
       "      <td>85.079667</td>\n",
       "      <td>0.96228</td>\n",
       "      <td>5.1</td>\n",
       "      <td>13.319946</td>\n",
       "      <td>0.510000</td>\n",
       "      <td>0.003019</td>\n",
       "      <td>0.004809</td>\n",
       "      <td>0.008124</td>\n",
       "      <td>0.348010</td>\n",
       "      <td>0.303130</td>\n",
       "      <td>0.000000e+00</td>\n",
       "      <td>14.920333</td>\n",
       "      <td>5.1</td>\n",
       "      <td>0</td>\n",
       "    </tr>\n",
       "    <tr>\n",
       "      <th>weights</th>\n",
       "      <td>85.361518</td>\n",
       "      <td>82.094204</td>\n",
       "      <td>0.87836</td>\n",
       "      <td>23.4</td>\n",
       "      <td>266.215391</td>\n",
       "      <td>0.260000</td>\n",
       "      <td>0.007811</td>\n",
       "      <td>0.013768</td>\n",
       "      <td>0.021187</td>\n",
       "      <td>11.200397</td>\n",
       "      <td>166.899079</td>\n",
       "      <td>1.850372e-17</td>\n",
       "      <td>17.905796</td>\n",
       "      <td>23.4</td>\n",
       "      <td>0</td>\n",
       "    </tr>\n",
       "    <tr>\n",
       "      <th>psi</th>\n",
       "      <td>84.009078</td>\n",
       "      <td>82.826128</td>\n",
       "      <td>0.84628</td>\n",
       "      <td>2.6</td>\n",
       "      <td>8.813209</td>\n",
       "      <td>0.371429</td>\n",
       "      <td>0.000894</td>\n",
       "      <td>0.006595</td>\n",
       "      <td>0.006734</td>\n",
       "      <td>0.163299</td>\n",
       "      <td>0.148552</td>\n",
       "      <td>0.000000e+00</td>\n",
       "      <td>17.173872</td>\n",
       "      <td>2.6</td>\n",
       "      <td>0</td>\n",
       "    </tr>\n",
       "    <tr>\n",
       "      <th>tree</th>\n",
       "      <td>79.557545</td>\n",
       "      <td>79.557545</td>\n",
       "      <td>1.00000</td>\n",
       "      <td>1342.6</td>\n",
       "      <td>0.016373</td>\n",
       "      <td>0.815033</td>\n",
       "      <td>0.007968</td>\n",
       "      <td>0.007968</td>\n",
       "      <td>0.000000</td>\n",
       "      <td>16.940550</td>\n",
       "      <td>0.000643</td>\n",
       "      <td>3.700743e-17</td>\n",
       "      <td>20.442455</td>\n",
       "      <td>1342.6</td>\n",
       "      <td>1</td>\n",
       "    </tr>\n",
       "    <tr>\n",
       "      <th>BRL</th>\n",
       "      <td>0.861499</td>\n",
       "      <td>85.923951</td>\n",
       "      <td>1.00000</td>\n",
       "      <td>20.7</td>\n",
       "      <td>495.594809</td>\n",
       "      <td>0.283333</td>\n",
       "      <td>0.005085</td>\n",
       "      <td>0.004582</td>\n",
       "      <td>0.000000</td>\n",
       "      <td>4.077172</td>\n",
       "      <td>7.128592</td>\n",
       "      <td>1.850372e-17</td>\n",
       "      <td>14.076049</td>\n",
       "      <td>20.7</td>\n",
       "      <td>1</td>\n",
       "    </tr>\n",
       "  </tbody>\n",
       "</table>\n",
       "</div>"
      ],
      "text/plain": [
       "         model_accuracy_mean  explanation_accuracy_mean  \\\n",
       "pruning            86.598743                  85.079667   \n",
       "weights            85.361518                  82.094204   \n",
       "psi                84.009078                  82.826128   \n",
       "tree               79.557545                  79.557545   \n",
       "BRL                 0.861499                  85.923951   \n",
       "\n",
       "         explanation_fidelity_mean  explanation_complexity_mean  \\\n",
       "pruning                    0.96228                          5.1   \n",
       "weights                    0.87836                         23.4   \n",
       "psi                        0.84628                          2.6   \n",
       "tree                       1.00000                       1342.6   \n",
       "BRL                        1.00000                         20.7   \n",
       "\n",
       "         elapsed_time_mean  explanation_consistency_mean  model_accuracy_sem  \\\n",
       "pruning          13.319946                      0.510000            0.003019   \n",
       "weights         266.215391                      0.260000            0.007811   \n",
       "psi               8.813209                      0.371429            0.000894   \n",
       "tree              0.016373                      0.815033            0.007968   \n",
       "BRL             495.594809                      0.283333            0.005085   \n",
       "\n",
       "         explanation_accuracy_sem  explanation_fidelity_sem  \\\n",
       "pruning                  0.004809                  0.008124   \n",
       "weights                  0.013768                  0.021187   \n",
       "psi                      0.006595                  0.006734   \n",
       "tree                     0.007968                  0.000000   \n",
       "BRL                      0.004582                  0.000000   \n",
       "\n",
       "         explanation_complexity_sem  elapsed_time_sem  \\\n",
       "pruning                    0.348010          0.303130   \n",
       "weights                   11.200397        166.899079   \n",
       "psi                        0.163299          0.148552   \n",
       "tree                      16.940550          0.000643   \n",
       "BRL                        4.077172          7.128592   \n",
       "\n",
       "         explanation_consistency_sem  Error (%)  Complexity  OOB  \n",
       "pruning                 0.000000e+00  14.920333         5.1    0  \n",
       "weights                 1.850372e-17  17.905796        23.4    0  \n",
       "psi                     0.000000e+00  17.173872         2.6    0  \n",
       "tree                    3.700743e-17  20.442455      1342.6    1  \n",
       "BRL                     1.850372e-17  14.076049        20.7    1  "
      ]
     },
     "execution_count": 4,
     "metadata": {},
     "output_type": "execute_result"
    }
   ],
   "source": [
    "df = pd.read_csv(file, index_col=0)\n",
    "df.iloc[:-1, 0] = df.iloc[:-1, 0] * 100\n",
    "df['explanation_accuracy_mean'] = df['explanation_accuracy_mean'] * 100\n",
    "df['Error (%)'] = 100 - df['explanation_accuracy_mean']\n",
    "df['Complexity'] = df['explanation_complexity_mean']\n",
    "df['OOB'] = [0, 0, 0, 1, 1]\n",
    "df"
   ]
  },
  {
   "cell_type": "code",
   "execution_count": 5,
   "id": "standard-optimum",
   "metadata": {},
   "outputs": [],
   "source": [
    "def is_pareto_efficient_dumb(costs):\n",
    "    \"\"\"\n",
    "    Find the pareto-efficient points\n",
    "    :param costs: An (n_points, n_costs) array\n",
    "    :return: A (n_points, ) boolean array, indicating whether each point is Pareto efficient\n",
    "    \"\"\"\n",
    "    is_efficient = np.ones(costs.shape[0], dtype = bool)\n",
    "    for i, c in enumerate(costs):\n",
    "        is_efficient[i] = np.all(np.any(costs[:i]>c, axis=1)) and np.all(np.any(costs[i+1:]>c, axis=1))\n",
    "    return is_efficient"
   ]
  },
  {
   "cell_type": "code",
   "execution_count": 6,
   "id": "adjustable-action",
   "metadata": {},
   "outputs": [
    {
     "data": {
      "text/plain": [
       "array([ True, False,  True, False,  True])"
      ]
     },
     "execution_count": 6,
     "metadata": {},
     "output_type": "execute_result"
    }
   ],
   "source": [
    "is_efficient = is_pareto_efficient_dumb(df[['Complexity', 'Error (%)']].values)\n",
    "is_efficient"
   ]
  },
  {
   "cell_type": "code",
   "execution_count": 7,
   "id": "breeding-victor",
   "metadata": {},
   "outputs": [
    {
     "data": {
      "text/plain": [
       "array([1, 0, 2], dtype=int64)"
      ]
     },
     "execution_count": 7,
     "metadata": {},
     "output_type": "execute_result"
    }
   ],
   "source": [
    "is_efficient_sorted_idx = df['Complexity'][is_efficient].argsort().values\n",
    "is_efficient_sorted_idx"
   ]
  },
  {
   "cell_type": "code",
   "execution_count": 8,
   "id": "official-malpractice",
   "metadata": {},
   "outputs": [
    {
     "data": {
      "text/plain": [
       "array([ 2.6,  5.1, 20.7])"
      ]
     },
     "execution_count": 8,
     "metadata": {},
     "output_type": "execute_result"
    }
   ],
   "source": [
    "is_efficient_sorted_x = df['Complexity'][is_efficient][is_efficient_sorted_idx].values\n",
    "is_efficient_sorted_x"
   ]
  },
  {
   "cell_type": "code",
   "execution_count": 9,
   "id": "tamil-benchmark",
   "metadata": {},
   "outputs": [
    {
     "data": {
      "text/plain": [
       "array([17.17387164, 14.92033264, 14.07604901])"
      ]
     },
     "execution_count": 9,
     "metadata": {},
     "output_type": "execute_result"
    }
   ],
   "source": [
    "is_efficient_sorted_y = df['Error (%)'][is_efficient][is_efficient_sorted_idx].values\n",
    "is_efficient_sorted_y"
   ]
  },
  {
   "cell_type": "code",
   "execution_count": 10,
   "id": "twenty-cotton",
   "metadata": {},
   "outputs": [
    {
     "data": {
      "image/png": "[encoded data removed]",
      "text/plain": [
       "<Figure size 360x216 with 1 Axes>"
      ]
     },
     "metadata": {},
     "output_type": "display_data"
    }
   ],
   "source": [
    "sns.set(font_scale=1.1)\n",
    "sns.set_style(\"whitegrid\")\n",
    "plt.figure(figsize=[5, 3])\n",
    "plt.plot([9, 9], [0, 30], c='r', linestyle='--', alpha=1)\n",
    "plt.text(3, 26, 'Max complexity ~9', {'color':  'r', 'backgroundcolor': 'w', \n",
    "                                       'bbox': {'fc': 'w', 'ec': 'r', 'ls': '--'}})\n",
    "sns.lineplot(x=is_efficient_sorted_x, y=is_efficient_sorted_y, color='k', linestyle='--', alpha=0.5)\n",
    "sns.scatterplot(data=df, x='Complexity', y='Error (%)', hue=df.index, style='OOB', s=100, legend=False)\n",
    "plt.xscale('log')\n",
    "plt.ylim([0, 30])\n",
    "plt.show()"
   ]
  },
  {
   "cell_type": "code",
   "execution_count": 11,
   "id": "patent-interpretation",
   "metadata": {},
   "outputs": [
    {
     "data": {
      "text/plain": [
       "'mimic2'"
      ]
     },
     "execution_count": 11,
     "metadata": {},
     "output_type": "execute_result"
    }
   ],
   "source": [
    "file.split('\\\\')[1]"
   ]
  },
  {
   "cell_type": "code",
   "execution_count": 12,
   "id": "reverse-maker",
   "metadata": {},
   "outputs": [
    {
     "name": "stdout",
     "output_type": "stream",
     "text": [
      "./results\\mimic2\\summary.csv\n"
     ]
    },
    {
     "data": {
      "image/png": "[encoded data removed]",
      "text/plain": [
       "<Figure size 360x216 with 1 Axes>"
      ]
     },
     "metadata": {},
     "output_type": "display_data"
    },
    {
     "name": "stdout",
     "output_type": "stream",
     "text": [
      "./results\\mimic_explain_classifier\\summary.csv\n"
     ]
    },
    {
     "data": {
      "image/png": "[encoded data removed]",
      "text/plain": [
       "<Figure size 360x216 with 1 Axes>"
      ]
     },
     "metadata": {},
     "output_type": "display_data"
    },
    {
     "name": "stdout",
     "output_type": "stream",
     "text": [
      "./results\\vdem_low2mid\\summary.csv\n"
     ]
    },
    {
     "data": {
      "image/png": "[encoded data removed]",
      "text/plain": [
       "<Figure size 360x216 with 1 Axes>"
      ]
     },
     "metadata": {},
     "output_type": "display_data"
    }
   ],
   "source": [
    "titles = ['MIMIC-II', 'MIMIC-II (explain classifier)', 'vDem']\n",
    "for i, (file, title) in enumerate(zip(files, titles)):\n",
    "    df = pd.read_csv(file, index_col=0)\n",
    "    \n",
    "    if file == './results\\\\vdem_low2mid\\\\summary.csv':\n",
    "        df.rename(columns = {'model_accuracy_top_mean': 'model_accuracy_mean'}, inplace = True) \n",
    "        df.rename(columns = {'model_accuracy_top_sem': 'model_accuracy_sem'}, inplace = True) \n",
    "    print(file)\n",
    "    df.iloc[:-1, 0] = df.iloc[:-1, 0] * 100\n",
    "    df['explanation_accuracy_mean'] = df['explanation_accuracy_mean'] * 100\n",
    "    df['Error (%)'] = 100 - df['explanation_accuracy_mean']\n",
    "    df['Complexity'] = df['explanation_complexity_mean']\n",
    "    df['OOB'] = [0, 0, 0, 1, 1]\n",
    "    \n",
    "    is_efficient = is_pareto_efficient_dumb(df[['Complexity', 'Error (%)']].values)\n",
    "    is_efficient_sorted_idx = df['Complexity'][is_efficient].argsort().values\n",
    "    is_efficient_sorted_x = df['Complexity'][is_efficient][is_efficient_sorted_idx].values\n",
    "    is_efficient_sorted_y = df['Error (%)'][is_efficient][is_efficient_sorted_idx].values\n",
    "    \n",
    "    plt.figure(figsize=[5, 3])\n",
    "    plt.title(title)\n",
    "    plt.plot([9, 9], [0, 50], c='r', linestyle='--')\n",
    "    plt.text(3, 42, 'Max complexity ~9', {'color':  'r', 'backgroundcolor': 'w', \n",
    "                                           'bbox': {'fc': 'w', 'ec': 'r', 'ls': '--'}})\n",
    "    sns.lineplot(x=is_efficient_sorted_x, y=is_efficient_sorted_y, color='k', linestyle='--', alpha=0.5)\n",
    "    sns.scatterplot(data=df, x='Complexity', y='Error (%)', hue=df.index, style='OOB', s=200, legend=False)\n",
    "    plt.xscale('log')\n",
    "    plt.ylim([0, 50])\n",
    "    plt.tight_layout()\n",
    "    name = file.split('\\\\')[1]\n",
    "    plt.savefig(f\"./results/{name}.png\")\n",
    "    plt.savefig(f\"./results/{name}.pdf\")\n",
    "    plt.show()\n",
    "    "
   ]
  },
  {
   "cell_type": "code",
   "execution_count": 13,
   "id": "unable-prospect",
   "metadata": {},
   "outputs": [
    {
     "data": {
      "image/png": "[encoded data removed]",
      "text/plain": [
       "<Figure size 360x576 with 1 Axes>"
      ]
     },
     "metadata": {},
     "output_type": "display_data"
    }
   ],
   "source": [
    "import matplotlib as mpl\n",
    "df['Method'] = ['mu net', 'ReLU net', 'psi net', 'Tree', 'BRL']\n",
    "plt.figure(figsize=[5, 8])\n",
    "sns.scatterplot(data=df, x='Complexity', y='Error (%)', hue='Method', s=200)\n",
    "plt.xscale('log')\n",
    "plt.ylim([0, 100])\n",
    "plt.legend(loc='lower center', fontsize='medium', ncol=5, frameon=False, \n",
    "           bbox_to_anchor=(0.5, -1),fancybox=False, shadow=False)\n",
    "plt.tight_layout()\n",
    "plt.savefig('./results/legend.png', bbox_inches=mpl.transforms.Bbox([[-0.8, 4.7], [5.9, 4.9]]))\n",
    "plt.savefig('./results/legend.pdf', bbox_inches=mpl.transforms.Bbox([[-0.8, 4.7], [5.9, 4.9]]))\n",
    "plt.show()"
   ]
  }
 ],
 "metadata": {
  "kernelspec": {
   "display_name": "Python 3",
   "language": "python",
   "name": "python3"
  },
  "language_info": {
   "codemirror_mode": {
    "name": "ipython",
    "version": 3
   },
   "file_extension": ".py",
   "mimetype": "text/x-python",
   "name": "python",
   "nbconvert_exporter": "python",
   "pygments_lexer": "ipython3",
   "version": "3.8.5"
  }
 },
 "nbformat": 4,
 "nbformat_minor": 5
}
