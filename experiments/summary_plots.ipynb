{
 "cells": [
  {
   "cell_type": "code",
   "execution_count": 5,
   "id": "indonesian-daniel",
   "metadata": {},
   "outputs": [],
   "source": [
    "import os\n",
    "import glob\n",
    "import numpy as np\n",
    "import pandas as pd\n",
    "import matplotlib.pyplot as plt\n",
    "import seaborn as sns"
   ]
  },
  {
   "cell_type": "code",
   "execution_count": 2,
   "id": "centered-president",
   "metadata": {},
   "outputs": [
    {
     "data": {
      "text/plain": [
       "['./results\\\\mimic2\\\\summary.csv',\n",
       " './results\\\\mimic_explain_classifier\\\\summary.csv',\n",
       " './results\\\\vdem_low2mid\\\\summary.csv']"
      ]
     },
     "execution_count": 2,
     "metadata": {},
     "output_type": "execute_result"
    }
   ],
   "source": [
    "files = glob.glob('./results/**/summary.csv', recursive = True)\n",
    "files"
   ]
  },
  {
   "cell_type": "code",
   "execution_count": 17,
   "id": "derived-mining",
   "metadata": {},
   "outputs": [],
   "source": [
    "file = files[0]"
   ]
  },
  {
   "cell_type": "code",
   "execution_count": 127,
   "id": "needed-colleague",
   "metadata": {},
   "outputs": [
    {
     "data": {
      "text/html": [
       "<div>\n",
       "<style scoped>\n",
       "    .dataframe tbody tr th:only-of-type {\n",
       "        vertical-align: middle;\n",
       "    }\n",
       "\n",
       "    .dataframe tbody tr th {\n",
       "        vertical-align: top;\n",
       "    }\n",
       "\n",
       "    .dataframe thead th {\n",
       "        text-align: right;\n",
       "    }\n",
       "</style>\n",
       "<table border=\"1\" class=\"dataframe\">\n",
       "  <thead>\n",
       "    <tr style=\"text-align: right;\">\n",
       "      <th></th>\n",
       "      <th>model_accuracy_top_mean</th>\n",
       "      <th>explanation_accuracy_mean</th>\n",
       "      <th>explanation_fidelity_mean</th>\n",
       "      <th>explanation_complexity_mean</th>\n",
       "      <th>elapsed_time_mean</th>\n",
       "      <th>explanation_consistency_mean</th>\n",
       "      <th>model_accuracy_top_sem</th>\n",
       "      <th>explanation_accuracy_sem</th>\n",
       "      <th>explanation_fidelity_sem</th>\n",
       "      <th>explanation_complexity_sem</th>\n",
       "      <th>elapsed_time_sem</th>\n",
       "      <th>explanation_consistency_sem</th>\n",
       "      <th>Error (%)</th>\n",
       "      <th>Complexity</th>\n",
       "      <th>OOB</th>\n",
       "    </tr>\n",
       "  </thead>\n",
       "  <tbody>\n",
       "    <tr>\n",
       "      <th>pruning</th>\n",
       "      <td>91.077394</td>\n",
       "      <td>85.107347</td>\n",
       "      <td>0.851073</td>\n",
       "      <td>9.3</td>\n",
       "      <td>2.912821</td>\n",
       "      <td>0.625000</td>\n",
       "      <td>0.009276</td>\n",
       "      <td>0.014165</td>\n",
       "      <td>0.014165</td>\n",
       "      <td>0.746101</td>\n",
       "      <td>0.158873</td>\n",
       "      <td>0.000000e+00</td>\n",
       "      <td>14.892653</td>\n",
       "      <td>9.3</td>\n",
       "      <td>0</td>\n",
       "    </tr>\n",
       "    <tr>\n",
       "      <th>weights</th>\n",
       "      <td>92.672584</td>\n",
       "      <td>54.471296</td>\n",
       "      <td>0.544713</td>\n",
       "      <td>4.2</td>\n",
       "      <td>3.096242</td>\n",
       "      <td>0.390000</td>\n",
       "      <td>0.004398</td>\n",
       "      <td>0.027152</td>\n",
       "      <td>0.027152</td>\n",
       "      <td>0.553775</td>\n",
       "      <td>0.122414</td>\n",
       "      <td>0.000000e+00</td>\n",
       "      <td>45.528704</td>\n",
       "      <td>4.2</td>\n",
       "      <td>0</td>\n",
       "    </tr>\n",
       "    <tr>\n",
       "      <th>psi</th>\n",
       "      <td>79.226755</td>\n",
       "      <td>79.851198</td>\n",
       "      <td>0.798512</td>\n",
       "      <td>2.0</td>\n",
       "      <td>0.026749</td>\n",
       "      <td>0.158333</td>\n",
       "      <td>0.021982</td>\n",
       "      <td>0.028681</td>\n",
       "      <td>0.028681</td>\n",
       "      <td>0.494413</td>\n",
       "      <td>0.003884</td>\n",
       "      <td>9.251859e-18</td>\n",
       "      <td>20.148802</td>\n",
       "      <td>2.0</td>\n",
       "      <td>0</td>\n",
       "    </tr>\n",
       "    <tr>\n",
       "      <th>tree</th>\n",
       "      <td>92.111501</td>\n",
       "      <td>92.111501</td>\n",
       "      <td>0.921115</td>\n",
       "      <td>294.1</td>\n",
       "      <td>0.000897</td>\n",
       "      <td>0.368571</td>\n",
       "      <td>0.003808</td>\n",
       "      <td>0.003808</td>\n",
       "      <td>0.003808</td>\n",
       "      <td>7.878875</td>\n",
       "      <td>0.000179</td>\n",
       "      <td>1.850372e-17</td>\n",
       "      <td>7.888499</td>\n",
       "      <td>294.1</td>\n",
       "      <td>1</td>\n",
       "    </tr>\n",
       "    <tr>\n",
       "      <th>BRL</th>\n",
       "      <td>91.934684</td>\n",
       "      <td>93.439284</td>\n",
       "      <td>0.934393</td>\n",
       "      <td>7.7</td>\n",
       "      <td>0.026822</td>\n",
       "      <td>0.828571</td>\n",
       "      <td>0.250310</td>\n",
       "      <td>0.013708</td>\n",
       "      <td>0.013708</td>\n",
       "      <td>0.683943</td>\n",
       "      <td>0.008717</td>\n",
       "      <td>0.000000e+00</td>\n",
       "      <td>6.560716</td>\n",
       "      <td>7.7</td>\n",
       "      <td>1</td>\n",
       "    </tr>\n",
       "  </tbody>\n",
       "</table>\n",
       "</div>"
      ],
      "text/plain": [
       "         model_accuracy_top_mean  explanation_accuracy_mean  \\\n",
       "pruning                91.077394                  85.107347   \n",
       "weights                92.672584                  54.471296   \n",
       "psi                    79.226755                  79.851198   \n",
       "tree                   92.111501                  92.111501   \n",
       "BRL                    91.934684                  93.439284   \n",
       "\n",
       "         explanation_fidelity_mean  explanation_complexity_mean  \\\n",
       "pruning                   0.851073                          9.3   \n",
       "weights                   0.544713                          4.2   \n",
       "psi                       0.798512                          2.0   \n",
       "tree                      0.921115                        294.1   \n",
       "BRL                       0.934393                          7.7   \n",
       "\n",
       "         elapsed_time_mean  explanation_consistency_mean  \\\n",
       "pruning           2.912821                      0.625000   \n",
       "weights           3.096242                      0.390000   \n",
       "psi               0.026749                      0.158333   \n",
       "tree              0.000897                      0.368571   \n",
       "BRL               0.026822                      0.828571   \n",
       "\n",
       "         model_accuracy_top_sem  explanation_accuracy_sem  \\\n",
       "pruning                0.009276                  0.014165   \n",
       "weights                0.004398                  0.027152   \n",
       "psi                    0.021982                  0.028681   \n",
       "tree                   0.003808                  0.003808   \n",
       "BRL                    0.250310                  0.013708   \n",
       "\n",
       "         explanation_fidelity_sem  explanation_complexity_sem  \\\n",
       "pruning                  0.014165                    0.746101   \n",
       "weights                  0.027152                    0.553775   \n",
       "psi                      0.028681                    0.494413   \n",
       "tree                     0.003808                    7.878875   \n",
       "BRL                      0.013708                    0.683943   \n",
       "\n",
       "         elapsed_time_sem  explanation_consistency_sem  Error (%)  Complexity  \\\n",
       "pruning          0.158873                 0.000000e+00  14.892653         9.3   \n",
       "weights          0.122414                 0.000000e+00  45.528704         4.2   \n",
       "psi              0.003884                 9.251859e-18  20.148802         2.0   \n",
       "tree             0.000179                 1.850372e-17   7.888499       294.1   \n",
       "BRL              0.008717                 0.000000e+00   6.560716         7.7   \n",
       "\n",
       "         OOB  \n",
       "pruning    0  \n",
       "weights    0  \n",
       "psi        0  \n",
       "tree       1  \n",
       "BRL        1  "
      ]
     },
     "execution_count": 127,
     "metadata": {},
     "output_type": "execute_result"
    }
   ],
   "source": [
    "df = pd.read_csv(file, index_col=0)\n",
    "df.iloc[:-1, 0] = df.iloc[:-1, 0] * 100\n",
    "df['explanation_accuracy_mean'] = df['explanation_accuracy_mean'] * 100\n",
    "df['Error (%)'] = 100 - df['explanation_accuracy_mean']\n",
    "df['Complexity'] = df['explanation_complexity_mean']\n",
    "df['OOB'] = [0, 0, 0, 1, 1]\n",
    "df"
   ]
  },
  {
   "cell_type": "code",
   "execution_count": 128,
   "id": "twenty-cotton",
   "metadata": {},
   "outputs": [
    {
     "data": {
      "image/png": "[encoded data removed]",
      "text/plain": [
       "<Figure size 360x216 with 1 Axes>"
      ]
     },
     "metadata": {},
     "output_type": "display_data"
    }
   ],
   "source": [
    "sns.set(font_scale=1.1)\n",
    "sns.set_style(\"whitegrid\")\n",
    "plt.figure(figsize=[5, 3])\n",
    "sns.scatterplot(data=df, x='Complexity', y='Error (%)', hue=df.index, style='OOB', s=100)\n",
    "plt.xscale('log')\n",
    "plt.ylim([0, 100])\n",
    "plt.legend('off')\n",
    "plt.show()"
   ]
  },
  {
   "cell_type": "code",
   "execution_count": 114,
   "id": "patent-interpretation",
   "metadata": {},
   "outputs": [
    {
     "data": {
      "text/plain": [
       "'vdem_low2mid'"
      ]
     },
     "execution_count": 114,
     "metadata": {},
     "output_type": "execute_result"
    }
   ],
   "source": [
    "file.split('\\\\')[1]"
   ]
  },
  {
   "cell_type": "code",
   "execution_count": 130,
   "id": "reverse-maker",
   "metadata": {},
   "outputs": [
    {
     "name": "stdout",
     "output_type": "stream",
     "text": [
      "./results\\mimic2\\summary.csv\n"
     ]
    },
    {
     "data": {
      "image/png": "[encoded data removed]",
      "text/plain": [
       "<Figure size 360x216 with 1 Axes>"
      ]
     },
     "metadata": {},
     "output_type": "display_data"
    },
    {
     "name": "stdout",
     "output_type": "stream",
     "text": [
      "./results\\mimic_explain_classifier\\summary.csv\n"
     ]
    },
    {
     "data": {
      "image/png": "[encoded data removed]",
      "text/plain": [
       "<Figure size 360x216 with 1 Axes>"
      ]
     },
     "metadata": {},
     "output_type": "display_data"
    },
    {
     "name": "stdout",
     "output_type": "stream",
     "text": [
      "./results\\vdem_low2mid\\summary.csv\n"
     ]
    },
    {
     "data": {
      "image/png": "[encoded data removed]",
      "text/plain": [
       "<Figure size 360x216 with 1 Axes>"
      ]
     },
     "metadata": {},
     "output_type": "display_data"
    }
   ],
   "source": [
    "titles = ['MIMIC-II', 'MIMIC-II (explain classifier)', 'vDem']\n",
    "for i, (file, title) in enumerate(zip(files, titles)):\n",
    "    df = pd.read_csv(file, index_col=0)\n",
    "    \n",
    "    if file == './results\\\\vdem_low2mid\\\\summary.csv':\n",
    "        df.rename(columns = {'model_accuracy_top_mean': 'model_accuracy_mean'}, inplace = True) \n",
    "        df.rename(columns = {'model_accuracy_top_sem': 'model_accuracy_sem'}, inplace = True) \n",
    "    print(file)\n",
    "    df.iloc[:-1, 0] = df.iloc[:-1, 0] * 100\n",
    "    df['explanation_accuracy_mean'] = df['explanation_accuracy_mean'] * 100\n",
    "    df['Error (%)'] = 100 - df['explanation_accuracy_mean']\n",
    "    df['Complexity'] = df['explanation_complexity_mean']\n",
    "    df['OOB'] = [0, 0, 0, 1, 1]\n",
    "    \n",
    "    plt.figure(figsize=[5, 3])\n",
    "    plt.title(title)\n",
    "    sns.scatterplot(data=df, x='Complexity', y='Error (%)', hue=df.index, style='OOB', s=100, legend=False)\n",
    "    plt.xscale('log')\n",
    "    plt.ylim([0, 100])\n",
    "    plt.tight_layout()\n",
    "    name = file.split('\\\\')[1]\n",
    "    plt.savefig(f\"./results/{name}.png\")\n",
    "    plt.show()\n",
    "    "
   ]
  },
  {
   "cell_type": "code",
   "execution_count": 132,
   "id": "unable-prospect",
   "metadata": {},
   "outputs": [
    {
     "data": {
      "image/png": "[encoded data removed]",
      "text/plain": [
       "<Figure size 360x576 with 1 Axes>"
      ]
     },
     "metadata": {},
     "output_type": "display_data"
    }
   ],
   "source": [
    "import matplotlib as mpl\n",
    "df['Method'] = ['mu net', 'ReLU net', 'psi net', 'Tree', 'BRL']\n",
    "plt.figure(figsize=[5, 8])\n",
    "sns.scatterplot(data=df, x='Complexity', y='Error (%)', hue='Method', s=100)\n",
    "plt.xscale('log')\n",
    "plt.ylim([0, 100])\n",
    "plt.legend(loc='lower center', fontsize='medium', ncol=5, frameon=False, \n",
    "           bbox_to_anchor=(0.5, -1),fancybox=False, shadow=False)\n",
    "plt.tight_layout()\n",
    "plt.savefig('./results/legend.png', bbox_inches=mpl.transforms.Bbox([[-0.8, 4.7], [5.9, 4.9]]))\n",
    "plt.show()"
   ]
  }
 ],
 "metadata": {
  "kernelspec": {
   "display_name": "Python 3",
   "language": "python",
   "name": "python3"
  },
  "language_info": {
   "codemirror_mode": {
    "name": "ipython",
    "version": 3
   },
   "file_extension": ".py",
   "mimetype": "text/x-python",
   "name": "python",
   "nbconvert_exporter": "python",
   "pygments_lexer": "ipython3",
   "version": "3.8.5"
  }
 },
 "nbformat": 4,
 "nbformat_minor": 5
}
