{
 "cells": [
  {
   "cell_type": "code",
   "execution_count": 1,
   "id": "indonesian-daniel",
   "metadata": {},
   "outputs": [],
   "source": [
    "import os\n",
    "import glob\n",
    "import numpy as np\n",
    "import pandas as pd"
   ]
  },
  {
   "cell_type": "code",
   "execution_count": 22,
   "id": "centered-president",
   "metadata": {},
   "outputs": [
    {
     "data": {
      "text/plain": "['./results\\\\cub\\\\summary.csv']"
     },
     "execution_count": 22,
     "metadata": {},
     "output_type": "execute_result"
    }
   ],
   "source": [
    "files = glob.glob('./results/**/summary.csv', recursive = True)\n",
    "files"
   ]
  },
  {
   "cell_type": "code",
   "execution_count": 23,
   "id": "derived-mining",
   "metadata": {},
   "outputs": [],
   "source": [
    "file = files[0]"
   ]
  },
  {
   "cell_type": "code",
   "execution_count": 25,
   "id": "needed-colleague",
   "metadata": {},
   "outputs": [
    {
     "data": {
      "text/plain": "         model_accuracy_mean  explanation_accuracy_mean  \\\ngeneral            91.634410                  95.987492   \nrelu               91.842773                  95.708168   \npsi                34.008809                  63.364753   \ntree               89.078614                  89.078614   \n\n         explanation_accuracy_inv_mean  elapsed_time_mean  \\\ngeneral                      93.069706           0.512389   \nrelu                         89.517908           0.162152   \npsi                          79.147551           6.490535   \ntree                         89.078614           0.009846   \n\n         elapsed_time_inv_mean  model_accuracy_sem  explanation_accuracy_sem  \\\ngeneral               0.490674            0.174721                  2.581652   \nrelu                  0.176545            0.216889                  1.163215   \npsi                   6.490535            0.975116                  7.762515   \ntree                  0.008804            0.283399                  0.283399   \n\n         explanation_accuracy_inv_sem  elapsed_time_sem  elapsed_time_inv_sem  \ngeneral                      4.915958          0.039970              0.042677  \nrelu                         6.622829          0.015354              0.014599  \npsi                          6.068714          0.115092              0.115092  \ntree                         0.283399          0.000390              0.000640  ",
      "text/html": "<div>\n<style scoped>\n    .dataframe tbody tr th:only-of-type {\n        vertical-align: middle;\n    }\n\n    .dataframe tbody tr th {\n        vertical-align: top;\n    }\n\n    .dataframe thead th {\n        text-align: right;\n    }\n</style>\n<table border=\"1\" class=\"dataframe\">\n  <thead>\n    <tr style=\"text-align: right;\">\n      <th></th>\n      <th>model_accuracy_mean</th>\n      <th>explanation_accuracy_mean</th>\n      <th>explanation_accuracy_inv_mean</th>\n      <th>elapsed_time_mean</th>\n      <th>elapsed_time_inv_mean</th>\n      <th>model_accuracy_sem</th>\n      <th>explanation_accuracy_sem</th>\n      <th>explanation_accuracy_inv_sem</th>\n      <th>elapsed_time_sem</th>\n      <th>elapsed_time_inv_sem</th>\n    </tr>\n  </thead>\n  <tbody>\n    <tr>\n      <th>general</th>\n      <td>91.634410</td>\n      <td>95.987492</td>\n      <td>93.069706</td>\n      <td>0.512389</td>\n      <td>0.490674</td>\n      <td>0.174721</td>\n      <td>2.581652</td>\n      <td>4.915958</td>\n      <td>0.039970</td>\n      <td>0.042677</td>\n    </tr>\n    <tr>\n      <th>relu</th>\n      <td>91.842773</td>\n      <td>95.708168</td>\n      <td>89.517908</td>\n      <td>0.162152</td>\n      <td>0.176545</td>\n      <td>0.216889</td>\n      <td>1.163215</td>\n      <td>6.622829</td>\n      <td>0.015354</td>\n      <td>0.014599</td>\n    </tr>\n    <tr>\n      <th>psi</th>\n      <td>34.008809</td>\n      <td>63.364753</td>\n      <td>79.147551</td>\n      <td>6.490535</td>\n      <td>6.490535</td>\n      <td>0.975116</td>\n      <td>7.762515</td>\n      <td>6.068714</td>\n      <td>0.115092</td>\n      <td>0.115092</td>\n    </tr>\n    <tr>\n      <th>tree</th>\n      <td>89.078614</td>\n      <td>89.078614</td>\n      <td>89.078614</td>\n      <td>0.009846</td>\n      <td>0.008804</td>\n      <td>0.283399</td>\n      <td>0.283399</td>\n      <td>0.283399</td>\n      <td>0.000390</td>\n      <td>0.000640</td>\n    </tr>\n  </tbody>\n</table>\n</div>"
     },
     "execution_count": 25,
     "metadata": {},
     "output_type": "execute_result"
    }
   ],
   "source": [
    "df = pd.read_csv(file, index_col=0)\n",
    "df"
   ]
  },
  {
   "cell_type": "code",
   "execution_count": 26,
   "id": "lined-baltimore",
   "metadata": {},
   "outputs": [
    {
     "data": {
      "text/plain": "  Method Model's accuracy (%) Explanation's accuracy (%)  \\\n0    0.0                  0.0                        0.0   \n1    0.0                  0.0                        0.0   \n2    0.0                  0.0                        0.0   \n3    0.0                  0.0                        0.0   \n\n  Explanation's extraction (s)  \n0                          0.0  \n1                          0.0  \n2                          0.0  \n3                          0.0  ",
      "text/html": "<div>\n<style scoped>\n    .dataframe tbody tr th:only-of-type {\n        vertical-align: middle;\n    }\n\n    .dataframe tbody tr th {\n        vertical-align: top;\n    }\n\n    .dataframe thead th {\n        text-align: right;\n    }\n</style>\n<table border=\"1\" class=\"dataframe\">\n  <thead>\n    <tr style=\"text-align: right;\">\n      <th></th>\n      <th>Method</th>\n      <th>Model's accuracy (%)</th>\n      <th>Explanation's accuracy (%)</th>\n      <th>Explanation's extraction (s)</th>\n    </tr>\n  </thead>\n  <tbody>\n    <tr>\n      <th>0</th>\n      <td>0.0</td>\n      <td>0.0</td>\n      <td>0.0</td>\n      <td>0.0</td>\n    </tr>\n    <tr>\n      <th>1</th>\n      <td>0.0</td>\n      <td>0.0</td>\n      <td>0.0</td>\n      <td>0.0</td>\n    </tr>\n    <tr>\n      <th>2</th>\n      <td>0.0</td>\n      <td>0.0</td>\n      <td>0.0</td>\n      <td>0.0</td>\n    </tr>\n    <tr>\n      <th>3</th>\n      <td>0.0</td>\n      <td>0.0</td>\n      <td>0.0</td>\n      <td>0.0</td>\n    </tr>\n  </tbody>\n</table>\n</div>"
     },
     "execution_count": 26,
     "metadata": {},
     "output_type": "execute_result"
    }
   ],
   "source": [
    "cols = ['Method', 'Model\\'s accuracy (%)', 'Explanation\\'s accuracy (%)', 'Explanation\\'s extraction (s)']\n",
    "df_str = pd.DataFrame(np.zeros((len(df), len(cols))), columns=cols, dtype='str')\n",
    "df_str"
   ]
  },
  {
   "cell_type": "code",
   "execution_count": 6,
   "id": "assumed-rebound",
   "metadata": {},
   "outputs": [],
   "source": [
    "# df_str['Method'] = ['Pruning', 'Highest $|w|$', '$\\psi$ net', 'Decision tree']\n",
    "# df_str"
   ]
  },
  {
   "cell_type": "code",
   "execution_count": 27,
   "id": "strange-pattern",
   "metadata": {},
   "outputs": [],
   "source": [
    "for (_, value_str), (_, value) in zip(df_str.iterrows(), df.iterrows()):\n",
    "    value_str[\"Model's accuracy (%)\"] = f\"${value['model_accuracy_mean']:.2f} \\pm {value['model_accuracy_sem']:.2f}$\"\n",
    "    value_str[\"Explanation's accuracy (%)\"] = f\"${value['explanation_accuracy_mean']:.2f} \\pm {value['explanation_accuracy_sem']:.2f}$\"\n",
    "    value_str[\"Explanation's extraction (s)\"] = f\"${value['elapsed_time_mean']:.2f} \\pm {value['elapsed_time_sem']:.2f}$\"\n",
    "\n",
    "df_str.to_csv(f'{file[:-4]}_latex.csv')"
   ]
  },
  {
   "cell_type": "code",
   "execution_count": 28,
   "id": "western-diversity",
   "metadata": {},
   "outputs": [],
   "source": [
    "for file in files:\n",
    "    df = pd.read_csv(file, index_col=0)\n",
    "    df_str = pd.DataFrame(np.zeros((len(df), len(cols))), columns=cols, dtype='str')\n",
    "    df_str['Method'] = df.index\n",
    "    for (_, value_str), (_, value) in zip(df_str.iterrows(), df.iterrows()):\n",
    "        value_str[\"Model's accuracy (%)\"] = f\"${value['model_accuracy_mean']:.2f} \\pm {value['model_accuracy_sem']:.2f}$\"\n",
    "        value_str[\"Explanation's accuracy (%)\"] = f\"${value['explanation_accuracy_mean']:.2f} \\pm {value['explanation_accuracy_sem']:.2f}$\"\n",
    "        value_str[\"Explanation's extraction (s)\"] = f\"${value['elapsed_time_mean']:.2f} \\pm {value['elapsed_time_sem']:.2f}$\"\n",
    "\n",
    "    df_str.to_csv(f'{file[:-4]}_latex.csv')"
   ]
  },
  {
   "cell_type": "code",
   "execution_count": 29,
   "id": "victorian-calvin",
   "metadata": {},
   "outputs": [
    {
     "data": {
      "text/plain": "\"\\\\begin{tabular}{lllll}\\n\\\\toprule\\n{} &   Method & Model's accuracy (\\\\%) & Explanation's accuracy (\\\\%) & Explanation's extraction (s) \\\\\\\\\\n\\\\midrule\\n0 &  general &     \\\\$91.63 \\\\textbackslash pm 0.17\\\\$ &           \\\\$95.99 \\\\textbackslash pm 2.58\\\\$ &              \\\\$0.51 \\\\textbackslash pm 0.04\\\\$ \\\\\\\\\\n1 &     relu &     \\\\$91.84 \\\\textbackslash pm 0.22\\\\$ &           \\\\$95.71 \\\\textbackslash pm 1.16\\\\$ &              \\\\$0.16 \\\\textbackslash pm 0.02\\\\$ \\\\\\\\\\n2 &      psi &     \\\\$34.01 \\\\textbackslash pm 0.98\\\\$ &           \\\\$63.36 \\\\textbackslash pm 7.76\\\\$ &              \\\\$6.49 \\\\textbackslash pm 0.12\\\\$ \\\\\\\\\\n3 &     tree &     \\\\$89.08 \\\\textbackslash pm 0.28\\\\$ &           \\\\$89.08 \\\\textbackslash pm 0.28\\\\$ &              \\\\$0.01 \\\\textbackslash pm 0.00\\\\$ \\\\\\\\\\n\\\\bottomrule\\n\\\\end{tabular}\\n\""
     },
     "execution_count": 29,
     "metadata": {},
     "output_type": "execute_result"
    }
   ],
   "source": [
    "df_str.to_latex()"
   ]
  },
  {
   "cell_type": "markdown",
   "id": "composite-guinea",
   "metadata": {},
   "source": [
    "## Formulas"
   ]
  },
  {
   "cell_type": "code",
   "execution_count": 10,
   "id": "small-chamber",
   "metadata": {},
   "outputs": [
    {
     "data": {
      "text/plain": "array([], dtype=float64)"
     },
     "execution_count": 10,
     "metadata": {},
     "output_type": "execute_result"
    }
   ],
   "source": [
    "experiments = ['xor', 'mnist', 'mnist_h', 'mimic']#, 'celldiff']\n",
    "experiment = experiments[0]\n",
    "files = np.sort(glob.glob(f'./results/{experiment}/results*.csv', recursive = True)) \n",
    "files"
   ]
  },
  {
   "cell_type": "code",
   "execution_count": 11,
   "id": "irish-research",
   "metadata": {},
   "outputs": [
    {
     "ename": "IndexError",
     "evalue": "index 0 is out of bounds for axis 0 with size 0",
     "output_type": "error",
     "traceback": [
      "\u001B[1;31m---------------------------------------------------------------------------\u001B[0m",
      "\u001B[1;31mIndexError\u001B[0m                                Traceback (most recent call last)",
      "\u001B[1;32m<ipython-input-11-e4f595e0686c>\u001B[0m in \u001B[0;36m<module>\u001B[1;34m\u001B[0m\n\u001B[1;32m----> 1\u001B[1;33m \u001B[0mdf\u001B[0m \u001B[1;33m=\u001B[0m \u001B[0mpd\u001B[0m\u001B[1;33m.\u001B[0m\u001B[0mread_csv\u001B[0m\u001B[1;33m(\u001B[0m\u001B[0mfiles\u001B[0m\u001B[1;33m[\u001B[0m\u001B[1;36m0\u001B[0m\u001B[1;33m]\u001B[0m\u001B[1;33m)\u001B[0m\u001B[1;33m\u001B[0m\u001B[1;33m\u001B[0m\u001B[0m\n\u001B[0m\u001B[0;32m      2\u001B[0m \u001B[0mdf\u001B[0m\u001B[1;33m\u001B[0m\u001B[1;33m\u001B[0m\u001B[0m\n\u001B[0;32m      3\u001B[0m \u001B[1;33m\u001B[0m\u001B[0m\n",
      "\u001B[1;31mIndexError\u001B[0m: index 0 is out of bounds for axis 0 with size 0"
     ]
    }
   ],
   "source": [
    "df = pd.read_csv(files[0])\n",
    "df"
   ]
  },
  {
   "cell_type": "code",
   "execution_count": 12,
   "id": "distinct-baptist",
   "metadata": {},
   "outputs": [
    {
     "name": "stdout",
     "output_type": "stream",
     "text": [
      "./results/cub\\results.csv\n",
      "./results/cub\\results_general.csv\n",
      "./results/cub\\results_psi.csv\n",
      "./results/cub\\results_relu.csv\n",
      "./results/cub\\results_tree.csv\n"
     ]
    }
   ],
   "source": [
    "cols = ['Method', '+Explanation', '+Explanation\\'s accuracy', '-Explanation', '-Explanation\\'s accuracy', 'Model\\'s accuracy']\n",
    "experiments = ['cub']  #['xor', 'mnist', 'mnist_h', 'celldiff', 'mimic']\n",
    "for experiment in experiments:\n",
    "    dfs = []\n",
    "    files = np.sort(glob.glob(f'./results/{experiment}/results*.csv', recursive = True)) \n",
    "    for file in files:\n",
    "        if 'latex' not in file:\n",
    "            print(file)\n",
    "            df = pd.read_csv(file)\n",
    "            df_str = pd.DataFrame(np.zeros((len(df), len(cols))), columns=cols, dtype='str')\n",
    "\n",
    "            for (_, value_str), (_, value) in zip(df_str.iterrows(), df.iterrows()):\n",
    "                value_str['Method'] = value['method']\n",
    "                value_str['+Explanation'] = f\"${value['explanation']}$\".replace('|', '\\\\vee').replace('&', '\\\\wedge').replace('~', ' \\\\neg ').replace('<=', ' \\leq ')\n",
    "                value_str['+Explanation\\'s accuracy'] = f\"${value['explanation_accuracy']:.2f}$\"\n",
    "                value_str['-Explanation'] = f\"${value['explanation_inv']}$\".replace('|', '\\\\vee').replace('&', '\\\\wedge').replace('~', ' \\\\neg ').replace('<=', ' \\leq ')\n",
    "                value_str['-Explanation\\'s accuracy'] = f\"${value['explanation_accuracy_inv']:.2f}$\"\n",
    "                value_str['Model\\'s accuracy'] = f\"${value['model_accuracy']:.2f}$\"\n",
    "\n",
    "            method = value['method']\n",
    "            \n",
    "            dfs.append(df_str)\n",
    "    pd.concat(dfs).to_csv(f'./results/{experiment}/explanations_latex.csv', index=False)"
   ]
  },
  {
   "cell_type": "code",
   "execution_count": 13,
   "id": "welcome-central",
   "metadata": {},
   "outputs": [
    {
     "data": {
      "text/plain": "'./results/cub\\\\results_tree_latex.csv'"
     },
     "execution_count": 13,
     "metadata": {},
     "output_type": "execute_result"
    }
   ],
   "source": [
    "f'{file[:-4]}_latex.csv'"
   ]
  }
 ],
 "metadata": {
  "kernelspec": {
   "display_name": "Python 3",
   "language": "python",
   "name": "python3"
  },
  "language_info": {
   "codemirror_mode": {
    "name": "ipython",
    "version": 3
   },
   "file_extension": ".py",
   "mimetype": "text/x-python",
   "name": "python",
   "nbconvert_exporter": "python",
   "pygments_lexer": "ipython3",
   "version": "3.8.5"
  }
 },
 "nbformat": 4,
 "nbformat_minor": 5
}