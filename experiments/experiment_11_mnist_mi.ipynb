{
 "cells": [
  {
   "cell_type": "code",
   "execution_count": 4,
   "outputs": [],
   "source": [
    "import sys\n",
    "from data.download_cub import download_cub\n",
    "from data.download_mnist import download_mnist\n",
    "from experiments.CUB_200_2011.concept_extractor_cub import concept_extractor_cub\n",
    "from experiments.MNIST.concept_extractor_mnist import concept_extractor_mnist\n",
    "\n",
    "sys.path.append('..')\n",
    "import os\n",
    "import torch\n",
    "import pandas as pd\n",
    "import numpy as np\n",
    "from deep_logic.models.relu_nn import XReluNN\n",
    "from deep_logic.models.psi_nn import PsiNetwork\n",
    "from deep_logic.utils.base import set_seed\n",
    "from deep_logic.utils.metrics import F1Score\n",
    "from deep_logic.models.general_nn import XGeneralNN\n",
    "from deep_logic.utils.datasets import ConceptToTaskDataset\n",
    "from deep_logic.utils.data import get_splits_train_val_test\n",
    "from deep_logic.logic.base import test_multi_class_explanation\n",
    "\n",
    "results_dir = 'results/cub'\n",
    "if not os.path.isdir(results_dir):\n",
    "    os.makedirs(results_dir)\n"
   ],
   "metadata": {
    "collapsed": false,
    "pycharm": {
     "name": "#%%\n"
    }
   }
  },
  {
   "cell_type": "markdown",
   "source": [
    "## Loading CUB data"
   ],
   "metadata": {
    "collapsed": false
   }
  },
  {
   "cell_type": "code",
   "execution_count": 5,
   "outputs": [
    {
     "name": "stdout",
     "output_type": "stream",
     "text": [
      "Dataset already downloaded\n"
     ]
    }
   ],
   "source": [
    "dataset_root = \"../data/MNIST/\"\n",
    "if not os.path.isdir(dataset_root):\n",
    "    download_mnist(dataset_root)\n",
    "else:\n",
    "    print(\"Dataset already downloaded\")"
   ],
   "metadata": {
    "collapsed": false,
    "pycharm": {
     "name": "#%%\n"
    }
   }
  },
  {
   "cell_type": "markdown",
   "source": [
    "## Extracting concepts"
   ],
   "metadata": {
    "collapsed": false
   }
  },
  {
   "cell_type": "code",
   "execution_count": 7,
   "outputs": [
    {
     "name": "stdout",
     "output_type": "stream",
     "text": [
      "Number of attributes 10\n"
     ]
    },
    {
     "ename": "TypeError",
     "evalue": "cannot unpack non-iterable NoneType object",
     "output_type": "error",
     "traceback": [
      "\u001B[1;31m---------------------------------------------------------------------------\u001B[0m",
      "\u001B[1;31mTypeError\u001B[0m                                 Traceback (most recent call last)",
      "\u001B[1;32m<ipython-input-7-6e56568bb758>\u001B[0m in \u001B[0;36m<module>\u001B[1;34m\u001B[0m\n\u001B[0;32m      1\u001B[0m \u001B[1;32mif\u001B[0m \u001B[1;32mnot\u001B[0m \u001B[0mos\u001B[0m\u001B[1;33m.\u001B[0m\u001B[0mpath\u001B[0m\u001B[1;33m.\u001B[0m\u001B[0misfile\u001B[0m\u001B[1;33m(\u001B[0m\u001B[0mos\u001B[0m\u001B[1;33m.\u001B[0m\u001B[0mpath\u001B[0m\u001B[1;33m.\u001B[0m\u001B[0mjoin\u001B[0m\u001B[1;33m(\u001B[0m\u001B[0mdataset_root\u001B[0m\u001B[1;33m,\u001B[0m \u001B[1;34m\"CUB200_predictions.npy\"\u001B[0m\u001B[1;33m)\u001B[0m\u001B[1;33m)\u001B[0m\u001B[1;33m:\u001B[0m\u001B[1;33m\u001B[0m\u001B[1;33m\u001B[0m\u001B[0m\n\u001B[1;32m----> 2\u001B[1;33m     \u001B[0mconcept_extractor_mnist\u001B[0m\u001B[1;33m(\u001B[0m\u001B[0mdataset_root\u001B[0m\u001B[1;33m)\u001B[0m\u001B[1;33m\u001B[0m\u001B[1;33m\u001B[0m\u001B[0m\n\u001B[0m\u001B[0;32m      3\u001B[0m \u001B[1;32melse\u001B[0m\u001B[1;33m:\u001B[0m\u001B[1;33m\u001B[0m\u001B[1;33m\u001B[0m\u001B[0m\n\u001B[0;32m      4\u001B[0m     \u001B[0mprint\u001B[0m\u001B[1;33m(\u001B[0m\u001B[1;34m\"Concepts already extracted\"\u001B[0m\u001B[1;33m)\u001B[0m\u001B[1;33m\u001B[0m\u001B[1;33m\u001B[0m\u001B[0m\n\u001B[0;32m      5\u001B[0m \u001B[0mdataset\u001B[0m \u001B[1;33m=\u001B[0m \u001B[0mConceptToTaskDataset\u001B[0m\u001B[1;33m(\u001B[0m\u001B[0mdataset_root\u001B[0m\u001B[1;33m)\u001B[0m\u001B[1;33m\u001B[0m\u001B[1;33m\u001B[0m\u001B[0m\n",
      "\u001B[1;32m~\\Documents\\Scuola\\Dottorato\\Codice\\InterpretableReLU\\experiments\\MNIST\\concept_extractor_mnist.py\u001B[0m in \u001B[0;36mconcept_extractor_mnist\u001B[1;34m(dataset_root, epochs, seeds, device, metric, cnn_model, pretrained, transfer_learning, show_image, data_augmentation, few_shot, denoised, reduced, l_r, batch_size, binary_loss)\u001B[0m\n\u001B[0;32m     51\u001B[0m \u001B[1;33m\u001B[0m\u001B[0m\n\u001B[0;32m     52\u001B[0m         \u001B[0mname\u001B[0m \u001B[1;33m=\u001B[0m \u001B[1;34mf\"model_{cnn_model}_prtr_{pretrained}_trlr_{transfer_learning}_bl_{binary_loss}_fs_{few_shot}_dataset_\"\u001B[0m\u001B[0;31m \u001B[0m\u001B[0;31m\\\u001B[0m\u001B[1;33m\u001B[0m\u001B[1;33m\u001B[0m\u001B[0m\n\u001B[1;32m---> 53\u001B[1;33m                \u001B[1;34mf\"{CUB200}_denoised_{denoised}__lr_{l_r}_epochs_{epochs}_seed_{seed}_\"\u001B[0m\u001B[0;31m \u001B[0m\u001B[0;31m\\\u001B[0m\u001B[1;33m\u001B[0m\u001B[1;33m\u001B[0m\u001B[0m\n\u001B[0m\u001B[0;32m     54\u001B[0m                \u001B[1;34mf\"time_{datetime.now().strftime('%d-%m-%y %H:%M:%S')}.pth\"\u001B[0m\u001B[1;33m\u001B[0m\u001B[1;33m\u001B[0m\u001B[0m\n\u001B[0;32m     55\u001B[0m         \u001B[1;31m# name = \"model_Resnet_18_prtr_True_trlr_False_bl_True_fs_False_dataset_cub200_denoised_True_reduced_False_\" \\\u001B[0m\u001B[1;33m\u001B[0m\u001B[1;33m\u001B[0m\u001B[1;33m\u001B[0m\u001B[0m\n",
      "\u001B[1;32m~\\Documents\\Scuola\\Dottorato\\Codice\\InterpretableReLU\\deep_logic\\utils\\data.py\u001B[0m in \u001B[0;36mshow_batch\u001B[1;34m(dataset, labels_names, batch_size, save)\u001B[0m\n\u001B[0;32m    180\u001B[0m \u001B[1;33m\u001B[0m\u001B[0m\n\u001B[0;32m    181\u001B[0m \u001B[1;32mdef\u001B[0m \u001B[0mshow_batch\u001B[0m\u001B[1;33m(\u001B[0m\u001B[0mdataset\u001B[0m\u001B[1;33m,\u001B[0m \u001B[0mlabels_names\u001B[0m\u001B[1;33m,\u001B[0m \u001B[0mbatch_size\u001B[0m\u001B[1;33m=\u001B[0m\u001B[1;36m8\u001B[0m\u001B[1;33m,\u001B[0m \u001B[0msave\u001B[0m\u001B[1;33m=\u001B[0m\u001B[1;32mFalse\u001B[0m\u001B[1;33m)\u001B[0m\u001B[1;33m:\u001B[0m\u001B[1;33m\u001B[0m\u001B[1;33m\u001B[0m\u001B[0m\n\u001B[1;32m--> 182\u001B[1;33m     \u001B[0mdata_loader\u001B[0m \u001B[1;33m=\u001B[0m \u001B[0mtorch\u001B[0m\u001B[1;33m.\u001B[0m\u001B[0mutils\u001B[0m\u001B[1;33m.\u001B[0m\u001B[0mdata\u001B[0m\u001B[1;33m.\u001B[0m\u001B[0mDataLoader\u001B[0m\u001B[1;33m(\u001B[0m\u001B[0mdataset\u001B[0m\u001B[1;33m,\u001B[0m \u001B[0mbatch_size\u001B[0m\u001B[1;33m=\u001B[0m\u001B[0mbatch_size\u001B[0m\u001B[1;33m,\u001B[0m \u001B[0mshuffle\u001B[0m\u001B[1;33m=\u001B[0m\u001B[1;32mTrue\u001B[0m\u001B[1;33m)\u001B[0m\u001B[1;33m\u001B[0m\u001B[1;33m\u001B[0m\u001B[0m\n\u001B[0m\u001B[0;32m    183\u001B[0m     \u001B[0mbatch_data\u001B[0m \u001B[1;33m=\u001B[0m \u001B[0mnext\u001B[0m\u001B[1;33m(\u001B[0m\u001B[0miter\u001B[0m\u001B[1;33m(\u001B[0m\u001B[0mdata_loader\u001B[0m\u001B[1;33m)\u001B[0m\u001B[1;33m)\u001B[0m\u001B[1;33m\u001B[0m\u001B[1;33m\u001B[0m\u001B[0m\n\u001B[0;32m    184\u001B[0m     \u001B[1;32massert\u001B[0m \u001B[0mlen\u001B[0m\u001B[1;33m(\u001B[0m\u001B[0mbatch_data\u001B[0m\u001B[1;33m)\u001B[0m \u001B[1;33m==\u001B[0m \u001B[1;36m2\u001B[0m\u001B[1;33m,\u001B[0m \u001B[1;34m\"Error when loading data\"\u001B[0m\u001B[1;33m\u001B[0m\u001B[1;33m\u001B[0m\u001B[0m\n",
      "\u001B[1;32m~\\Anaconda3\\envs\\fsc\\lib\\site-packages\\torch\\utils\\data\\dataloader.py\u001B[0m in \u001B[0;36m__next__\u001B[1;34m(self)\u001B[0m\n\u001B[0;32m    433\u001B[0m         \u001B[1;32mif\u001B[0m \u001B[0mself\u001B[0m\u001B[1;33m.\u001B[0m\u001B[0m_sampler_iter\u001B[0m \u001B[1;32mis\u001B[0m \u001B[1;32mNone\u001B[0m\u001B[1;33m:\u001B[0m\u001B[1;33m\u001B[0m\u001B[1;33m\u001B[0m\u001B[0m\n\u001B[0;32m    434\u001B[0m             \u001B[0mself\u001B[0m\u001B[1;33m.\u001B[0m\u001B[0m_reset\u001B[0m\u001B[1;33m(\u001B[0m\u001B[1;33m)\u001B[0m\u001B[1;33m\u001B[0m\u001B[1;33m\u001B[0m\u001B[0m\n\u001B[1;32m--> 435\u001B[1;33m         \u001B[0mdata\u001B[0m \u001B[1;33m=\u001B[0m \u001B[0mself\u001B[0m\u001B[1;33m.\u001B[0m\u001B[0m_next_data\u001B[0m\u001B[1;33m(\u001B[0m\u001B[1;33m)\u001B[0m\u001B[1;33m\u001B[0m\u001B[1;33m\u001B[0m\u001B[0m\n\u001B[0m\u001B[0;32m    436\u001B[0m         \u001B[0mself\u001B[0m\u001B[1;33m.\u001B[0m\u001B[0m_num_yielded\u001B[0m \u001B[1;33m+=\u001B[0m \u001B[1;36m1\u001B[0m\u001B[1;33m\u001B[0m\u001B[1;33m\u001B[0m\u001B[0m\n\u001B[0;32m    437\u001B[0m         \u001B[1;32mif\u001B[0m \u001B[0mself\u001B[0m\u001B[1;33m.\u001B[0m\u001B[0m_dataset_kind\u001B[0m \u001B[1;33m==\u001B[0m \u001B[0m_DatasetKind\u001B[0m\u001B[1;33m.\u001B[0m\u001B[0mIterable\u001B[0m \u001B[1;32mand\u001B[0m\u001B[0;31m \u001B[0m\u001B[0;31m\\\u001B[0m\u001B[1;33m\u001B[0m\u001B[1;33m\u001B[0m\u001B[0m\n",
      "\u001B[1;32m~\\Anaconda3\\envs\\fsc\\lib\\site-packages\\torch\\utils\\data\\dataloader.py\u001B[0m in \u001B[0;36m_next_data\u001B[1;34m(self)\u001B[0m\n\u001B[0;32m    473\u001B[0m     \u001B[1;32mdef\u001B[0m \u001B[0m_next_data\u001B[0m\u001B[1;33m(\u001B[0m\u001B[0mself\u001B[0m\u001B[1;33m)\u001B[0m\u001B[1;33m:\u001B[0m\u001B[1;33m\u001B[0m\u001B[1;33m\u001B[0m\u001B[0m\n\u001B[0;32m    474\u001B[0m         \u001B[0mindex\u001B[0m \u001B[1;33m=\u001B[0m \u001B[0mself\u001B[0m\u001B[1;33m.\u001B[0m\u001B[0m_next_index\u001B[0m\u001B[1;33m(\u001B[0m\u001B[1;33m)\u001B[0m  \u001B[1;31m# may raise StopIteration\u001B[0m\u001B[1;33m\u001B[0m\u001B[1;33m\u001B[0m\u001B[0m\n\u001B[1;32m--> 475\u001B[1;33m         \u001B[0mdata\u001B[0m \u001B[1;33m=\u001B[0m \u001B[0mself\u001B[0m\u001B[1;33m.\u001B[0m\u001B[0m_dataset_fetcher\u001B[0m\u001B[1;33m.\u001B[0m\u001B[0mfetch\u001B[0m\u001B[1;33m(\u001B[0m\u001B[0mindex\u001B[0m\u001B[1;33m)\u001B[0m  \u001B[1;31m# may raise StopIteration\u001B[0m\u001B[1;33m\u001B[0m\u001B[1;33m\u001B[0m\u001B[0m\n\u001B[0m\u001B[0;32m    476\u001B[0m         \u001B[1;32mif\u001B[0m \u001B[0mself\u001B[0m\u001B[1;33m.\u001B[0m\u001B[0m_pin_memory\u001B[0m\u001B[1;33m:\u001B[0m\u001B[1;33m\u001B[0m\u001B[1;33m\u001B[0m\u001B[0m\n\u001B[0;32m    477\u001B[0m             \u001B[0mdata\u001B[0m \u001B[1;33m=\u001B[0m \u001B[0m_utils\u001B[0m\u001B[1;33m.\u001B[0m\u001B[0mpin_memory\u001B[0m\u001B[1;33m.\u001B[0m\u001B[0mpin_memory\u001B[0m\u001B[1;33m(\u001B[0m\u001B[0mdata\u001B[0m\u001B[1;33m)\u001B[0m\u001B[1;33m\u001B[0m\u001B[1;33m\u001B[0m\u001B[0m\n",
      "\u001B[1;32m~\\Anaconda3\\envs\\fsc\\lib\\site-packages\\torch\\utils\\data\\_utils\\fetch.py\u001B[0m in \u001B[0;36mfetch\u001B[1;34m(self, possibly_batched_index)\u001B[0m\n\u001B[0;32m     42\u001B[0m     \u001B[1;32mdef\u001B[0m \u001B[0mfetch\u001B[0m\u001B[1;33m(\u001B[0m\u001B[0mself\u001B[0m\u001B[1;33m,\u001B[0m \u001B[0mpossibly_batched_index\u001B[0m\u001B[1;33m)\u001B[0m\u001B[1;33m:\u001B[0m\u001B[1;33m\u001B[0m\u001B[1;33m\u001B[0m\u001B[0m\n\u001B[0;32m     43\u001B[0m         \u001B[1;32mif\u001B[0m \u001B[0mself\u001B[0m\u001B[1;33m.\u001B[0m\u001B[0mauto_collation\u001B[0m\u001B[1;33m:\u001B[0m\u001B[1;33m\u001B[0m\u001B[1;33m\u001B[0m\u001B[0m\n\u001B[1;32m---> 44\u001B[1;33m             \u001B[0mdata\u001B[0m \u001B[1;33m=\u001B[0m \u001B[1;33m[\u001B[0m\u001B[0mself\u001B[0m\u001B[1;33m.\u001B[0m\u001B[0mdataset\u001B[0m\u001B[1;33m[\u001B[0m\u001B[0midx\u001B[0m\u001B[1;33m]\u001B[0m \u001B[1;32mfor\u001B[0m \u001B[0midx\u001B[0m \u001B[1;32min\u001B[0m \u001B[0mpossibly_batched_index\u001B[0m\u001B[1;33m]\u001B[0m\u001B[1;33m\u001B[0m\u001B[1;33m\u001B[0m\u001B[0m\n\u001B[0m\u001B[0;32m     45\u001B[0m         \u001B[1;32melse\u001B[0m\u001B[1;33m:\u001B[0m\u001B[1;33m\u001B[0m\u001B[1;33m\u001B[0m\u001B[0m\n\u001B[0;32m     46\u001B[0m             \u001B[0mdata\u001B[0m \u001B[1;33m=\u001B[0m \u001B[0mself\u001B[0m\u001B[1;33m.\u001B[0m\u001B[0mdataset\u001B[0m\u001B[1;33m[\u001B[0m\u001B[0mpossibly_batched_index\u001B[0m\u001B[1;33m]\u001B[0m\u001B[1;33m\u001B[0m\u001B[1;33m\u001B[0m\u001B[0m\n",
      "\u001B[1;32m~\\Anaconda3\\envs\\fsc\\lib\\site-packages\\torch\\utils\\data\\_utils\\fetch.py\u001B[0m in \u001B[0;36m<listcomp>\u001B[1;34m(.0)\u001B[0m\n\u001B[0;32m     42\u001B[0m     \u001B[1;32mdef\u001B[0m \u001B[0mfetch\u001B[0m\u001B[1;33m(\u001B[0m\u001B[0mself\u001B[0m\u001B[1;33m,\u001B[0m \u001B[0mpossibly_batched_index\u001B[0m\u001B[1;33m)\u001B[0m\u001B[1;33m:\u001B[0m\u001B[1;33m\u001B[0m\u001B[1;33m\u001B[0m\u001B[0m\n\u001B[0;32m     43\u001B[0m         \u001B[1;32mif\u001B[0m \u001B[0mself\u001B[0m\u001B[1;33m.\u001B[0m\u001B[0mauto_collation\u001B[0m\u001B[1;33m:\u001B[0m\u001B[1;33m\u001B[0m\u001B[1;33m\u001B[0m\u001B[0m\n\u001B[1;32m---> 44\u001B[1;33m             \u001B[0mdata\u001B[0m \u001B[1;33m=\u001B[0m \u001B[1;33m[\u001B[0m\u001B[0mself\u001B[0m\u001B[1;33m.\u001B[0m\u001B[0mdataset\u001B[0m\u001B[1;33m[\u001B[0m\u001B[0midx\u001B[0m\u001B[1;33m]\u001B[0m \u001B[1;32mfor\u001B[0m \u001B[0midx\u001B[0m \u001B[1;32min\u001B[0m \u001B[0mpossibly_batched_index\u001B[0m\u001B[1;33m]\u001B[0m\u001B[1;33m\u001B[0m\u001B[1;33m\u001B[0m\u001B[0m\n\u001B[0m\u001B[0;32m     45\u001B[0m         \u001B[1;32melse\u001B[0m\u001B[1;33m:\u001B[0m\u001B[1;33m\u001B[0m\u001B[1;33m\u001B[0m\u001B[0m\n\u001B[0;32m     46\u001B[0m             \u001B[0mdata\u001B[0m \u001B[1;33m=\u001B[0m \u001B[0mself\u001B[0m\u001B[1;33m.\u001B[0m\u001B[0mdataset\u001B[0m\u001B[1;33m[\u001B[0m\u001B[0mpossibly_batched_index\u001B[0m\u001B[1;33m]\u001B[0m\u001B[1;33m\u001B[0m\u001B[1;33m\u001B[0m\u001B[0m\n",
      "\u001B[1;32m~\\Anaconda3\\envs\\fsc\\lib\\site-packages\\torch\\utils\\data\\dataset.py\u001B[0m in \u001B[0;36m__getitem__\u001B[1;34m(self, idx)\u001B[0m\n\u001B[0;32m    270\u001B[0m \u001B[1;33m\u001B[0m\u001B[0m\n\u001B[0;32m    271\u001B[0m     \u001B[1;32mdef\u001B[0m \u001B[0m__getitem__\u001B[0m\u001B[1;33m(\u001B[0m\u001B[0mself\u001B[0m\u001B[1;33m,\u001B[0m \u001B[0midx\u001B[0m\u001B[1;33m)\u001B[0m\u001B[1;33m:\u001B[0m\u001B[1;33m\u001B[0m\u001B[1;33m\u001B[0m\u001B[0m\n\u001B[1;32m--> 272\u001B[1;33m         \u001B[1;32mreturn\u001B[0m \u001B[0mself\u001B[0m\u001B[1;33m.\u001B[0m\u001B[0mdataset\u001B[0m\u001B[1;33m[\u001B[0m\u001B[0mself\u001B[0m\u001B[1;33m.\u001B[0m\u001B[0mindices\u001B[0m\u001B[1;33m[\u001B[0m\u001B[0midx\u001B[0m\u001B[1;33m]\u001B[0m\u001B[1;33m]\u001B[0m\u001B[1;33m\u001B[0m\u001B[1;33m\u001B[0m\u001B[0m\n\u001B[0m\u001B[0;32m    273\u001B[0m \u001B[1;33m\u001B[0m\u001B[0m\n\u001B[0;32m    274\u001B[0m     \u001B[1;32mdef\u001B[0m \u001B[0m__len__\u001B[0m\u001B[1;33m(\u001B[0m\u001B[0mself\u001B[0m\u001B[1;33m)\u001B[0m\u001B[1;33m:\u001B[0m\u001B[1;33m\u001B[0m\u001B[1;33m\u001B[0m\u001B[0m\n",
      "\u001B[1;32m~\\Documents\\Scuola\\Dottorato\\Codice\\InterpretableReLU\\deep_logic\\utils\\datasets.py\u001B[0m in \u001B[0;36m__getitem__\u001B[1;34m(self, idx)\u001B[0m\n\u001B[0;32m     86\u001B[0m \u001B[1;33m\u001B[0m\u001B[0m\n\u001B[0;32m     87\u001B[0m         \"\"\"\n\u001B[1;32m---> 88\u001B[1;33m         \u001B[0msample\u001B[0m\u001B[1;33m,\u001B[0m \u001B[0m_\u001B[0m \u001B[1;33m=\u001B[0m \u001B[0msuper\u001B[0m\u001B[1;33m(\u001B[0m\u001B[1;33m)\u001B[0m\u001B[1;33m.\u001B[0m\u001B[0m__getitem__\u001B[0m\u001B[1;33m(\u001B[0m\u001B[0midx\u001B[0m\u001B[1;33m)\u001B[0m\u001B[1;33m\u001B[0m\u001B[1;33m\u001B[0m\u001B[0m\n\u001B[0m\u001B[0;32m     89\u001B[0m         \u001B[0mattribute\u001B[0m \u001B[1;33m=\u001B[0m \u001B[0mself\u001B[0m\u001B[1;33m.\u001B[0m\u001B[0mattributes\u001B[0m\u001B[1;33m[\u001B[0m\u001B[0midx\u001B[0m\u001B[1;33m]\u001B[0m\u001B[1;33m\u001B[0m\u001B[1;33m\u001B[0m\u001B[0m\n\u001B[0;32m     90\u001B[0m         \u001B[1;32mreturn\u001B[0m \u001B[0msample\u001B[0m\u001B[1;33m,\u001B[0m \u001B[0mattribute\u001B[0m\u001B[1;33m\u001B[0m\u001B[1;33m\u001B[0m\u001B[0m\n",
      "\u001B[1;31mTypeError\u001B[0m: cannot unpack non-iterable NoneType object"
     ]
    }
   ],
   "source": [
    "if not os.path.isfile(os.path.join(dataset_root, \"CUB200_predictions.npy\")):\n",
    "    concept_extractor_mnist(dataset_root)\n",
    "else:\n",
    "    print(\"Concepts already extracted\")\n",
    "dataset = ConceptToTaskDataset(dataset_root)\n",
    "concept_names = dataset.attribute_names\n",
    "print(\"Concept names\", concept_names)\n",
    "n_features = dataset.n_attributes\n",
    "print(\"Number of features\", n_features)"
   ],
   "metadata": {
    "collapsed": false,
    "pycharm": {
     "name": "#%%\n"
    }
   }
  },
  {
   "cell_type": "markdown",
   "source": [
    "## Training Hyperparameters"
   ],
   "metadata": {
    "collapsed": false
   }
  },
  {
   "cell_type": "code",
   "execution_count": null,
   "outputs": [],
   "source": [
    "epochs = 200\n",
    "l_r = 0.001\n",
    "lr_scheduler = True\n",
    "top_k_explanations = 1\n",
    "simplify = True\n",
    "seeds = [*range(10)]\n",
    "print(\"Seeds\", seeds)"
   ],
   "metadata": {
    "collapsed": false,
    "pycharm": {
     "name": "#%%\n"
    }
   }
  },
  {
   "cell_type": "markdown",
   "source": [
    "## Define loss, metrics and saved metrics"
   ],
   "metadata": {
    "collapsed": false
   }
  },
  {
   "cell_type": "code",
   "execution_count": null,
   "outputs": [],
   "source": [
    "loss = torch.nn.CrossEntropyLoss()\n",
    "metric = F1Score()\n",
    "\n",
    "methods = []\n",
    "splits = []\n",
    "explanations = []\n",
    "explanations_inv = []\n",
    "model_accuracies = []\n",
    "explanation_accuracies = []\n",
    "explanation_accuracies_inv = []\n",
    "elapsed_times = []\n",
    "elapsed_times_inv = []\n"
   ],
   "metadata": {
    "collapsed": false,
    "pycharm": {
     "name": "#%%\n"
    }
   }
  },
  {
   "cell_type": "markdown",
   "source": [
    "## Relu NN"
   ],
   "metadata": {
    "collapsed": false
   }
  },
  {
   "cell_type": "code",
   "execution_count": null,
   "outputs": [],
   "source": [
    "for seed in seeds:\n",
    "    print(\"Seed\", seed)\n",
    "    set_seed(seed)\n",
    "\n",
    "    train_data, val_data, test_data = get_splits_train_val_test(dataset)\n",
    "    print(train_data.indices)\n",
    "\n",
    "    x_val = torch.tensor(dataset.attributes[val_data.indices])\n",
    "    y_val = torch.tensor(dataset.targets[val_data.indices])\n",
    "    x_test = torch.tensor(dataset.attributes[test_data.indices])\n",
    "    y_test = torch.tensor(dataset.targets[test_data.indices])\n",
    "\n",
    "    # Network structures\n",
    "    l1_weight = 1e-5\n",
    "    hidden_neurons = [200, 100]\n",
    "\n",
    "    # Setting device\n",
    "    device = torch.device(\"cpu\") if torch.cuda.is_available() else torch.device(\"cpu\")\n",
    "    set_seed(seed)\n",
    "    print(f\"Training Relu NN...\")\n",
    "    model = XReluNN(n_classes=dataset.n_classes, n_features=n_features,\n",
    "                    hidden_neurons=hidden_neurons, loss=loss, l1_weight=l1_weight)\n",
    "\n",
    "    results = model.fit(train_data, val_data, epochs=epochs, l_r=l_r, verbose=False,\n",
    "                        metric=metric, lr_scheduler=lr_scheduler, device=device, save=False)\n",
    "    print(results)\n",
    "    accuracy = model.evaluate(test_data)\n",
    "    print(\"Test Model accuracy\", accuracy)\n",
    "\n",
    "    formulas, times, exp_accuracies = [], [], []\n",
    "    for i, class_to_explain in enumerate(dataset.classes):\n",
    "        formula, elapsed_time = model.get_global_explanation(x_val, y_val, i,\n",
    "                                                             topk_explanations=top_k_explanations,\n",
    "                                                             concept_names=concept_names,\n",
    "                                                             simplify=True, return_time=True)\n",
    "        exp_accuracy, _ = test_multi_class_explanation(formula, i, x_test, y_test,\n",
    "                                                       metric=metric, concept_names=concept_names)\n",
    "        formulas.append(formula), times.append(elapsed_time), exp_accuracies.append(exp_accuracy)\n",
    "        print(f\"{class_to_explain} <-> {formula}\")\n",
    "        print(\"Elapsed time\", elapsed_time)\n",
    "        print(\"Explanation accuracy\", exp_accuracy)\n",
    "\n",
    "    methods.append(\"Relu\")\n",
    "    splits.append(seed)\n",
    "    explanations.append(formulas[0])\n",
    "    explanations_inv.append(formulas[1])\n",
    "    model_accuracies.append(accuracy)\n",
    "    explanation_accuracies.append(np.mean(exp_accuracies))\n",
    "    explanation_accuracies_inv.append(np.mean(exp_accuracies))\n",
    "    elapsed_times.append(np.mean(times))\n",
    "    elapsed_times_inv.append(np.mean(times))\n",
    "\n",
    "results = pd.DataFrame({\n",
    "    'method': methods,\n",
    "    'split': splits,\n",
    "    'explanation': explanations,\n",
    "    'explanation_inv': explanations_inv,\n",
    "    'model_accuracy': model_accuracies,\n",
    "    'explanation_accuracy': explanation_accuracies,\n",
    "    'explanation_accuracy_inv': explanation_accuracies_inv,\n",
    "    'elapsed_time': elapsed_times,\n",
    "    'elapsed_time_inv': elapsed_times_inv,\n",
    "})\n",
    "results_relu = results[results['method'] == \"Relu\"]\n",
    "results_relu.to_csv(os.path.join(results_dir, 'results_relu.csv'))\n",
    "print(results_relu)"
   ],
   "metadata": {
    "collapsed": false,
    "pycharm": {
     "name": "#%%\n"
    }
   }
  },
  {
   "cell_type": "markdown",
   "source": [
    "## PSI NN"
   ],
   "metadata": {
    "collapsed": false
   }
  },
  {
   "cell_type": "code",
   "execution_count": null,
   "outputs": [],
   "source": [
    "for seed in seeds:\n",
    "    print(\"Seed\", seed)\n",
    "    set_seed(seed)\n",
    "\n",
    "    train_data, val_data, test_data = get_splits_train_val_test(dataset)\n",
    "    print(train_data.indices)\n",
    "\n",
    "    x_test = torch.tensor(dataset.attributes[test_data.indices])\n",
    "    y_test = torch.tensor(dataset.targets[test_data.indices])\n",
    "\n",
    "    # Network structures\n",
    "    l1_weight = 5e-6\n",
    "    hidden_neurons = [10, 5]\n",
    "    fan_in = 3\n",
    "    lr_psi = 0.01\n",
    "\n",
    "    # Setting device\n",
    "    device = torch.device(\"cpu\") if torch.cuda.is_available() else torch.device(\"cpu\")\n",
    "    set_seed(seed)\n",
    "\n",
    "    print(\"Training Psi NN...\")\n",
    "    model = PsiNetwork(dataset.n_classes, n_features, hidden_neurons, loss,\n",
    "                       l1_weight, fan_in=fan_in)\n",
    "\n",
    "    results = model.fit(train_data, val_data, epochs=epochs, l_r=lr_psi, verbose=False,\n",
    "                        metric=metric, lr_scheduler=lr_scheduler, device=device, save=False)\n",
    "    print(results)\n",
    "    accuracy = model.evaluate(test_data, metric=metric)\n",
    "    print(\"Test model accuracy\", accuracy)\n",
    "\n",
    "    formulas, times, exp_accuracies = [], [], []\n",
    "    for i, class_to_explain in enumerate(dataset.classes):\n",
    "        formula, elapsed_time = model.get_global_explanation(i, concept_names,\n",
    "                                                             simplify=True, return_time=True)\n",
    "        exp_accuracy, _ = test_multi_class_explanation(formula, i, x_test, y_test,\n",
    "                                                       metric=metric, concept_names=concept_names)\n",
    "        formulas.append(formula), times.append(elapsed_time), exp_accuracies.append(exp_accuracy)\n",
    "        print(f\"{class_to_explain} <-> {formula}\")\n",
    "        print(\"Elapsed time\", elapsed_time)\n",
    "        print(\"Explanation accuracy\", exp_accuracy)\n",
    "\n",
    "    methods.append(\"Psi\")\n",
    "    splits.append(seed)\n",
    "    explanations.append(formulas[0])\n",
    "    explanations_inv.append(formulas[1])\n",
    "    model_accuracies.append(accuracy)\n",
    "    explanation_accuracies.append(np.mean(exp_accuracies))\n",
    "    explanation_accuracies_inv.append(np.mean(exp_accuracies))\n",
    "    elapsed_times.append(np.mean(times))\n",
    "    elapsed_times_inv.append(np.mean(times))\n",
    "\n",
    "results = pd.DataFrame({\n",
    "    'method': methods,\n",
    "    'split': splits,\n",
    "    'explanation': explanations,\n",
    "    'explanation_inv': explanations_inv,\n",
    "    'model_accuracy': model_accuracies,\n",
    "    'explanation_accuracy': explanation_accuracies,\n",
    "    'explanation_accuracy_inv': explanation_accuracies_inv,\n",
    "    'elapsed_time': elapsed_times,\n",
    "    'elapsed_time_inv': elapsed_times_inv,\n",
    "})\n",
    "results_psi = results[results['method'] == \"Psi\"]\n",
    "results_psi.to_csv(os.path.join(results_dir, 'results_psi.csv'))\n",
    "print(results_psi)"
   ],
   "metadata": {
    "collapsed": false,
    "pycharm": {
     "name": "#%%\n"
    }
   }
  },
  {
   "cell_type": "markdown",
   "source": [
    "## Mu NN"
   ],
   "metadata": {
    "collapsed": false
   }
  },
  {
   "cell_type": "code",
   "execution_count": null,
   "outputs": [],
   "source": [
    "for seed in seeds:\n",
    "    print(\"Seed\", seed)\n",
    "    set_seed(seed)\n",
    "\n",
    "    train_data, val_data, test_data = get_splits_train_val_test(dataset)\n",
    "    print(train_data.indices)\n",
    "\n",
    "    x_val = torch.tensor(dataset.attributes[val_data.indices])\n",
    "    y_val = torch.tensor(dataset.targets[val_data.indices])\n",
    "    x_test = torch.tensor(dataset.attributes[test_data.indices])\n",
    "    y_test = torch.tensor(dataset.targets[test_data.indices])\n",
    "\n",
    "    # Network structures\n",
    "    l1_weight = 1e-3\n",
    "    hidden_neurons = [10, 5]\n",
    "\n",
    "    # Setting device\n",
    "    device = torch.device(\"cpu\") if torch.cuda.is_available() else torch.device(\"cpu\")\n",
    "    set_seed(seed)\n",
    "\n",
    "    print(\"Training General NN...\")\n",
    "    model = XGeneralNN(n_classes=dataset.n_classes, n_features=n_features, hidden_neurons=hidden_neurons,\n",
    "                       loss=loss, l1_weight=l1_weight)\n",
    "\n",
    "    results = model.fit(train_data, val_data, epochs=epochs, l_r=l_r, metric=metric,\n",
    "                        lr_scheduler=lr_scheduler, device=device, save=False, verbose=False)\n",
    "    print(results)\n",
    "    accuracy = model.evaluate(test_data, metric=metric)\n",
    "    print(\"Test model accuracy\", accuracy)\n",
    "\n",
    "    formulas, times, exp_accuracies = [], [], []\n",
    "    for i, class_to_explain in enumerate(dataset.classes):\n",
    "        formula, elapsed_time = model.get_global_explanation(x_val, y_val, i, simplify=True,\n",
    "                                                             topk_explanations=top_k_explanations,\n",
    "                                                             concept_names=concept_names, return_time=True)\n",
    "        exp_accuracy, _ = test_multi_class_explanation(formula, i, x_test, y_test,\n",
    "                                                       metric=metric, concept_names=concept_names)\n",
    "        formulas.append(formula), times.append(elapsed_time), exp_accuracies.append(exp_accuracy)\n",
    "        print(f\"{class_to_explain} <-> {formula}\")\n",
    "        print(\"Elapsed time\", elapsed_time)\n",
    "        print(\"Explanation accuracy\", exp_accuracy)\n",
    "\n",
    "    methods.append(\"General\")\n",
    "    splits.append(seed)\n",
    "    explanations.append(formulas[0])\n",
    "    explanations_inv.append(formulas[1])\n",
    "    model_accuracies.append(accuracy)\n",
    "    explanation_accuracies.append(np.mean(exp_accuracies))\n",
    "    explanation_accuracies_inv.append(np.mean(exp_accuracies))\n",
    "    elapsed_times.append(np.mean(times))\n",
    "    elapsed_times_inv.append(np.mean(times))"
   ],
   "metadata": {
    "collapsed": false,
    "pycharm": {
     "name": "#%%\n"
    }
   }
  },
  {
   "cell_type": "code",
   "execution_count": null,
   "outputs": [],
   "source": [
    "results = pd.DataFrame({\n",
    "    'method': methods,\n",
    "    'split': splits,\n",
    "    'explanation': explanations,\n",
    "    'explanation_inv': explanations_inv,\n",
    "    'model_accuracy': model_accuracies,\n",
    "    'explanation_accuracy': explanation_accuracies,\n",
    "    'explanation_accuracy_inv': explanation_accuracies_inv,\n",
    "    'elapsed_time': elapsed_times,\n",
    "    'elapsed_time_inv': elapsed_times_inv,\n",
    "})\n",
    "results_general = results[results['method'] == \"General\"]\n",
    "results_general.to_csv(os.path.join(results_dir, 'results_general.csv'))\n",
    "results.to_csv(os.path.join(results_dir, 'results.csv'))\n",
    "print(results)"
   ],
   "metadata": {
    "collapsed": false,
    "pycharm": {
     "name": "#%%\n"
    }
   }
  },
  {
   "cell_type": "markdown",
   "source": [
    "# Summary"
   ],
   "metadata": {
    "collapsed": false
   }
  },
  {
   "cell_type": "code",
   "execution_count": null,
   "outputs": [],
   "source": [
    "cols = ['model_accuracy', 'explanation_accuracy', 'explanation_accuracy_inv', 'elapsed_time', 'elapsed_time_inv']\n",
    "mean_cols = [f'{c}_mean' for c in cols]\n",
    "sem_cols = [f'{c}_sem' for c in cols]\n",
    "\n",
    "# general\n",
    "results_general = pd.read_csv(os.path.join(results_dir, \"results_general.csv\"))\n",
    "# results_general = results[results['method'] == \"General\"]\n",
    "df_mean = results_general[cols].mean()\n",
    "df_sem = results_general[cols].sem()\n",
    "df_mean.columns = mean_cols\n",
    "df_sem.columns = sem_cols\n",
    "summary_pruning = pd.concat([df_mean, df_sem])\n",
    "summary_pruning.name = 'general'\n",
    "\n",
    "# lime\n",
    "# results_brl = results[results['method'] == \"BRL\"]\n",
    "results_brl = pd.read_csv(os.path.join(results_dir, \"results_brl.csv\"))\n",
    "df_mean = results_brl[cols].mean()\n",
    "df_sem = results_brl[cols].sem()\n",
    "df_mean.columns = mean_cols\n",
    "df_sem.columns = sem_cols\n",
    "summary_brl = pd.concat([df_mean, df_sem])\n",
    "summary_brl.name = 'brl'\n",
    "\n",
    "# relu\n",
    "# results_relu = results[results['method'] == \"Relu\"]\n",
    "results_relu = pd.read_csv(os.path.join(results_dir, \"results_relu.csv\"))\n",
    "df_mean = results_relu[cols].mean()\n",
    "df_sem = results_relu[cols].sem()\n",
    "df_mean.columns = mean_cols\n",
    "df_sem.columns = sem_cols\n",
    "summary_weights = pd.concat([df_mean, df_sem])\n",
    "summary_weights.name = 'relu'\n",
    "\n",
    "# psi\n",
    "# results_psi = results[results['method'] == \"Psi\"]\n",
    "results_psi = pd.read_csv(os.path.join(results_dir, \"results_psi.csv\"))\n",
    "df_mean = results_psi[cols].mean()\n",
    "df_sem = results_psi[cols].sem()\n",
    "df_mean.columns = mean_cols\n",
    "df_sem.columns = sem_cols\n",
    "summary_psi = pd.concat([df_mean, df_sem])\n",
    "summary_psi.name = 'psi'\n",
    "\n",
    "# tree\n",
    "# results_tree = results[results['method'] == \"Tree\"]\n",
    "results_tree = pd.read_csv(os.path.join(results_dir, \"results_tree.csv\"))\n",
    "df_mean = results_tree[cols].mean()\n",
    "df_sem = results_tree[cols].sem()\n",
    "df_mean.columns = mean_cols\n",
    "df_sem.columns = sem_cols\n",
    "summary_tree = pd.concat([df_mean, df_sem])\n",
    "summary_tree.name = 'tree'\n",
    "\n",
    "summary = pd.concat([summary_pruning,\n",
    "                     summary_brl,\n",
    "                     summary_weights,\n",
    "                     summary_psi,\n",
    "                     summary_tree], axis=1).T\n",
    "summary.columns = mean_cols + sem_cols\n",
    "print(summary)"
   ],
   "metadata": {
    "collapsed": false,
    "pycharm": {
     "name": "#%%\n"
    }
   }
  },
  {
   "cell_type": "code",
   "execution_count": null,
   "outputs": [],
   "source": [
    "summary.to_csv(os.path.join(results_dir, 'summary.csv'))\n",
    "\n"
   ],
   "metadata": {
    "collapsed": false,
    "pycharm": {
     "name": "#%%\n"
    }
   }
  }
 ],
 "metadata": {
  "kernelspec": {
   "display_name": "Python 3",
   "language": "python",
   "name": "python3"
  },
  "language_info": {
   "codemirror_mode": {
    "name": "ipython",
    "version": 3
   },
   "file_extension": ".py",
   "mimetype": "text/x-python",
   "name": "python",
   "nbconvert_exporter": "python",
   "pygments_lexer": "ipython3",
   "version": "3.8.5"
  }
 },
 "nbformat": 4,
 "nbformat_minor": 1
}