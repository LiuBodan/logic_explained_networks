{
 "cells": [
  {
   "cell_type": "code",
   "execution_count": 1,
   "metadata": {
    "pycharm": {
     "name": "#%%\n"
    }
   },
   "outputs": [],
   "source": [
    "# %%\n",
    "import sys\n",
    "\n",
    "import sklearn\n",
    "from sklearn.datasets import load_digits\n",
    "from torch.utils.data import DataLoader\n",
    "\n",
    "sys.path.append('..')\n",
    "import torch\n",
    "import numpy as np\n",
    "import matplotlib.pyplot as plt\n",
    "\n",
    "from lens.utils.relu_nn import get_reduced_model, prune_features\n",
    "from lens import logic\n",
    "import lens\n",
    "from data import ConceptToTaskDataset\n",
    "torch.manual_seed(0)\n",
    "np.random.seed(0)\n",
    "\n"
   ]
  },
  {
   "cell_type": "code",
   "execution_count": 2,
   "metadata": {
    "pycharm": {
     "name": "#%%\n"
    }
   },
   "outputs": [
    {
     "data": {
      "text/plain": "['has_bill_shape::curved_(up_or_down)\\n',\n 'has_bill_shape::dagger\\n',\n 'has_bill_shape::hooked\\n',\n 'has_bill_shape::needle\\n',\n 'has_bill_shape::hooked_seabird\\n',\n 'has_bill_shape::spatulate\\n',\n 'has_bill_shape::all-purpose\\n',\n 'has_bill_shape::cone\\n',\n 'has_bill_shape::specialized\\n',\n 'has_wing_color::blue\\n',\n 'has_wing_color::brown\\n',\n 'has_wing_color::iridescent\\n',\n 'has_wing_color::purple\\n',\n 'has_wing_color::rufous\\n',\n 'has_wing_color::grey\\n',\n 'has_wing_color::yellow\\n',\n 'has_wing_color::olive\\n',\n 'has_wing_color::green\\n',\n 'has_wing_color::pink\\n',\n 'has_wing_color::orange\\n',\n 'has_wing_color::black\\n',\n 'has_wing_color::white\\n',\n 'has_wing_color::red\\n',\n 'has_wing_color::buff\\n',\n 'has_upperparts_color::blue\\n',\n 'has_upperparts_color::brown\\n',\n 'has_upperparts_color::iridescent\\n',\n 'has_upperparts_color::purple\\n',\n 'has_upperparts_color::rufous\\n',\n 'has_upperparts_color::grey\\n',\n 'has_upperparts_color::yellow\\n',\n 'has_upperparts_color::olive\\n',\n 'has_upperparts_color::green\\n',\n 'has_upperparts_color::pink\\n',\n 'has_upperparts_color::orange\\n',\n 'has_upperparts_color::black\\n',\n 'has_upperparts_color::white\\n',\n 'has_upperparts_color::red\\n',\n 'has_upperparts_color::buff\\n',\n 'has_underparts_color::blue\\n',\n 'has_underparts_color::brown\\n',\n 'has_underparts_color::iridescent\\n',\n 'has_underparts_color::purple\\n',\n 'has_underparts_color::rufous\\n',\n 'has_underparts_color::grey\\n',\n 'has_underparts_color::yellow\\n',\n 'has_underparts_color::olive\\n',\n 'has_underparts_color::green\\n',\n 'has_underparts_color::pink\\n',\n 'has_underparts_color::orange\\n',\n 'has_underparts_color::black\\n',\n 'has_underparts_color::white\\n',\n 'has_underparts_color::red\\n',\n 'has_underparts_color::buff\\n',\n 'has_breast_pattern::solid\\n',\n 'has_breast_pattern::spotted\\n',\n 'has_breast_pattern::striped\\n',\n 'has_breast_pattern::multi-colored\\n',\n 'has_back_color::blue\\n',\n 'has_back_color::brown\\n',\n 'has_back_color::iridescent\\n',\n 'has_back_color::purple\\n',\n 'has_back_color::rufous\\n',\n 'has_back_color::grey\\n',\n 'has_back_color::yellow\\n',\n 'has_back_color::olive\\n',\n 'has_back_color::green\\n',\n 'has_back_color::pink\\n',\n 'has_back_color::orange\\n',\n 'has_back_color::black\\n',\n 'has_back_color::white\\n',\n 'has_back_color::red\\n',\n 'has_back_color::buff\\n',\n 'has_tail_shape::forked_tail\\n',\n 'has_tail_shape::rounded_tail\\n',\n 'has_tail_shape::notched_tail\\n',\n 'has_tail_shape::fan-shaped_tail\\n',\n 'has_tail_shape::pointed_tail\\n',\n 'has_tail_shape::squared_tail\\n',\n 'has_upper_tail_color::blue\\n',\n 'has_upper_tail_color::brown\\n',\n 'has_upper_tail_color::iridescent\\n',\n 'has_upper_tail_color::purple\\n',\n 'has_upper_tail_color::rufous\\n',\n 'has_upper_tail_color::grey\\n',\n 'has_upper_tail_color::yellow\\n',\n 'has_upper_tail_color::olive\\n',\n 'has_upper_tail_color::green\\n',\n 'has_upper_tail_color::pink\\n',\n 'has_upper_tail_color::orange\\n',\n 'has_upper_tail_color::black\\n',\n 'has_upper_tail_color::white\\n',\n 'has_upper_tail_color::red\\n',\n 'has_upper_tail_color::buff\\n',\n 'has_head_pattern::spotted\\n',\n 'has_head_pattern::malar\\n',\n 'has_head_pattern::crested\\n',\n 'has_head_pattern::masked\\n',\n 'has_head_pattern::unique_pattern\\n',\n 'has_head_pattern::eyebrow\\n',\n 'has_head_pattern::eyering\\n',\n 'has_head_pattern::plain\\n',\n 'has_head_pattern::eyeline\\n',\n 'has_head_pattern::striped\\n',\n 'has_head_pattern::capped\\n',\n 'has_breast_color::blue\\n',\n 'has_breast_color::brown\\n',\n 'has_breast_color::iridescent\\n',\n 'has_breast_color::purple\\n',\n 'has_breast_color::rufous\\n',\n 'has_breast_color::grey\\n',\n 'has_breast_color::yellow\\n',\n 'has_breast_color::olive\\n',\n 'has_breast_color::green\\n',\n 'has_breast_color::pink\\n',\n 'has_breast_color::orange\\n',\n 'has_breast_color::black\\n',\n 'has_breast_color::white\\n',\n 'has_breast_color::red\\n',\n 'has_breast_color::buff\\n',\n 'has_throat_color::blue\\n',\n 'has_throat_color::brown\\n',\n 'has_throat_color::iridescent\\n',\n 'has_throat_color::purple\\n',\n 'has_throat_color::rufous\\n',\n 'has_throat_color::grey\\n',\n 'has_throat_color::yellow\\n',\n 'has_throat_color::olive\\n',\n 'has_throat_color::green\\n',\n 'has_throat_color::pink\\n',\n 'has_throat_color::orange\\n',\n 'has_throat_color::black\\n',\n 'has_throat_color::white\\n',\n 'has_throat_color::red\\n',\n 'has_throat_color::buff\\n',\n 'has_eye_color::blue\\n',\n 'has_eye_color::brown\\n',\n 'has_eye_color::purple\\n',\n 'has_eye_color::rufous\\n',\n 'has_eye_color::grey\\n',\n 'has_eye_color::yellow\\n',\n 'has_eye_color::olive\\n',\n 'has_eye_color::green\\n',\n 'has_eye_color::pink\\n',\n 'has_eye_color::orange\\n',\n 'has_eye_color::black\\n',\n 'has_eye_color::white\\n',\n 'has_eye_color::red\\n',\n 'has_eye_color::buff\\n',\n 'has_bill_length::about_the_same_as_head\\n',\n 'has_bill_length::longer_than_head\\n',\n 'has_bill_length::shorter_than_head\\n',\n 'has_forehead_color::blue\\n',\n 'has_forehead_color::brown\\n',\n 'has_forehead_color::iridescent\\n',\n 'has_forehead_color::purple\\n',\n 'has_forehead_color::rufous\\n',\n 'has_forehead_color::grey\\n',\n 'has_forehead_color::yellow\\n',\n 'has_forehead_color::olive\\n',\n 'has_forehead_color::green\\n',\n 'has_forehead_color::pink\\n',\n 'has_forehead_color::orange\\n',\n 'has_forehead_color::black\\n',\n 'has_forehead_color::white\\n',\n 'has_forehead_color::red\\n',\n 'has_forehead_color::buff\\n',\n 'has_under_tail_color::blue\\n',\n 'has_under_tail_color::brown\\n',\n 'has_under_tail_color::iridescent\\n',\n 'has_under_tail_color::purple\\n',\n 'has_under_tail_color::rufous\\n',\n 'has_under_tail_color::grey\\n',\n 'has_under_tail_color::yellow\\n',\n 'has_under_tail_color::olive\\n',\n 'has_under_tail_color::green\\n',\n 'has_under_tail_color::pink\\n',\n 'has_under_tail_color::orange\\n',\n 'has_under_tail_color::black\\n',\n 'has_under_tail_color::white\\n',\n 'has_under_tail_color::red\\n',\n 'has_under_tail_color::buff\\n',\n 'has_nape_color::blue\\n',\n 'has_nape_color::brown\\n',\n 'has_nape_color::iridescent\\n',\n 'has_nape_color::purple\\n',\n 'has_nape_color::rufous\\n',\n 'has_nape_color::grey\\n',\n 'has_nape_color::yellow\\n',\n 'has_nape_color::olive\\n',\n 'has_nape_color::green\\n',\n 'has_nape_color::pink\\n',\n 'has_nape_color::orange\\n',\n 'has_nape_color::black\\n',\n 'has_nape_color::white\\n',\n 'has_nape_color::red\\n',\n 'has_nape_color::buff\\n',\n 'has_belly_color::blue\\n',\n 'has_belly_color::brown\\n',\n 'has_belly_color::iridescent\\n',\n 'has_belly_color::purple\\n',\n 'has_belly_color::rufous\\n',\n 'has_belly_color::grey\\n',\n 'has_belly_color::yellow\\n',\n 'has_belly_color::olive\\n',\n 'has_belly_color::green\\n',\n 'has_belly_color::pink\\n',\n 'has_belly_color::orange\\n',\n 'has_belly_color::black\\n',\n 'has_belly_color::white\\n',\n 'has_belly_color::red\\n',\n 'has_belly_color::buff\\n',\n 'has_wing_shape::rounded-wings\\n',\n 'has_wing_shape::pointed-wings\\n',\n 'has_wing_shape::broad-wings\\n',\n 'has_wing_shape::tapered-wings\\n',\n 'has_wing_shape::long-wings\\n',\n 'has_size::large_(16_-_32_in)\\n',\n 'has_size::small_(5_-_9_in)\\n',\n 'has_size::very_large_(32_-_72_in)\\n',\n 'has_size::medium_(9_-_16_in)\\n',\n 'has_size::very_small_(3_-_5_in)\\n',\n 'has_shape::upright-perching_water-like\\n',\n 'has_shape::chicken-like-marsh\\n',\n 'has_shape::long-legged-like\\n',\n 'has_shape::duck-like\\n',\n 'has_shape::owl-like\\n',\n 'has_shape::gull-like\\n',\n 'has_shape::hummingbird-like\\n',\n 'has_shape::pigeon-like\\n',\n 'has_shape::tree-clinging-like\\n',\n 'has_shape::hawk-like\\n',\n 'has_shape::sandpiper-like\\n',\n 'has_shape::upland-ground-like\\n',\n 'has_shape::swallow-like\\n',\n 'has_shape::perching-like\\n',\n 'has_back_pattern::solid\\n',\n 'has_back_pattern::spotted\\n',\n 'has_back_pattern::striped\\n',\n 'has_back_pattern::multi-colored\\n',\n 'has_tail_pattern::solid\\n',\n 'has_tail_pattern::spotted\\n',\n 'has_tail_pattern::striped\\n',\n 'has_tail_pattern::multi-colored\\n',\n 'has_belly_pattern::solid\\n',\n 'has_belly_pattern::spotted\\n',\n 'has_belly_pattern::striped\\n',\n 'has_belly_pattern::multi-colored\\n',\n 'has_primary_color::blue\\n',\n 'has_primary_color::brown\\n',\n 'has_primary_color::iridescent\\n',\n 'has_primary_color::purple\\n',\n 'has_primary_color::rufous\\n',\n 'has_primary_color::grey\\n',\n 'has_primary_color::yellow\\n',\n 'has_primary_color::olive\\n',\n 'has_primary_color::green\\n',\n 'has_primary_color::pink\\n',\n 'has_primary_color::orange\\n',\n 'has_primary_color::black\\n',\n 'has_primary_color::white\\n',\n 'has_primary_color::red\\n',\n 'has_primary_color::buff\\n',\n 'has_leg_color::blue\\n',\n 'has_leg_color::brown\\n',\n 'has_leg_color::iridescent\\n',\n 'has_leg_color::purple\\n',\n 'has_leg_color::rufous\\n',\n 'has_leg_color::grey\\n',\n 'has_leg_color::yellow\\n',\n 'has_leg_color::olive\\n',\n 'has_leg_color::green\\n',\n 'has_leg_color::pink\\n',\n 'has_leg_color::orange\\n',\n 'has_leg_color::black\\n',\n 'has_leg_color::white\\n',\n 'has_leg_color::red\\n',\n 'has_leg_color::buff\\n',\n 'has_bill_color::blue\\n',\n 'has_bill_color::brown\\n',\n 'has_bill_color::iridescent\\n',\n 'has_bill_color::purple\\n',\n 'has_bill_color::rufous\\n',\n 'has_bill_color::grey\\n',\n 'has_bill_color::yellow\\n',\n 'has_bill_color::olive\\n',\n 'has_bill_color::green\\n',\n 'has_bill_color::pink\\n',\n 'has_bill_color::orange\\n',\n 'has_bill_color::black\\n',\n 'has_bill_color::white\\n',\n 'has_bill_color::red\\n',\n 'has_bill_color::buff\\n',\n 'has_crown_color::blue\\n',\n 'has_crown_color::brown\\n',\n 'has_crown_color::iridescent\\n',\n 'has_crown_color::purple\\n',\n 'has_crown_color::rufous\\n',\n 'has_crown_color::grey\\n',\n 'has_crown_color::yellow\\n',\n 'has_crown_color::olive\\n',\n 'has_crown_color::green\\n',\n 'has_crown_color::pink\\n',\n 'has_crown_color::orange\\n',\n 'has_crown_color::black\\n',\n 'has_crown_color::white\\n',\n 'has_crown_color::red\\n',\n 'has_crown_color::buff\\n',\n 'has_wing_pattern::solid\\n',\n 'has_wing_pattern::spotted\\n',\n 'has_wing_pattern::striped\\n',\n 'has_wing_pattern::multi-colored\\n']"
     },
     "execution_count": 2,
     "metadata": {},
     "output_type": "execute_result"
    }
   ],
   "source": [
    "dataset = ConceptToTaskDataset(\"../data/CUB_200_2011\", predictions=True)\n",
    "\n",
    "X = dataset.attributes\n",
    "y = np.asarray(dataset.targets)\n",
    "\n",
    "concept_names = dataset.attribute_names\n",
    "concept_names"
   ]
  },
  {
   "cell_type": "code",
   "execution_count": 3,
   "outputs": [
    {
     "name": "stdout",
     "output_type": "stream",
     "text": [
      "X shape: (11788, 108)\n",
      "Classes: [0. 1.]\n",
      "X max: 1.0 X min 0.0\n"
     ]
    }
   ],
   "source": [
    "y = sklearn.preprocessing.OneHotEncoder(sparse=False).fit_transform(y.reshape(-1, 1))\n",
    "X = sklearn.preprocessing.MinMaxScaler((0, 1)).fit_transform(X)\n",
    "print(f'X shape: {X.shape}\\nClasses: {np.unique(y)}')\n",
    "print(f'X max: {X.max()} X min {X.min()}')"
   ],
   "metadata": {
    "collapsed": false,
    "pycharm": {
     "name": "#%%\n"
    }
   }
  },
  {
   "cell_type": "code",
   "execution_count": 4,
   "outputs": [
    {
     "name": "stdout",
     "output_type": "stream",
     "text": [
      "X shape: (10609, 108)\n",
      "Y shape: (10609, 200)\n",
      "X_test shape: (1179, 108)\n",
      "Y_test shape: (1179, 200)\n"
     ]
    }
   ],
   "source": [
    "from sklearn.model_selection import train_test_split\n",
    "X, X_test, y, y_test = train_test_split(X, y, test_size=0.1)\n",
    "print(f'X shape: {X.shape}\\nY shape: {y.shape}')\n",
    "print(f'X_test shape: {X_test.shape}\\nY_test shape: {y_test.shape}')"
   ],
   "metadata": {
    "collapsed": false,
    "pycharm": {
     "name": "#%%\n"
    }
   }
  },
  {
   "cell_type": "code",
   "execution_count": 5,
   "outputs": [
    {
     "name": "stdout",
     "output_type": "stream",
     "text": [
      "torch.Size([10609, 108])\n"
     ]
    }
   ],
   "source": [
    "x_train = torch.tensor(X, dtype=torch.float)\n",
    "print(x_train.shape)"
   ],
   "metadata": {
    "collapsed": false,
    "pycharm": {
     "name": "#%%\n"
    }
   }
  },
  {
   "cell_type": "code",
   "execution_count": 6,
   "outputs": [
    {
     "name": "stdout",
     "output_type": "stream",
     "text": [
      "200\n",
      "tensor([[0., 0., 0.,  ..., 0., 0., 0.],\n",
      "        [0., 0., 0.,  ..., 0., 0., 0.],\n",
      "        [0., 0., 0.,  ..., 0., 0., 0.],\n",
      "        ...,\n",
      "        [0., 0., 0.,  ..., 0., 0., 0.],\n",
      "        [0., 0., 0.,  ..., 0., 0., 0.],\n",
      "        [0., 0., 0.,  ..., 0., 0., 0.]])\n"
     ]
    },
    {
     "data": {
      "text/plain": "tensor([ 66,   9, 143,  ..., 167, 183,  47])"
     },
     "execution_count": 6,
     "metadata": {},
     "output_type": "execute_result"
    }
   ],
   "source": [
    "y_train = torch.zeros((y.shape[0], y.shape[1]), dtype=torch.float)\n",
    "y_train = torch.tensor(y, dtype=torch.float)\n",
    "x_test = x_train\n",
    "n_classes = y_train.size(1)\n",
    "print(n_classes)\n",
    "print(y_train)\n",
    "y_train.sum(dim=0)\n",
    "\n",
    "# torch.cuda.set_device(0)\n",
    "n_classes = y_train.shape[1]\n",
    "device = torch.device(\"cpu\")\n",
    "x_train = x_train.to(device)\n",
    "y_train = y_train.argmax(dim=1).to(torch.long).to(device)\n",
    "loss_form = torch.nn.NLLLoss() # CrossEntropyLoss()\n",
    "y_train"
   ],
   "metadata": {
    "collapsed": false,
    "pycharm": {
     "name": "#%%\n"
    }
   }
  },
  {
   "cell_type": "code",
   "execution_count": null,
   "metadata": {
    "pycharm": {
     "name": "#%%\n",
     "is_executing": true
    },
    "scrolled": false
   },
   "outputs": [
    {
     "name": "stdout",
     "output_type": "stream",
     "text": [
      "Epoch: 0\n"
     ]
    }
   ],
   "source": [
    "torch.manual_seed(0)\n",
    "np.random.seed(0)\n",
    "dimensions = [200, 200]\n",
    "layers = [\n",
    "    torch.nn.Linear(x_train.size(1), dimensions[0] * n_classes),\n",
    "    torch.nn.LeakyReLU(),\n",
    "    lens.nn.XLinear(dimensions[0], dimensions[1], n_classes),\n",
    "    torch.nn.Softmax(),\n",
    "]\n",
    "model = torch.nn.Sequential(*layers)\n",
    "model.to(device)\n",
    "optimizer = torch.optim.Adam(model.parameters(), lr=0.003)\n",
    "model.train()\n",
    "need_pruning = True\n",
    "for epoch in range(3000):\n",
    "    print(\"Epoch:\", epoch)\n",
    "    # forward pass\n",
    "    optimizer.zero_grad()\n",
    "    y_pred = model(x_train).squeeze()\n",
    "    y_train = y_train.to(torch.long)\n",
    "    # print(\"x_train\", x_train.shape, x_train.dtype)\n",
    "    # print(\"y_pred\", y_pred.shape, y_pred.dtype)\n",
    "    # print(\"y_train\", y_train.shape, y_train.dtype)\n",
    "    # Compute Loss\n",
    "    loss = loss_form(torch.log(y_pred), y_train)\n",
    "\n",
    "    for module in model.children():\n",
    "        if isinstance(module, torch.nn.Linear):\n",
    "            loss += 1e-8 * torch.norm(module.weight, 1)\n",
    "            break\n",
    "\n",
    "    # backward pass\n",
    "    loss.backward()\n",
    "    optimizer.step()\n",
    "\n",
    "    if epoch > 1500 and need_pruning:\n",
    "        prune_features(model, n_classes, device=device)\n",
    "        need_pruning = False\n",
    "\n",
    "    # compute accuracy\n",
    "    if (epoch + 1) % 10 == 0:\n",
    "        y_pred_d = torch.argmax(y_pred, dim=1)\n",
    "        y_train_d = y_train # torch.argmax(y_train, dim=1)\n",
    "        accuracy = y_pred_d.eq(y_train_d).sum().item() / y_train.size(0) * 100.\n",
    "        print(f'Epoch: {epoch + 1} train accuracy: {accuracy:.2f} loss: {loss:.4f}')"
   ]
  },
  {
   "cell_type": "markdown",
   "metadata": {
    "pycharm": {
     "name": "#%% md\n"
    }
   },
   "source": [
    "# Local explanations"
   ]
  },
  {
   "cell_type": "code",
   "execution_count": null,
   "metadata": {
    "pycharm": {
     "name": "#%%\n",
     "is_executing": true
    }
   },
   "outputs": [],
   "source": [
    "\n",
    "np.set_printoptions(precision=2, suppress=True)\n",
    "outputs = []\n",
    "for i, (xin, yin) in enumerate(zip(x_train, y_train)):\n",
    "    model_reduced = get_reduced_model(model, xin)\n",
    "    for module in model_reduced.children():\n",
    "        if isinstance(module, torch.nn.Linear):\n",
    "            wa = module.weight.detach().numpy()\n",
    "            ba = module.bias.detach().numpy()\n",
    "            break\n",
    "    output = model_reduced(xin)\n",
    "\n",
    "    pred_class = torch.argmax(output)\n",
    "    true_class = torch.argmax(y_train[i])\n",
    "\n",
    "    # generate local explanation only if the prediction is correct\n",
    "    if pred_class.eq(true_class):\n",
    "        local_explanation = logic.relu_nn.explain_local(model, x_train, y_train, xin)\n",
    "        print(f'Input {(i + 1)}')\n",
    "        print(f'\\tx={xin.detach().numpy()}')\n",
    "        print(f'\\ty={output.detach().numpy()}, y_label={yin}')\n",
    "        print(f'\\tw={wa}')\n",
    "        print(f'\\tb={ba}')\n",
    "        print(f'\\tExplanation: {local_explanation}')\n",
    "        print()\n",
    "        xin = xin.reshape(8, 8)\n",
    "        plt.figure(1, figsize=(3, 3))\n",
    "        plt.imshow(xin, cmap=plt.cm.gray_r, interpolation='nearest')\n",
    "        plt.show()\n",
    "#         wa = wa.reshape(8, 8)\n",
    "#         plt.figure(1, figsize=(3, 3))\n",
    "#         plt.imshow(wa * xin.numpy(), cmap=plt.cm.gray_r, interpolation='nearest')\n",
    "#         plt.show()\n",
    "\n",
    "    outputs.append(output)\n",
    "    if i > 10:\n",
    "        break"
   ]
  },
  {
   "cell_type": "code",
   "execution_count": null,
   "metadata": {
    "pycharm": {
     "name": "#%%\n",
     "is_executing": true
    }
   },
   "outputs": [],
   "source": [
    "# %% md\n",
    "\n",
    "# Combine local explanations\n",
    "\n",
    "# %%\n",
    "counters = []\n",
    "from sklearn.metrics import f1_score\n",
    "y_train_d = torch.argmax(y_train, dim=1)\n",
    "for target_class in range(n_classes):\n",
    "    global_explanation, predictions, counter = logic.combine_local_explanations(model, x_train, y_train,\n",
    "                                                                              topk_explanations=10,\n",
    "                                                                              target_class=target_class,\n",
    "                                                                              concept_names=concept_names)\n",
    "\n",
    "    y2 = torch.argmax(y_train, dim=1) == target_class\n",
    "    accuracy = sum(predictions == y2.detach().numpy().squeeze()) / len(predictions)\n",
    "    f1 = f1_score(y_train[:, target_class], predictions)\n",
    "    print(f'Class {target_class} - Global explanation: \"{global_explanation}\" - Accuracy: {accuracy:.4f} - F1: {f1:.4f}')\n",
    "    counters.append(counter)\n"
   ]
  },
  {
   "cell_type": "code",
   "execution_count": null,
   "metadata": {
    "pycharm": {
     "name": "#%%\n",
     "is_executing": true
    }
   },
   "outputs": [],
   "source": [
    "for i, counter in enumerate(counters):\n",
    "    for j, values in enumerate(counter.items()):\n",
    "        print(i, j, values)"
   ]
  },
  {
   "cell_type": "code",
   "execution_count": null,
   "metadata": {
    "pycharm": {
     "name": "#%%\n",
     "is_executing": true
    }
   },
   "outputs": [],
   "source": [
    "from sklearn.metrics import f1_score, accuracy_score\n",
    "y_pred = model(torch.Tensor(X_test)).argmax(dim=1).detach().numpy()\n",
    "y_test = np.argmax(y_test, axis=1)\n"
   ]
  },
  {
   "cell_type": "code",
   "execution_count": null,
   "metadata": {
    "pycharm": {
     "name": "#%%\n",
     "is_executing": true
    }
   },
   "outputs": [],
   "source": [
    "accuracy = accuracy_score(y_test, y_pred)\n",
    "f1 = f1_score(y_test, y_pred, average='macro')\n",
    "print(f\"Accuracy: {accuracy:.2f}.\\nF1: {f1}\")"
   ]
  },
  {
   "cell_type": "code",
   "execution_count": null,
   "metadata": {
    "pycharm": {
     "name": "#%%\n",
     "is_executing": true
    }
   },
   "outputs": [],
   "source": [
    "from sklearn.metrics import f1_score, accuracy_score\n",
    "from sklearn.tree import DecisionTreeClassifier\n",
    "tree_model = DecisionTreeClassifier(max_depth=30)\n",
    "X_bool = X > 0.5\n",
    "tree_model.fit(X, y_train_d.cpu().numpy())\n",
    "X_test_bool = X_test > 0.5\n",
    "\n",
    "y_pred = tree_model.predict(X)\n",
    "accuracy = accuracy_score(y_train.cpu().numpy(), y_pred)\n",
    "f1 = f1_score(y_train.cpu().numpy(), y_pred, average='macro')\n",
    "print(f\"Accuracy: {accuracy:.2f}.\\nF1: {f1:.2f}\")\n",
    "\n",
    "y_pred = tree_model.predict(X_test)\n",
    "accuracy = accuracy_score(np.argmax(y_test, axis=1), y_pred)\n",
    "f1 = f1_score(np.argmax(y_test, axis=1), y_pred, average='macro')\n",
    "print(f\"Accuracy: {accuracy:.2f}.\\nF1: {f1:.2f}\")"
   ]
  },
  {
   "cell_type": "code",
   "execution_count": null,
   "metadata": {
    "pycharm": {
     "name": "#%%\n",
     "is_executing": true
    }
   },
   "outputs": [],
   "source": [
    "sklearn.tree.plot_tree(tree_model)\n",
    "plt.show()"
   ]
  }
 ],
 "metadata": {
  "kernelspec": {
   "display_name": "Python 3",
   "language": "python",
   "name": "python3"
  },
  "language_info": {
   "codemirror_mode": {
    "name": "ipython",
    "version": 3
   },
   "file_extension": ".py",
   "mimetype": "text/x-python",
   "name": "python",
   "nbconvert_exporter": "python",
   "pygments_lexer": "ipython3",
   "version": "3.7.7"
  }
 },
 "nbformat": 4,
 "nbformat_minor": 1
}