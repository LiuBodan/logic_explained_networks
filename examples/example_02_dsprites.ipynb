{
 "cells": [
  {
   "cell_type": "code",
   "execution_count": 1,
   "metadata": {},
   "outputs": [],
   "source": [
    "import sys\n",
    "sys.path.append('..')\n",
    "import torch\n",
    "import numpy as np\n",
    "import pandas as pd\n",
    "import matplotlib.pyplot as plt\n",
    "from sympy import simplify_logic\n",
    "\n",
    "from deep_logic.utils.base import validate_network\n",
    "from deep_logic.utils.relunn import get_reduced_model, prune_features\n",
    "from deep_logic import fol\n",
    "import deep_logic as dl\n",
    "\n",
    "torch.manual_seed(0)\n",
    "np.random.seed(0)"
   ]
  },
  {
   "cell_type": "code",
   "execution_count": 2,
   "metadata": {},
   "outputs": [],
   "source": [
    "x = pd.read_csv('dsprites_c_train.csv', index_col=0)\n",
    "y = pd.read_csv('dsprites_y_train.csv', index_col=0)"
   ]
  },
  {
   "cell_type": "code",
   "execution_count": 3,
   "metadata": {},
   "outputs": [
    {
     "data": {
      "text/plain": [
       "['color', 'shape', 'scale', 'rotation', 'x_pos', 'y_pos']"
      ]
     },
     "execution_count": 3,
     "metadata": {},
     "output_type": "execute_result"
    }
   ],
   "source": [
    "base_concepts = ['color', 'shape', 'scale', 'rotation', 'x_pos', 'y_pos']\n",
    "base_concepts"
   ]
  },
  {
   "cell_type": "code",
   "execution_count": 4,
   "metadata": {},
   "outputs": [],
   "source": [
    "colors = ['white']\n",
    "shapes = ['square', 'ellipse', 'heart']\n",
    "scale = ['very small', 'small', 's-medium', 'b-medium', 'big', 'very big']\n",
    "rotation = ['0°', '5°', '10°', '15°', '20°', '25°', '30°', '35°']\n",
    "x_pos = ['x0', 'x2', 'x4', 'x6', 'x8', 'x10', 'x12', 'x14', 'x16', 'x18', 'x20', 'x22', 'x24', 'x26', 'x28', 'x30']\n",
    "y_pos = ['y0', 'y2', 'y4', 'y6', 'y8', 'y10', 'y12', 'y14', 'y16', 'y18', 'y20', 'y22', 'y24', 'y26', 'y28', 'y30']\n",
    "concepts = colors + shapes + scale + rotation + x_pos + y_pos"
   ]
  },
  {
   "cell_type": "code",
   "execution_count": 5,
   "metadata": {},
   "outputs": [
    {
     "name": "stdout",
     "output_type": "stream",
     "text": [
      "torch.Size([5530, 50])\n"
     ]
    }
   ],
   "source": [
    "x_train = torch.tensor(x.values, dtype=torch.float)\n",
    "print(x_train.shape)"
   ]
  },
  {
   "cell_type": "code",
   "execution_count": 6,
   "metadata": {},
   "outputs": [
    {
     "name": "stdout",
     "output_type": "stream",
     "text": [
      "18\n"
     ]
    },
    {
     "data": {
      "text/plain": [
       "tensor([321., 311., 295., 324., 286., 295., 325., 302., 302., 319., 293., 297.,\n",
       "        302., 301., 329., 326., 321., 281.])"
      ]
     },
     "execution_count": 6,
     "metadata": {},
     "output_type": "execute_result"
    }
   ],
   "source": [
    "y_train = torch.zeros((y.shape[0], y.shape[1]), dtype=torch.float)\n",
    "y_train = torch.tensor(y.values, dtype=torch.float)\n",
    "x_test = x_train\n",
    "n_classes = y_train.size(1)\n",
    "print(n_classes)\n",
    "\n",
    "y_train.sum(dim=0)"
   ]
  },
  {
   "cell_type": "code",
   "execution_count": 7,
   "metadata": {},
   "outputs": [
    {
     "name": "stderr",
     "output_type": "stream",
     "text": [
      "c:\\users\\pietr\\anaconda3\\envs\\deep-logic\\lib\\site-packages\\torch\\nn\\modules\\container.py:117: UserWarning: Implicit dimension choice for softmax has been deprecated. Change the call to include dim=X as an argument.\n",
      "  input = module(input)\n"
     ]
    },
    {
     "name": "stdout",
     "output_type": "stream",
     "text": [
      "Epoch 0: train accuracy: 0.0588\n",
      "Epoch 500: train accuracy: 1.0000\n",
      "Epoch 1000: train accuracy: 1.0000\n",
      "Epoch 1500: train accuracy: 1.0000\n",
      "Epoch 2000: train accuracy: 1.0000\n",
      "Epoch 2500: train accuracy: 1.0000\n",
      "Epoch 3000: train accuracy: 1.0000\n",
      "Epoch 3500: train accuracy: 1.0000\n",
      "Epoch 4000: train accuracy: 1.0000\n",
      "Epoch 4500: train accuracy: 1.0000\n",
      "Epoch 5000: train accuracy: 1.0000\n",
      "Epoch 5500: train accuracy: 1.0000\n"
     ]
    }
   ],
   "source": [
    "torch.manual_seed(0)\n",
    "np.random.seed(0)\n",
    "device = torch.device('cuda:0' if torch.cuda.is_available() else 'cpu')\n",
    "x_train = x_train.to(device)\n",
    "y_train = y_train.to(device)\n",
    "\n",
    "layers = [\n",
    "    torch.nn.Linear(x_train.size(1), 20 * n_classes),\n",
    "    torch.nn.LeakyReLU(),\n",
    "    dl.nn.XLinear(20, 10, n_classes),\n",
    "    torch.nn.LeakyReLU(),\n",
    "    dl.nn.XLinear(10, 5, n_classes),\n",
    "    torch.nn.LeakyReLU(),\n",
    "    dl.nn.XLinear(5, 1, n_classes),\n",
    "    torch.nn.Softmax(),\n",
    "]\n",
    "model = torch.nn.Sequential(*layers).to(device)\n",
    "\n",
    "optimizer = torch.optim.Adam(model.parameters(), lr=0.001)\n",
    "loss_form = torch.nn.BCELoss()\n",
    "model.train()\n",
    "need_pruning = True\n",
    "for epoch in range(6000):\n",
    "    # forward pass\n",
    "    optimizer.zero_grad()\n",
    "    y_pred = model(x_train)\n",
    "    # Compute Loss\n",
    "    loss = loss_form(y_pred, y_train)\n",
    "\n",
    "    for module in model.children():\n",
    "        if isinstance(module, torch.nn.Linear):\n",
    "            loss += 0.0001 * torch.norm(module.weight, 1)\n",
    "            loss += 0.0001 * torch.norm(module.bias, 1)\n",
    "            break\n",
    "\n",
    "    # backward pass\n",
    "    loss.backward()\n",
    "    optimizer.step()\n",
    "    \n",
    "    if epoch > 3000 and need_pruning:\n",
    "        prune_features(model, n_classes, device)\n",
    "        need_pruning = False\n",
    "\n",
    "    # compute accuracy\n",
    "    if epoch % 500 == 0:\n",
    "        y_pred_d = torch.argmax(y_pred, dim=1)\n",
    "        y_train_d = torch.argmax(y_train, dim=1)\n",
    "        accuracy = y_pred_d.eq(y_train_d).sum().item() / y_train.size(0)\n",
    "        print(f'Epoch {epoch}: train accuracy: {accuracy:.4f}')\n"
   ]
  },
  {
   "cell_type": "markdown",
   "metadata": {},
   "source": [
    "# Local explanations"
   ]
  },
  {
   "cell_type": "code",
   "execution_count": 8,
   "metadata": {
    "scrolled": false
   },
   "outputs": [
    {
     "name": "stdout",
     "output_type": "stream",
     "text": [
      "Input 3\n",
      "\tx=[1. 0. 0. 1. 0. 0. 0. 0. 1. 0. 0. 0. 0. 0. 0. 0. 0. 1. 0. 0. 1. 0. 0. 0.\n",
      " 0. 0. 0. 0. 0. 0. 0. 0. 0. 0. 1. 0. 0. 0. 0. 0. 0. 0. 0. 0. 0. 0. 0. 0.\n",
      " 0. 0.]\n",
      "\ty=[0. 0. 0. 0. 0. 0. 0. 0. 0. 0. 0. 0. 0. 0. 0. 0. 1. 0.]\n",
      "\ty=[0.   0.01 0.99 0.02 1.   0.   0.02 1.   0.   0.   0.   0.   0.   1.\n",
      " 0.   0.   1.   1.  ]\n",
      "\tExplanation: heart & big\n",
      "\n"
     ]
    }
   ],
   "source": [
    "np.set_printoptions(precision=2, suppress=True)\n",
    "outputs = []\n",
    "for i, (xin, yin) in enumerate(zip(x_train, y_train)):\n",
    "    model_reduced = get_reduced_model(model, xin).to(device)\n",
    "    for module in model_reduced.children():\n",
    "        if isinstance(module, torch.nn.Linear):\n",
    "            wa = module.weight.cpu().detach().numpy()\n",
    "            break\n",
    "    output = model_reduced(xin)\n",
    "    \n",
    "    pred_class = torch.argmax(output)\n",
    "    true_class = torch.argmax(y_train[i])\n",
    "\n",
    "    # generate local explanation only if the prediction is correct\n",
    "    if pred_class.eq(true_class):\n",
    "        local_explanation = fol.relunn.explain_local(model, x_train, y_train, xin.to(device), true_class, \n",
    "                                                     concepts, device)\n",
    "        print(f'Input {(i+1)}')\n",
    "        print(f'\\tx={xin.cpu().detach().numpy()}')\n",
    "        print(f'\\ty={y_train[i].cpu().detach().numpy()}')\n",
    "        print(f'\\ty={output.cpu().detach().numpy()}')\n",
    "        #print(f'\\tw={wa}')\n",
    "        print(f'\\tExplanation: {local_explanation}')\n",
    "        print()\n",
    "    outputs.append(output)\n",
    "    if i > 1:\n",
    "        break"
   ]
  },
  {
   "cell_type": "markdown",
   "metadata": {},
   "source": [
    "# Combine local explanations"
   ]
  },
  {
   "cell_type": "code",
   "execution_count": 9,
   "metadata": {},
   "outputs": [
    {
     "name": "stdout",
     "output_type": "stream",
     "text": [
      "Class 0 - Global explanation: \"square & very small\" - Accuracy: 1.0000\n",
      "Class 1 - Global explanation: \"square & small\" - Accuracy: 1.0000\n",
      "Class 2 - Global explanation: \"square & s-medium\" - Accuracy: 1.0000\n",
      "Class 3 - Global explanation: \"square & b-medium\" - Accuracy: 1.0000\n",
      "Class 4 - Global explanation: \"square & big\" - Accuracy: 1.0000\n",
      "Class 5 - Global explanation: \"square & very big\" - Accuracy: 1.0000\n",
      "Class 6 - Global explanation: \"ellipse & very small\" - Accuracy: 1.0000\n",
      "Class 7 - Global explanation: \"ellipse & small\" - Accuracy: 1.0000\n",
      "Class 8 - Global explanation: \"ellipse & s-medium\" - Accuracy: 1.0000\n",
      "Class 9 - Global explanation: \"ellipse & b-medium\" - Accuracy: 1.0000\n",
      "Class 10 - Global explanation: \"ellipse & big\" - Accuracy: 1.0000\n",
      "Class 11 - Global explanation: \"ellipse & very big\" - Accuracy: 1.0000\n",
      "Class 12 - Global explanation: \"heart & very small\" - Accuracy: 1.0000\n",
      "Class 13 - Global explanation: \"heart & small\" - Accuracy: 1.0000\n",
      "Class 14 - Global explanation: \"~square\" - Accuracy: 0.3908\n",
      "Class 15 - Global explanation: \"heart & b-medium\" - Accuracy: 1.0000\n",
      "Class 16 - Global explanation: \"heart & big\" - Accuracy: 1.0000\n",
      "Class 17 - Global explanation: \"heart & very big\" - Accuracy: 1.0000\n"
     ]
    }
   ],
   "source": [
    "y_train_d = torch.argmax(y_train, dim=1)\n",
    "for target_class in range(n_classes):\n",
    "    global_explanation = fol.explain_global(model, n_classes, \n",
    "                                            target_class=target_class, \n",
    "                                            concept_names=concepts, device=device)\n",
    "\n",
    "    explanation = fol.relunn.explain_global(model, n_classes, target_class, device=device)\n",
    "    if explanation not in ['False', 'True', 'The formula is too complex!']:\n",
    "        accuracy, _ = fol.relunn.test_explanation(explanation, target_class, x_train.cpu(), y_train.cpu())\n",
    "        print(f'Class {target_class} - Global explanation: \"{global_explanation}\" - Accuracy: {accuracy:.4f}')"
   ]
  }
 ],
 "metadata": {
  "kernelspec": {
   "display_name": "Python 3",
   "language": "python",
   "name": "python3"
  },
  "language_info": {
   "codemirror_mode": {
    "name": "ipython",
    "version": 3
   },
   "file_extension": ".py",
   "mimetype": "text/x-python",
   "name": "python",
   "nbconvert_exporter": "python",
   "pygments_lexer": "ipython3",
   "version": "3.8.5"
  }
 },
 "nbformat": 4,
 "nbformat_minor": 1
}
